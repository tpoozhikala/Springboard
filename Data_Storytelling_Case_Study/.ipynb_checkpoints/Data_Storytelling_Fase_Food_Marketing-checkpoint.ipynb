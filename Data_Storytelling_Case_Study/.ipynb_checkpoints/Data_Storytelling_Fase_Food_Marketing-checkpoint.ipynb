{
 "cells": [
  {
   "cell_type": "markdown",
   "metadata": {},
   "source": [
    "# Data_Storytelling_Case_Study: Fast Food Marketing<a id='2_Data_wrangling'></a>"
   ]
  },
  {
   "cell_type": "markdown",
   "metadata": {},
   "source": [
    "## Table of Contents<a id='2.1_Contents'></a>\n",
    "* 2. Bank_Churnrate_Data_Wrangling\n",
    "  * 2.1 Table of Contents\n",
    "  * 2.2 Introduction\n",
    "  * 2.3 Imports\n",
    "  * 2.4 Load Supply Chain Train Data\n",
    "  * 2.5 Explore The Data\n",
    "    * 2.5.1 Number Of Missing Values By Column & Assessing the Data\n",
    "    * 2.5.2 Categorical Features\n",
    "      * 2.5.2.1 Unique Categorical Data\n",
    "      * 2.5.2.2 Assessing User Base\n",
    "    * 2.5.3 Numeric Features\n",
    "      * 2.5.3.1 Numeric data summary\n",
    "      * 2.5.3.2 Distributions Of Feature Values\n",
    "  * 2.6 Target Feature (Attrition Flag)\n",
    "    * 2.11.1 Number Of Missing Values By Row - Resort\n",
    "  * 2.7 Save data\n",
    "  * 2.8 Summary\n"
   ]
  },
  {
   "cell_type": "markdown",
   "metadata": {},
   "source": [
    "## Introduction"
   ]
  },
  {
   "cell_type": "markdown",
   "metadata": {},
   "source": [
    "Fast Food Company dataset retreived from: https://www.kaggle.com/datasets/chebotinaa/fast-food-marketing-campaign-ab-test/\n",
    "details different columns as mentioned in the summary within the link of MarketID, MarketSize (size of the market given sales), LocationID, AgeofStore in years, Promotion (details which promotion was lauched for the store), week (which week of the 4 weeks of a month the promotion was tested on), and SalesinThousands (amount of sales given LocationID, Promotion, and week). \n",
    "\n",
    "The goal of this notebook is to glean any important insights or trends given the dataset to understand the customer user base and potential future work would be to given the features predict with Regression Analysis the SalesinThounsands for a store to assist with future company decision making."
   ]
  },
  {
   "cell_type": "markdown",
   "metadata": {},
   "source": [
    "## 2.3 Imports<a id='2.3_Imports'></a>"
   ]
  },
  {
   "cell_type": "markdown",
   "metadata": {},
   "source": [
    "Importing all appropriate packages in order to verify/clean the databset provided."
   ]
  },
  {
   "cell_type": "code",
   "execution_count": 1,
   "metadata": {},
   "outputs": [],
   "source": [
    "#Import pandas, matplotlib.pyplot, and seaborn\n",
    "import pandas as pd\n",
    "import matplotlib.pyplot as plt\n",
    "import seaborn as sns\n",
    "import numpy as np\n",
    "import os\n",
    "from ydata_profiling import ProfileReport"
   ]
  },
  {
   "cell_type": "markdown",
   "metadata": {},
   "source": [
    "## 2.4 Load Supply Chain Train Data"
   ]
  },
  {
   "cell_type": "code",
   "execution_count": 3,
   "metadata": {},
   "outputs": [],
   "source": [
    "# the supplied CSV data file is the raw_data directory\n",
    "food_df = pd.read_csv('C:/Users/tpooz/OneDrive/Desktop/Data_Science_BootCamp_2023/SpringBoard_Github/Springboard/Data_Storytelling_Case_Study/WA_Marketing_Campaign.csv')"
   ]
  },
  {
   "cell_type": "markdown",
   "metadata": {},
   "source": [
    "Auditing the dataset with .info() and .head() displaying the first few records."
   ]
  },
  {
   "cell_type": "code",
   "execution_count": 4,
   "metadata": {},
   "outputs": [
    {
     "name": "stdout",
     "output_type": "stream",
     "text": [
      "<class 'pandas.core.frame.DataFrame'>\n",
      "RangeIndex: 548 entries, 0 to 547\n",
      "Data columns (total 7 columns):\n",
      " #   Column            Non-Null Count  Dtype  \n",
      "---  ------            --------------  -----  \n",
      " 0   MarketID          548 non-null    int64  \n",
      " 1   MarketSize        548 non-null    object \n",
      " 2   LocationID        548 non-null    int64  \n",
      " 3   AgeOfStore        548 non-null    int64  \n",
      " 4   Promotion         548 non-null    int64  \n",
      " 5   week              548 non-null    int64  \n",
      " 6   SalesInThousands  548 non-null    float64\n",
      "dtypes: float64(1), int64(5), object(1)\n",
      "memory usage: 30.1+ KB\n"
     ]
    }
   ],
   "source": [
    "#info method on bank_df to see a summary of the data\n",
    "food_df.info()"
   ]
  },
  {
   "cell_type": "code",
   "execution_count": 5,
   "metadata": {
    "scrolled": true
   },
   "outputs": [
    {
     "data": {
      "text/html": [
       "<div>\n",
       "<style scoped>\n",
       "    .dataframe tbody tr th:only-of-type {\n",
       "        vertical-align: middle;\n",
       "    }\n",
       "\n",
       "    .dataframe tbody tr th {\n",
       "        vertical-align: top;\n",
       "    }\n",
       "\n",
       "    .dataframe thead th {\n",
       "        text-align: right;\n",
       "    }\n",
       "</style>\n",
       "<table border=\"1\" class=\"dataframe\">\n",
       "  <thead>\n",
       "    <tr style=\"text-align: right;\">\n",
       "      <th></th>\n",
       "      <th>MarketID</th>\n",
       "      <th>MarketSize</th>\n",
       "      <th>LocationID</th>\n",
       "      <th>AgeOfStore</th>\n",
       "      <th>Promotion</th>\n",
       "      <th>week</th>\n",
       "      <th>SalesInThousands</th>\n",
       "    </tr>\n",
       "  </thead>\n",
       "  <tbody>\n",
       "    <tr>\n",
       "      <th>0</th>\n",
       "      <td>1</td>\n",
       "      <td>Medium</td>\n",
       "      <td>1</td>\n",
       "      <td>4</td>\n",
       "      <td>3</td>\n",
       "      <td>1</td>\n",
       "      <td>33.73</td>\n",
       "    </tr>\n",
       "    <tr>\n",
       "      <th>1</th>\n",
       "      <td>1</td>\n",
       "      <td>Medium</td>\n",
       "      <td>1</td>\n",
       "      <td>4</td>\n",
       "      <td>3</td>\n",
       "      <td>2</td>\n",
       "      <td>35.67</td>\n",
       "    </tr>\n",
       "    <tr>\n",
       "      <th>2</th>\n",
       "      <td>1</td>\n",
       "      <td>Medium</td>\n",
       "      <td>1</td>\n",
       "      <td>4</td>\n",
       "      <td>3</td>\n",
       "      <td>3</td>\n",
       "      <td>29.03</td>\n",
       "    </tr>\n",
       "    <tr>\n",
       "      <th>3</th>\n",
       "      <td>1</td>\n",
       "      <td>Medium</td>\n",
       "      <td>1</td>\n",
       "      <td>4</td>\n",
       "      <td>3</td>\n",
       "      <td>4</td>\n",
       "      <td>39.25</td>\n",
       "    </tr>\n",
       "    <tr>\n",
       "      <th>4</th>\n",
       "      <td>1</td>\n",
       "      <td>Medium</td>\n",
       "      <td>2</td>\n",
       "      <td>5</td>\n",
       "      <td>2</td>\n",
       "      <td>1</td>\n",
       "      <td>27.81</td>\n",
       "    </tr>\n",
       "  </tbody>\n",
       "</table>\n",
       "</div>"
      ],
      "text/plain": [
       "   MarketID MarketSize  LocationID  AgeOfStore  Promotion  week  \\\n",
       "0         1     Medium           1           4          3     1   \n",
       "1         1     Medium           1           4          3     2   \n",
       "2         1     Medium           1           4          3     3   \n",
       "3         1     Medium           1           4          3     4   \n",
       "4         1     Medium           2           5          2     1   \n",
       "\n",
       "   SalesInThousands  \n",
       "0             33.73  \n",
       "1             35.67  \n",
       "2             29.03  \n",
       "3             39.25  \n",
       "4             27.81  "
      ]
     },
     "execution_count": 5,
     "metadata": {},
     "output_type": "execute_result"
    }
   ],
   "source": [
    "#head method on bank_df to print the first several rows of the data\n",
    "food_df.head()"
   ]
  },
  {
   "cell_type": "markdown",
   "metadata": {},
   "source": [
    "## 2.5 Explore The Data"
   ]
  },
  {
   "cell_type": "markdown",
   "metadata": {},
   "source": [
    "### 2.5.1 Assess Missing Values By Column"
   ]
  },
  {
   "cell_type": "markdown",
   "metadata": {},
   "source": [
    "Count the number of missing values in each column and sort them."
   ]
  },
  {
   "cell_type": "code",
   "execution_count": 6,
   "metadata": {},
   "outputs": [
    {
     "data": {
      "text/plain": [
       "MarketID            0\n",
       "MarketSize          0\n",
       "LocationID          0\n",
       "AgeOfStore          0\n",
       "Promotion           0\n",
       "week                0\n",
       "SalesInThousands    0\n",
       "dtype: int64"
      ]
     },
     "execution_count": 6,
     "metadata": {},
     "output_type": "execute_result"
    }
   ],
   "source": [
    "food_df.isna().sum()"
   ]
  },
  {
   "cell_type": "code",
   "execution_count": 7,
   "metadata": {},
   "outputs": [
    {
     "data": {
      "text/html": [
       "<div>\n",
       "<style scoped>\n",
       "    .dataframe tbody tr th:only-of-type {\n",
       "        vertical-align: middle;\n",
       "    }\n",
       "\n",
       "    .dataframe tbody tr th {\n",
       "        vertical-align: top;\n",
       "    }\n",
       "\n",
       "    .dataframe thead th {\n",
       "        text-align: right;\n",
       "    }\n",
       "</style>\n",
       "<table border=\"1\" class=\"dataframe\">\n",
       "  <thead>\n",
       "    <tr style=\"text-align: right;\">\n",
       "      <th></th>\n",
       "      <th>count</th>\n",
       "      <th>mean</th>\n",
       "      <th>std</th>\n",
       "      <th>min</th>\n",
       "      <th>25%</th>\n",
       "      <th>50%</th>\n",
       "      <th>75%</th>\n",
       "      <th>max</th>\n",
       "    </tr>\n",
       "  </thead>\n",
       "  <tbody>\n",
       "    <tr>\n",
       "      <th>MarketID</th>\n",
       "      <td>548.0</td>\n",
       "      <td>5.715328</td>\n",
       "      <td>2.877001</td>\n",
       "      <td>1.00</td>\n",
       "      <td>3.000</td>\n",
       "      <td>6.0</td>\n",
       "      <td>8.0000</td>\n",
       "      <td>10.00</td>\n",
       "    </tr>\n",
       "    <tr>\n",
       "      <th>LocationID</th>\n",
       "      <td>548.0</td>\n",
       "      <td>479.656934</td>\n",
       "      <td>287.973679</td>\n",
       "      <td>1.00</td>\n",
       "      <td>216.000</td>\n",
       "      <td>504.0</td>\n",
       "      <td>708.0000</td>\n",
       "      <td>920.00</td>\n",
       "    </tr>\n",
       "    <tr>\n",
       "      <th>AgeOfStore</th>\n",
       "      <td>548.0</td>\n",
       "      <td>8.503650</td>\n",
       "      <td>6.638345</td>\n",
       "      <td>1.00</td>\n",
       "      <td>4.000</td>\n",
       "      <td>7.0</td>\n",
       "      <td>12.0000</td>\n",
       "      <td>28.00</td>\n",
       "    </tr>\n",
       "    <tr>\n",
       "      <th>Promotion</th>\n",
       "      <td>548.0</td>\n",
       "      <td>2.029197</td>\n",
       "      <td>0.810729</td>\n",
       "      <td>1.00</td>\n",
       "      <td>1.000</td>\n",
       "      <td>2.0</td>\n",
       "      <td>3.0000</td>\n",
       "      <td>3.00</td>\n",
       "    </tr>\n",
       "    <tr>\n",
       "      <th>week</th>\n",
       "      <td>548.0</td>\n",
       "      <td>2.500000</td>\n",
       "      <td>1.119055</td>\n",
       "      <td>1.00</td>\n",
       "      <td>1.750</td>\n",
       "      <td>2.5</td>\n",
       "      <td>3.2500</td>\n",
       "      <td>4.00</td>\n",
       "    </tr>\n",
       "    <tr>\n",
       "      <th>SalesInThousands</th>\n",
       "      <td>548.0</td>\n",
       "      <td>53.466204</td>\n",
       "      <td>16.755216</td>\n",
       "      <td>17.34</td>\n",
       "      <td>42.545</td>\n",
       "      <td>50.2</td>\n",
       "      <td>60.4775</td>\n",
       "      <td>99.65</td>\n",
       "    </tr>\n",
       "  </tbody>\n",
       "</table>\n",
       "</div>"
      ],
      "text/plain": [
       "                  count        mean         std    min      25%    50%  \\\n",
       "MarketID          548.0    5.715328    2.877001   1.00    3.000    6.0   \n",
       "LocationID        548.0  479.656934  287.973679   1.00  216.000  504.0   \n",
       "AgeOfStore        548.0    8.503650    6.638345   1.00    4.000    7.0   \n",
       "Promotion         548.0    2.029197    0.810729   1.00    1.000    2.0   \n",
       "week              548.0    2.500000    1.119055   1.00    1.750    2.5   \n",
       "SalesInThousands  548.0   53.466204   16.755216  17.34   42.545   50.2   \n",
       "\n",
       "                       75%     max  \n",
       "MarketID            8.0000   10.00  \n",
       "LocationID        708.0000  920.00  \n",
       "AgeOfStore         12.0000   28.00  \n",
       "Promotion           3.0000    3.00  \n",
       "week                3.2500    4.00  \n",
       "SalesInThousands   60.4775   99.65  "
      ]
     },
     "execution_count": 7,
     "metadata": {},
     "output_type": "execute_result"
    }
   ],
   "source": [
    "#Assessing columns as well based on .describe() method\n",
    "food_df.describe().T"
   ]
  },
  {
   "cell_type": "code",
   "execution_count": 61,
   "metadata": {},
   "outputs": [
    {
     "data": {
      "application/vnd.jupyter.widget-view+json": {
       "model_id": "9088eeb0c95146ddb4998c6ab6687f29",
       "version_major": 2,
       "version_minor": 0
      },
      "text/plain": [
       "Summarize dataset:   0%|          | 0/5 [00:00<?, ?it/s]"
      ]
     },
     "metadata": {},
     "output_type": "display_data"
    },
    {
     "data": {
      "application/vnd.jupyter.widget-view+json": {
       "model_id": "d9bd2630af264093884335bc8265cfb8",
       "version_major": 2,
       "version_minor": 0
      },
      "text/plain": [
       "Generate report structure:   0%|          | 0/1 [00:00<?, ?it/s]"
      ]
     },
     "metadata": {},
     "output_type": "display_data"
    },
    {
     "data": {
      "application/vnd.jupyter.widget-view+json": {
       "model_id": "30921e0e869d48e991a0f78e4fe407fd",
       "version_major": 2,
       "version_minor": 0
      },
      "text/plain": [
       "Render HTML:   0%|          | 0/1 [00:00<?, ?it/s]"
      ]
     },
     "metadata": {},
     "output_type": "display_data"
    },
    {
     "data": {
      "application/vnd.jupyter.widget-view+json": {
       "model_id": "d0273ccce213476ebcbf99a5ef5ade02",
       "version_major": 2,
       "version_minor": 0
      },
      "text/plain": [
       "Export report to file:   0%|          | 0/1 [00:00<?, ?it/s]"
      ]
     },
     "metadata": {},
     "output_type": "display_data"
    }
   ],
   "source": [
    "#Created a ydata profile report to provide further analysis breakdown of dataset.\n",
    "profile = ProfileReport(bank_df, title=\"Profiling Report\")\n",
    "profile.to_file('Churn_Train_Dataset_Profile_Report.html')"
   ]
  },
  {
   "cell_type": "markdown",
   "metadata": {},
   "source": [
    "### 2.5.2 Categorical Features"
   ]
  },
  {
   "cell_type": "markdown",
   "metadata": {},
   "source": [
    "Examining of all categorical features for the dataset as sanity check to ydata profile report."
   ]
  },
  {
   "cell_type": "code",
   "execution_count": 9,
   "metadata": {},
   "outputs": [
    {
     "data": {
      "text/html": [
       "<div>\n",
       "<style scoped>\n",
       "    .dataframe tbody tr th:only-of-type {\n",
       "        vertical-align: middle;\n",
       "    }\n",
       "\n",
       "    .dataframe tbody tr th {\n",
       "        vertical-align: top;\n",
       "    }\n",
       "\n",
       "    .dataframe thead th {\n",
       "        text-align: right;\n",
       "    }\n",
       "</style>\n",
       "<table border=\"1\" class=\"dataframe\">\n",
       "  <thead>\n",
       "    <tr style=\"text-align: right;\">\n",
       "      <th></th>\n",
       "      <th>MarketSize</th>\n",
       "    </tr>\n",
       "  </thead>\n",
       "  <tbody>\n",
       "    <tr>\n",
       "      <th>0</th>\n",
       "      <td>Medium</td>\n",
       "    </tr>\n",
       "    <tr>\n",
       "      <th>1</th>\n",
       "      <td>Medium</td>\n",
       "    </tr>\n",
       "    <tr>\n",
       "      <th>2</th>\n",
       "      <td>Medium</td>\n",
       "    </tr>\n",
       "    <tr>\n",
       "      <th>3</th>\n",
       "      <td>Medium</td>\n",
       "    </tr>\n",
       "    <tr>\n",
       "      <th>4</th>\n",
       "      <td>Medium</td>\n",
       "    </tr>\n",
       "    <tr>\n",
       "      <th>...</th>\n",
       "      <td>...</td>\n",
       "    </tr>\n",
       "    <tr>\n",
       "      <th>543</th>\n",
       "      <td>Large</td>\n",
       "    </tr>\n",
       "    <tr>\n",
       "      <th>544</th>\n",
       "      <td>Large</td>\n",
       "    </tr>\n",
       "    <tr>\n",
       "      <th>545</th>\n",
       "      <td>Large</td>\n",
       "    </tr>\n",
       "    <tr>\n",
       "      <th>546</th>\n",
       "      <td>Large</td>\n",
       "    </tr>\n",
       "    <tr>\n",
       "      <th>547</th>\n",
       "      <td>Large</td>\n",
       "    </tr>\n",
       "  </tbody>\n",
       "</table>\n",
       "<p>548 rows × 1 columns</p>\n",
       "</div>"
      ],
      "text/plain": [
       "    MarketSize\n",
       "0       Medium\n",
       "1       Medium\n",
       "2       Medium\n",
       "3       Medium\n",
       "4       Medium\n",
       "..         ...\n",
       "543      Large\n",
       "544      Large\n",
       "545      Large\n",
       "546      Large\n",
       "547      Large\n",
       "\n",
       "[548 rows x 1 columns]"
      ]
     },
     "execution_count": 9,
     "metadata": {},
     "output_type": "execute_result"
    }
   ],
   "source": [
    "food_df.select_dtypes(object)"
   ]
  },
  {
   "cell_type": "markdown",
   "metadata": {},
   "source": [
    "#### 2.5.2.2 Assessing User Base"
   ]
  },
  {
   "cell_type": "markdown",
   "metadata": {},
   "source": [
    "The following steps will allow us to retreive information regarding who the majority of users are for this bank as also a sanity check to ydata profile report."
   ]
  },
  {
   "cell_type": "code",
   "execution_count": 31,
   "metadata": {},
   "outputs": [
    {
     "data": {
      "image/png": "[encoded data removed]",
      "text/plain": [
       "<Figure size 640x480 with 1 Axes>"
      ]
     },
     "metadata": {},
     "output_type": "display_data"
    }
   ],
   "source": [
    "#Plot distribution of MarketSize\n",
    "#Code to reorient order of categorical column found on https://stackoverflow.com/questions/44067951/sorting-categorical-labels-in-seaborn-chart\n",
    "sns.histplot(data=food_df.sort_values(by='MarketSize', ascending=False), x='MarketSize')\n",
    "plt.show()"
   ]
  },
  {
   "cell_type": "code",
   "execution_count": 13,
   "metadata": {},
   "outputs": [
    {
     "data": {
      "image/png": "[encoded data removed]",
      "text/plain": [
       "<Figure size 640x480 with 1 Axes>"
      ]
     },
     "metadata": {},
     "output_type": "display_data"
    }
   ],
   "source": [
    "sns.histplot(data=food_df , x='AgeOfStore')\n",
    "plt.show()"
   ]
  },
  {
   "cell_type": "code",
   "execution_count": 14,
   "metadata": {},
   "outputs": [
    {
     "data": {
      "image/png": "[encoded data removed]",
      "text/plain": [
       "<Figure size 640x480 with 1 Axes>"
      ]
     },
     "metadata": {},
     "output_type": "display_data"
    }
   ],
   "source": [
    "sns.histplot(data=food_df , x='LocationID')\n",
    "plt.show()"
   ]
  },
  {
   "cell_type": "code",
   "execution_count": 21,
   "metadata": {},
   "outputs": [
    {
     "data": {
      "image/png": "[encoded data removed]",
      "text/plain": [
       "<Figure size 640x480 with 1 Axes>"
      ]
     },
     "metadata": {},
     "output_type": "display_data"
    }
   ],
   "source": [
    "sns.histplot(data=food_df , x='SalesInThousands', hue='MarketSize')\n",
    "plt.show()"
   ]
  },
  {
   "cell_type": "code",
   "execution_count": 23,
   "metadata": {},
   "outputs": [
    {
     "data": {
      "image/png": "[encoded data removed]",
      "text/plain": [
       "<Figure size 640x480 with 1 Axes>"
      ]
     },
     "metadata": {},
     "output_type": "display_data"
    }
   ],
   "source": [
    "sns.histplot(data=food_df , x='SalesInThousands', hue='week', cbar=True)\n",
    "plt.show()"
   ]
  },
  {
   "cell_type": "code",
   "execution_count": 93,
   "metadata": {},
   "outputs": [
    {
     "data": {
      "image/png": "[encoded data removed]",
      "text/plain": [
       "<Figure size 640x480 with 1 Axes>"
      ]
     },
     "metadata": {},
     "output_type": "display_data"
    }
   ],
   "source": [
    "sns.histplot(data=bank_df , x='Card_Category')\n",
    "plt.show()"
   ]
  },
  {
   "cell_type": "markdown",
   "metadata": {},
   "source": [
    "Seems that most of the users who were/are subscribed to the bank were/are blue card holders, with a low income of less than 40k, somewhat distributed between married and single, mostly high school or college educated, and somewhat even distribution between male and female, with females slightly leading."
   ]
  },
  {
   "cell_type": "markdown",
   "metadata": {},
   "source": [
    "### 2.5.3 Numeric Features"
   ]
  },
  {
   "cell_type": "markdown",
   "metadata": {},
   "source": [
    "#### 2.5.3.1 Numeric data summary"
   ]
  },
  {
   "cell_type": "markdown",
   "metadata": {},
   "source": [
    "Performing a sanity check on numerical features along with the ydata profile report. "
   ]
  },
  {
   "cell_type": "code",
   "execution_count": 79,
   "metadata": {
    "scrolled": false
   },
   "outputs": [
    {
     "data": {
      "text/html": [
       "<div>\n",
       "<style scoped>\n",
       "    .dataframe tbody tr th:only-of-type {\n",
       "        vertical-align: middle;\n",
       "    }\n",
       "\n",
       "    .dataframe tbody tr th {\n",
       "        vertical-align: top;\n",
       "    }\n",
       "\n",
       "    .dataframe thead th {\n",
       "        text-align: right;\n",
       "    }\n",
       "</style>\n",
       "<table border=\"1\" class=\"dataframe\">\n",
       "  <thead>\n",
       "    <tr style=\"text-align: right;\">\n",
       "      <th></th>\n",
       "      <th>count</th>\n",
       "      <th>mean</th>\n",
       "      <th>std</th>\n",
       "      <th>min</th>\n",
       "      <th>25%</th>\n",
       "      <th>50%</th>\n",
       "      <th>75%</th>\n",
       "      <th>max</th>\n",
       "    </tr>\n",
       "  </thead>\n",
       "  <tbody>\n",
       "    <tr>\n",
       "      <th>train_idx</th>\n",
       "      <td>8101.0</td>\n",
       "      <td>4.050000e+03</td>\n",
       "      <td>2.338702e+03</td>\n",
       "      <td>0.0</td>\n",
       "      <td>2.025000e+03</td>\n",
       "      <td>4.050000e+03</td>\n",
       "      <td>6.075000e+03</td>\n",
       "      <td>8.100000e+03</td>\n",
       "    </tr>\n",
       "    <tr>\n",
       "      <th>CLIENTNUM</th>\n",
       "      <td>8101.0</td>\n",
       "      <td>7.391329e+08</td>\n",
       "      <td>3.691912e+07</td>\n",
       "      <td>708082083.0</td>\n",
       "      <td>7.130534e+08</td>\n",
       "      <td>7.178860e+08</td>\n",
       "      <td>7.728464e+08</td>\n",
       "      <td>8.283431e+08</td>\n",
       "    </tr>\n",
       "    <tr>\n",
       "      <th>Customer_Age</th>\n",
       "      <td>8101.0</td>\n",
       "      <td>4.630638e+01</td>\n",
       "      <td>8.022527e+00</td>\n",
       "      <td>26.0</td>\n",
       "      <td>4.100000e+01</td>\n",
       "      <td>4.600000e+01</td>\n",
       "      <td>5.200000e+01</td>\n",
       "      <td>7.000000e+01</td>\n",
       "    </tr>\n",
       "    <tr>\n",
       "      <th>Dependent_count</th>\n",
       "      <td>8101.0</td>\n",
       "      <td>2.334773e+00</td>\n",
       "      <td>1.289564e+00</td>\n",
       "      <td>0.0</td>\n",
       "      <td>1.000000e+00</td>\n",
       "      <td>2.000000e+00</td>\n",
       "      <td>3.000000e+00</td>\n",
       "      <td>5.000000e+00</td>\n",
       "    </tr>\n",
       "    <tr>\n",
       "      <th>Months_on_book</th>\n",
       "      <td>8101.0</td>\n",
       "      <td>3.592359e+01</td>\n",
       "      <td>8.024359e+00</td>\n",
       "      <td>13.0</td>\n",
       "      <td>3.100000e+01</td>\n",
       "      <td>3.600000e+01</td>\n",
       "      <td>4.000000e+01</td>\n",
       "      <td>5.600000e+01</td>\n",
       "    </tr>\n",
       "    <tr>\n",
       "      <th>Total_Relationship_Count</th>\n",
       "      <td>8101.0</td>\n",
       "      <td>3.813233e+00</td>\n",
       "      <td>1.551838e+00</td>\n",
       "      <td>1.0</td>\n",
       "      <td>3.000000e+00</td>\n",
       "      <td>4.000000e+00</td>\n",
       "      <td>5.000000e+00</td>\n",
       "      <td>6.000000e+00</td>\n",
       "    </tr>\n",
       "    <tr>\n",
       "      <th>Months_Inactive_12_mon</th>\n",
       "      <td>8101.0</td>\n",
       "      <td>2.346871e+00</td>\n",
       "      <td>1.014177e+00</td>\n",
       "      <td>0.0</td>\n",
       "      <td>2.000000e+00</td>\n",
       "      <td>2.000000e+00</td>\n",
       "      <td>3.000000e+00</td>\n",
       "      <td>6.000000e+00</td>\n",
       "    </tr>\n",
       "    <tr>\n",
       "      <th>Contacts_Count_12_mon</th>\n",
       "      <td>8101.0</td>\n",
       "      <td>2.450315e+00</td>\n",
       "      <td>1.100687e+00</td>\n",
       "      <td>0.0</td>\n",
       "      <td>2.000000e+00</td>\n",
       "      <td>2.000000e+00</td>\n",
       "      <td>3.000000e+00</td>\n",
       "      <td>6.000000e+00</td>\n",
       "    </tr>\n",
       "    <tr>\n",
       "      <th>Credit_Limit</th>\n",
       "      <td>8101.0</td>\n",
       "      <td>8.636548e+03</td>\n",
       "      <td>9.086420e+03</td>\n",
       "      <td>1438.3</td>\n",
       "      <td>2.555000e+03</td>\n",
       "      <td>4.549000e+03</td>\n",
       "      <td>1.112800e+04</td>\n",
       "      <td>3.451600e+04</td>\n",
       "    </tr>\n",
       "    <tr>\n",
       "      <th>Total_Revolving_Bal</th>\n",
       "      <td>8101.0</td>\n",
       "      <td>1.160383e+03</td>\n",
       "      <td>8.155043e+02</td>\n",
       "      <td>0.0</td>\n",
       "      <td>3.260000e+02</td>\n",
       "      <td>1.273000e+03</td>\n",
       "      <td>1.782000e+03</td>\n",
       "      <td>2.517000e+03</td>\n",
       "    </tr>\n",
       "    <tr>\n",
       "      <th>Avg_Open_To_Buy</th>\n",
       "      <td>8101.0</td>\n",
       "      <td>7.476165e+03</td>\n",
       "      <td>9.080280e+03</td>\n",
       "      <td>3.0</td>\n",
       "      <td>1.341000e+03</td>\n",
       "      <td>3.495000e+03</td>\n",
       "      <td>9.942000e+03</td>\n",
       "      <td>3.451600e+04</td>\n",
       "    </tr>\n",
       "    <tr>\n",
       "      <th>Total_Amt_Chng_Q4_Q1</th>\n",
       "      <td>8101.0</td>\n",
       "      <td>7.608088e-01</td>\n",
       "      <td>2.166678e-01</td>\n",
       "      <td>0.0</td>\n",
       "      <td>6.320000e-01</td>\n",
       "      <td>7.380000e-01</td>\n",
       "      <td>8.590000e-01</td>\n",
       "      <td>2.675000e+00</td>\n",
       "    </tr>\n",
       "    <tr>\n",
       "      <th>Total_Trans_Amt</th>\n",
       "      <td>8101.0</td>\n",
       "      <td>4.402988e+03</td>\n",
       "      <td>3.401710e+03</td>\n",
       "      <td>510.0</td>\n",
       "      <td>2.160000e+03</td>\n",
       "      <td>3.897000e+03</td>\n",
       "      <td>4.739000e+03</td>\n",
       "      <td>1.848400e+04</td>\n",
       "    </tr>\n",
       "    <tr>\n",
       "      <th>Total_Trans_Ct</th>\n",
       "      <td>8101.0</td>\n",
       "      <td>6.490779e+01</td>\n",
       "      <td>2.355638e+01</td>\n",
       "      <td>10.0</td>\n",
       "      <td>4.500000e+01</td>\n",
       "      <td>6.700000e+01</td>\n",
       "      <td>8.100000e+01</td>\n",
       "      <td>1.390000e+02</td>\n",
       "    </tr>\n",
       "    <tr>\n",
       "      <th>Total_Ct_Chng_Q4_Q1</th>\n",
       "      <td>8101.0</td>\n",
       "      <td>7.121762e-01</td>\n",
       "      <td>2.393208e-01</td>\n",
       "      <td>0.0</td>\n",
       "      <td>5.830000e-01</td>\n",
       "      <td>7.020000e-01</td>\n",
       "      <td>8.180000e-01</td>\n",
       "      <td>3.714000e+00</td>\n",
       "    </tr>\n",
       "    <tr>\n",
       "      <th>Avg_Utilization_Ratio</th>\n",
       "      <td>8101.0</td>\n",
       "      <td>2.731866e-01</td>\n",
       "      <td>2.745948e-01</td>\n",
       "      <td>0.0</td>\n",
       "      <td>2.200000e-02</td>\n",
       "      <td>1.740000e-01</td>\n",
       "      <td>4.970000e-01</td>\n",
       "      <td>9.990000e-01</td>\n",
       "    </tr>\n",
       "    <tr>\n",
       "      <th>Attrition_Flag</th>\n",
       "      <td>8101.0</td>\n",
       "      <td>8.395260e-01</td>\n",
       "      <td>3.670678e-01</td>\n",
       "      <td>0.0</td>\n",
       "      <td>1.000000e+00</td>\n",
       "      <td>1.000000e+00</td>\n",
       "      <td>1.000000e+00</td>\n",
       "      <td>1.000000e+00</td>\n",
       "    </tr>\n",
       "  </tbody>\n",
       "</table>\n",
       "</div>"
      ],
      "text/plain": [
       "                           count          mean           std          min  \\\n",
       "train_idx                 8101.0  4.050000e+03  2.338702e+03          0.0   \n",
       "CLIENTNUM                 8101.0  7.391329e+08  3.691912e+07  708082083.0   \n",
       "Customer_Age              8101.0  4.630638e+01  8.022527e+00         26.0   \n",
       "Dependent_count           8101.0  2.334773e+00  1.289564e+00          0.0   \n",
       "Months_on_book            8101.0  3.592359e+01  8.024359e+00         13.0   \n",
       "Total_Relationship_Count  8101.0  3.813233e+00  1.551838e+00          1.0   \n",
       "Months_Inactive_12_mon    8101.0  2.346871e+00  1.014177e+00          0.0   \n",
       "Contacts_Count_12_mon     8101.0  2.450315e+00  1.100687e+00          0.0   \n",
       "Credit_Limit              8101.0  8.636548e+03  9.086420e+03       1438.3   \n",
       "Total_Revolving_Bal       8101.0  1.160383e+03  8.155043e+02          0.0   \n",
       "Avg_Open_To_Buy           8101.0  7.476165e+03  9.080280e+03          3.0   \n",
       "Total_Amt_Chng_Q4_Q1      8101.0  7.608088e-01  2.166678e-01          0.0   \n",
       "Total_Trans_Amt           8101.0  4.402988e+03  3.401710e+03        510.0   \n",
       "Total_Trans_Ct            8101.0  6.490779e+01  2.355638e+01         10.0   \n",
       "Total_Ct_Chng_Q4_Q1       8101.0  7.121762e-01  2.393208e-01          0.0   \n",
       "Avg_Utilization_Ratio     8101.0  2.731866e-01  2.745948e-01          0.0   \n",
       "Attrition_Flag            8101.0  8.395260e-01  3.670678e-01          0.0   \n",
       "\n",
       "                                   25%           50%           75%  \\\n",
       "train_idx                 2.025000e+03  4.050000e+03  6.075000e+03   \n",
       "CLIENTNUM                 7.130534e+08  7.178860e+08  7.728464e+08   \n",
       "Customer_Age              4.100000e+01  4.600000e+01  5.200000e+01   \n",
       "Dependent_count           1.000000e+00  2.000000e+00  3.000000e+00   \n",
       "Months_on_book            3.100000e+01  3.600000e+01  4.000000e+01   \n",
       "Total_Relationship_Count  3.000000e+00  4.000000e+00  5.000000e+00   \n",
       "Months_Inactive_12_mon    2.000000e+00  2.000000e+00  3.000000e+00   \n",
       "Contacts_Count_12_mon     2.000000e+00  2.000000e+00  3.000000e+00   \n",
       "Credit_Limit              2.555000e+03  4.549000e+03  1.112800e+04   \n",
       "Total_Revolving_Bal       3.260000e+02  1.273000e+03  1.782000e+03   \n",
       "Avg_Open_To_Buy           1.341000e+03  3.495000e+03  9.942000e+03   \n",
       "Total_Amt_Chng_Q4_Q1      6.320000e-01  7.380000e-01  8.590000e-01   \n",
       "Total_Trans_Amt           2.160000e+03  3.897000e+03  4.739000e+03   \n",
       "Total_Trans_Ct            4.500000e+01  6.700000e+01  8.100000e+01   \n",
       "Total_Ct_Chng_Q4_Q1       5.830000e-01  7.020000e-01  8.180000e-01   \n",
       "Avg_Utilization_Ratio     2.200000e-02  1.740000e-01  4.970000e-01   \n",
       "Attrition_Flag            1.000000e+00  1.000000e+00  1.000000e+00   \n",
       "\n",
       "                                   max  \n",
       "train_idx                 8.100000e+03  \n",
       "CLIENTNUM                 8.283431e+08  \n",
       "Customer_Age              7.000000e+01  \n",
       "Dependent_count           5.000000e+00  \n",
       "Months_on_book            5.600000e+01  \n",
       "Total_Relationship_Count  6.000000e+00  \n",
       "Months_Inactive_12_mon    6.000000e+00  \n",
       "Contacts_Count_12_mon     6.000000e+00  \n",
       "Credit_Limit              3.451600e+04  \n",
       "Total_Revolving_Bal       2.517000e+03  \n",
       "Avg_Open_To_Buy           3.451600e+04  \n",
       "Total_Amt_Chng_Q4_Q1      2.675000e+00  \n",
       "Total_Trans_Amt           1.848400e+04  \n",
       "Total_Trans_Ct            1.390000e+02  \n",
       "Total_Ct_Chng_Q4_Q1       3.714000e+00  \n",
       "Avg_Utilization_Ratio     9.990000e-01  \n",
       "Attrition_Flag            1.000000e+00  "
      ]
     },
     "execution_count": 79,
     "metadata": {},
     "output_type": "execute_result"
    }
   ],
   "source": [
    "#Call ski_data's `describe` method for a statistical summary of the numerical columns\n",
    "#Hint: there are fewer summary stat columns than features, so displaying the transpose\n",
    "#will be useful again\n",
    "bank_df.describe().T"
   ]
  },
  {
   "cell_type": "markdown",
   "metadata": {},
   "source": [
    "#### 2.5.3.2 Distributions Of Numeric Feature Values"
   ]
  },
  {
   "cell_type": "code",
   "execution_count": 80,
   "metadata": {},
   "outputs": [
    {
     "data": {
      "image/png": "[encoded data removed]",
      "text/plain": [
       "<Figure size 1500x1000 with 20 Axes>"
      ]
     },
     "metadata": {},
     "output_type": "display_data"
    }
   ],
   "source": [
    "#Code statement below comes from ski_data project but used here to determine distribution of features as well.\n",
    "\n",
    "bank_df.hist(figsize = (15,10))\n",
    "plt.subplots_adjust(hspace=0.5);"
   ]
  },
  {
   "cell_type": "markdown",
   "metadata": {},
   "source": [
    "Based on this analysis, there seems to be left skews for Credit_Limit, Avg_Open_to_Buy, Total_Trans_Amt, and Avg_Utilization_Ratio columns. "
   ]
  },
  {
   "cell_type": "markdown",
   "metadata": {},
   "source": [
    "## 2.6 Target Feature (Attrition Flag)"
   ]
  },
  {
   "cell_type": "markdown",
   "metadata": {},
   "source": [
    "Attrition Flag column will be used as the target feature as this provides whether or not currently the customer has attrited from the bank and therefore what facotrs seem to be likely correlated with the column. "
   ]
  },
  {
   "cell_type": "code",
   "execution_count": 43,
   "metadata": {
    "scrolled": true
   },
   "outputs": [
    {
     "name": "stderr",
     "output_type": "stream",
     "text": [
      "C:\\Users\\tpooz\\AppData\\Local\\Temp\\ipykernel_22396\\2453432335.py:1: FutureWarning: The default value of numeric_only in DataFrame.corr is deprecated. In a future version, it will default to False. Select only valid columns or specify the value of numeric_only to silence this warning.\n",
      "  bank_df.corr()\n"
     ]
    },
    {
     "data": {
      "text/html": [
       "<div>\n",
       "<style scoped>\n",
       "    .dataframe tbody tr th:only-of-type {\n",
       "        vertical-align: middle;\n",
       "    }\n",
       "\n",
       "    .dataframe tbody tr th {\n",
       "        vertical-align: top;\n",
       "    }\n",
       "\n",
       "    .dataframe thead th {\n",
       "        text-align: right;\n",
       "    }\n",
       "</style>\n",
       "<table border=\"1\" class=\"dataframe\">\n",
       "  <thead>\n",
       "    <tr style=\"text-align: right;\">\n",
       "      <th></th>\n",
       "      <th>train_idx</th>\n",
       "      <th>CLIENTNUM</th>\n",
       "      <th>Customer_Age</th>\n",
       "      <th>Dependent_count</th>\n",
       "      <th>Months_on_book</th>\n",
       "      <th>Total_Relationship_Count</th>\n",
       "      <th>Months_Inactive_12_mon</th>\n",
       "      <th>Contacts_Count_12_mon</th>\n",
       "      <th>Credit_Limit</th>\n",
       "      <th>Total_Revolving_Bal</th>\n",
       "      <th>Avg_Open_To_Buy</th>\n",
       "      <th>Total_Amt_Chng_Q4_Q1</th>\n",
       "      <th>Total_Trans_Amt</th>\n",
       "      <th>Total_Trans_Ct</th>\n",
       "      <th>Total_Ct_Chng_Q4_Q1</th>\n",
       "      <th>Avg_Utilization_Ratio</th>\n",
       "      <th>Attrition_Flag</th>\n",
       "    </tr>\n",
       "  </thead>\n",
       "  <tbody>\n",
       "    <tr>\n",
       "      <th>train_idx</th>\n",
       "      <td>1.000000</td>\n",
       "      <td>0.003892</td>\n",
       "      <td>-0.001941</td>\n",
       "      <td>-0.003070</td>\n",
       "      <td>0.010441</td>\n",
       "      <td>-0.007855</td>\n",
       "      <td>0.002101</td>\n",
       "      <td>0.001954</td>\n",
       "      <td>-0.009055</td>\n",
       "      <td>-0.003896</td>\n",
       "      <td>-0.008711</td>\n",
       "      <td>0.003627</td>\n",
       "      <td>0.019622</td>\n",
       "      <td>0.019790</td>\n",
       "      <td>0.000206</td>\n",
       "      <td>-0.000519</td>\n",
       "      <td>0.000638</td>\n",
       "    </tr>\n",
       "    <tr>\n",
       "      <th>CLIENTNUM</th>\n",
       "      <td>0.003892</td>\n",
       "      <td>1.000000</td>\n",
       "      <td>0.007326</td>\n",
       "      <td>-0.007080</td>\n",
       "      <td>0.134635</td>\n",
       "      <td>0.009358</td>\n",
       "      <td>0.006672</td>\n",
       "      <td>0.005028</td>\n",
       "      <td>0.008543</td>\n",
       "      <td>-0.001445</td>\n",
       "      <td>0.008679</td>\n",
       "      <td>0.021020</td>\n",
       "      <td>-0.021440</td>\n",
       "      <td>-0.003796</td>\n",
       "      <td>0.002594</td>\n",
       "      <td>-0.004018</td>\n",
       "      <td>0.047136</td>\n",
       "    </tr>\n",
       "    <tr>\n",
       "      <th>Customer_Age</th>\n",
       "      <td>-0.001941</td>\n",
       "      <td>0.007326</td>\n",
       "      <td>1.000000</td>\n",
       "      <td>-0.115442</td>\n",
       "      <td>0.792430</td>\n",
       "      <td>-0.008057</td>\n",
       "      <td>0.050469</td>\n",
       "      <td>-0.000541</td>\n",
       "      <td>0.001502</td>\n",
       "      <td>0.010867</td>\n",
       "      <td>0.000527</td>\n",
       "      <td>-0.068084</td>\n",
       "      <td>-0.047228</td>\n",
       "      <td>-0.070586</td>\n",
       "      <td>-0.004960</td>\n",
       "      <td>0.006002</td>\n",
       "      <td>-0.035203</td>\n",
       "    </tr>\n",
       "    <tr>\n",
       "      <th>Dependent_count</th>\n",
       "      <td>-0.003070</td>\n",
       "      <td>-0.007080</td>\n",
       "      <td>-0.115442</td>\n",
       "      <td>1.000000</td>\n",
       "      <td>-0.101181</td>\n",
       "      <td>-0.033282</td>\n",
       "      <td>0.000310</td>\n",
       "      <td>-0.045685</td>\n",
       "      <td>0.070340</td>\n",
       "      <td>0.002747</td>\n",
       "      <td>0.070141</td>\n",
       "      <td>-0.036242</td>\n",
       "      <td>0.017063</td>\n",
       "      <td>0.040036</td>\n",
       "      <td>0.005435</td>\n",
       "      <td>-0.035069</td>\n",
       "      <td>-0.020550</td>\n",
       "    </tr>\n",
       "    <tr>\n",
       "      <th>Months_on_book</th>\n",
       "      <td>0.010441</td>\n",
       "      <td>0.134635</td>\n",
       "      <td>0.792430</td>\n",
       "      <td>-0.101181</td>\n",
       "      <td>1.000000</td>\n",
       "      <td>-0.005419</td>\n",
       "      <td>0.077788</td>\n",
       "      <td>0.000933</td>\n",
       "      <td>0.006899</td>\n",
       "      <td>0.010743</td>\n",
       "      <td>0.005939</td>\n",
       "      <td>-0.058055</td>\n",
       "      <td>-0.040674</td>\n",
       "      <td>-0.053967</td>\n",
       "      <td>-0.009988</td>\n",
       "      <td>-0.004777</td>\n",
       "      <td>-0.022270</td>\n",
       "    </tr>\n",
       "    <tr>\n",
       "      <th>Total_Relationship_Count</th>\n",
       "      <td>-0.007855</td>\n",
       "      <td>0.009358</td>\n",
       "      <td>-0.008057</td>\n",
       "      <td>-0.033282</td>\n",
       "      <td>-0.005419</td>\n",
       "      <td>1.000000</td>\n",
       "      <td>-0.011546</td>\n",
       "      <td>0.053871</td>\n",
       "      <td>-0.072460</td>\n",
       "      <td>0.012873</td>\n",
       "      <td>-0.073665</td>\n",
       "      <td>0.049851</td>\n",
       "      <td>-0.345336</td>\n",
       "      <td>-0.235047</td>\n",
       "      <td>0.034198</td>\n",
       "      <td>0.068130</td>\n",
       "      <td>0.150889</td>\n",
       "    </tr>\n",
       "    <tr>\n",
       "      <th>Months_Inactive_12_mon</th>\n",
       "      <td>0.002101</td>\n",
       "      <td>0.006672</td>\n",
       "      <td>0.050469</td>\n",
       "      <td>0.000310</td>\n",
       "      <td>0.077788</td>\n",
       "      <td>-0.011546</td>\n",
       "      <td>1.000000</td>\n",
       "      <td>0.030814</td>\n",
       "      <td>-0.022438</td>\n",
       "      <td>-0.040999</td>\n",
       "      <td>-0.018771</td>\n",
       "      <td>-0.045081</td>\n",
       "      <td>-0.036037</td>\n",
       "      <td>-0.038684</td>\n",
       "      <td>-0.048167</td>\n",
       "      <td>-0.003389</td>\n",
       "      <td>-0.156552</td>\n",
       "    </tr>\n",
       "    <tr>\n",
       "      <th>Contacts_Count_12_mon</th>\n",
       "      <td>0.001954</td>\n",
       "      <td>0.005028</td>\n",
       "      <td>-0.000541</td>\n",
       "      <td>-0.045685</td>\n",
       "      <td>0.000933</td>\n",
       "      <td>0.053871</td>\n",
       "      <td>0.030814</td>\n",
       "      <td>1.000000</td>\n",
       "      <td>0.028083</td>\n",
       "      <td>-0.060309</td>\n",
       "      <td>0.033518</td>\n",
       "      <td>-0.018638</td>\n",
       "      <td>-0.118393</td>\n",
       "      <td>-0.161603</td>\n",
       "      <td>-0.092385</td>\n",
       "      <td>-0.063219</td>\n",
       "      <td>-0.211327</td>\n",
       "    </tr>\n",
       "    <tr>\n",
       "      <th>Credit_Limit</th>\n",
       "      <td>-0.009055</td>\n",
       "      <td>0.008543</td>\n",
       "      <td>0.001502</td>\n",
       "      <td>0.070340</td>\n",
       "      <td>0.006899</td>\n",
       "      <td>-0.072460</td>\n",
       "      <td>-0.022438</td>\n",
       "      <td>0.028083</td>\n",
       "      <td>1.000000</td>\n",
       "      <td>0.052401</td>\n",
       "      <td>0.995970</td>\n",
       "      <td>0.009813</td>\n",
       "      <td>0.170462</td>\n",
       "      <td>0.075919</td>\n",
       "      <td>-0.007696</td>\n",
       "      <td>-0.480605</td>\n",
       "      <td>0.024437</td>\n",
       "    </tr>\n",
       "    <tr>\n",
       "      <th>Total_Revolving_Bal</th>\n",
       "      <td>-0.003896</td>\n",
       "      <td>-0.001445</td>\n",
       "      <td>0.010867</td>\n",
       "      <td>0.002747</td>\n",
       "      <td>0.010743</td>\n",
       "      <td>0.012873</td>\n",
       "      <td>-0.040999</td>\n",
       "      <td>-0.060309</td>\n",
       "      <td>0.052401</td>\n",
       "      <td>1.000000</td>\n",
       "      <td>-0.037374</td>\n",
       "      <td>0.053703</td>\n",
       "      <td>0.070523</td>\n",
       "      <td>0.065448</td>\n",
       "      <td>0.088805</td>\n",
       "      <td>0.619852</td>\n",
       "      <td>0.263335</td>\n",
       "    </tr>\n",
       "    <tr>\n",
       "      <th>Avg_Open_To_Buy</th>\n",
       "      <td>-0.008711</td>\n",
       "      <td>0.008679</td>\n",
       "      <td>0.000527</td>\n",
       "      <td>0.070141</td>\n",
       "      <td>0.005939</td>\n",
       "      <td>-0.073665</td>\n",
       "      <td>-0.018771</td>\n",
       "      <td>0.033518</td>\n",
       "      <td>0.995970</td>\n",
       "      <td>-0.037374</td>\n",
       "      <td>1.000000</td>\n",
       "      <td>0.004996</td>\n",
       "      <td>0.164244</td>\n",
       "      <td>0.070093</td>\n",
       "      <td>-0.015677</td>\n",
       "      <td>-0.536599</td>\n",
       "      <td>0.000803</td>\n",
       "    </tr>\n",
       "    <tr>\n",
       "      <th>Total_Amt_Chng_Q4_Q1</th>\n",
       "      <td>0.003627</td>\n",
       "      <td>0.021020</td>\n",
       "      <td>-0.068084</td>\n",
       "      <td>-0.036242</td>\n",
       "      <td>-0.058055</td>\n",
       "      <td>0.049851</td>\n",
       "      <td>-0.045081</td>\n",
       "      <td>-0.018638</td>\n",
       "      <td>0.009813</td>\n",
       "      <td>0.053703</td>\n",
       "      <td>0.004996</td>\n",
       "      <td>1.000000</td>\n",
       "      <td>0.035099</td>\n",
       "      <td>0.000353</td>\n",
       "      <td>0.373367</td>\n",
       "      <td>0.033583</td>\n",
       "      <td>0.128559</td>\n",
       "    </tr>\n",
       "    <tr>\n",
       "      <th>Total_Trans_Amt</th>\n",
       "      <td>0.019622</td>\n",
       "      <td>-0.021440</td>\n",
       "      <td>-0.047228</td>\n",
       "      <td>0.017063</td>\n",
       "      <td>-0.040674</td>\n",
       "      <td>-0.345336</td>\n",
       "      <td>-0.036037</td>\n",
       "      <td>-0.118393</td>\n",
       "      <td>0.170462</td>\n",
       "      <td>0.070523</td>\n",
       "      <td>0.164244</td>\n",
       "      <td>0.035099</td>\n",
       "      <td>1.000000</td>\n",
       "      <td>0.807723</td>\n",
       "      <td>0.086901</td>\n",
       "      <td>-0.076670</td>\n",
       "      <td>0.178078</td>\n",
       "    </tr>\n",
       "    <tr>\n",
       "      <th>Total_Trans_Ct</th>\n",
       "      <td>0.019790</td>\n",
       "      <td>-0.003796</td>\n",
       "      <td>-0.070586</td>\n",
       "      <td>0.040036</td>\n",
       "      <td>-0.053967</td>\n",
       "      <td>-0.235047</td>\n",
       "      <td>-0.038684</td>\n",
       "      <td>-0.161603</td>\n",
       "      <td>0.075919</td>\n",
       "      <td>0.065448</td>\n",
       "      <td>0.070093</td>\n",
       "      <td>0.000353</td>\n",
       "      <td>0.807723</td>\n",
       "      <td>1.000000</td>\n",
       "      <td>0.114013</td>\n",
       "      <td>0.010942</td>\n",
       "      <td>0.380618</td>\n",
       "    </tr>\n",
       "    <tr>\n",
       "      <th>Total_Ct_Chng_Q4_Q1</th>\n",
       "      <td>0.000206</td>\n",
       "      <td>0.002594</td>\n",
       "      <td>-0.004960</td>\n",
       "      <td>0.005435</td>\n",
       "      <td>-0.009988</td>\n",
       "      <td>0.034198</td>\n",
       "      <td>-0.048167</td>\n",
       "      <td>-0.092385</td>\n",
       "      <td>-0.007696</td>\n",
       "      <td>0.088805</td>\n",
       "      <td>-0.015677</td>\n",
       "      <td>0.373367</td>\n",
       "      <td>0.086901</td>\n",
       "      <td>0.114013</td>\n",
       "      <td>1.000000</td>\n",
       "      <td>0.074430</td>\n",
       "      <td>0.288937</td>\n",
       "    </tr>\n",
       "    <tr>\n",
       "      <th>Avg_Utilization_Ratio</th>\n",
       "      <td>-0.000519</td>\n",
       "      <td>-0.004018</td>\n",
       "      <td>0.006002</td>\n",
       "      <td>-0.035069</td>\n",
       "      <td>-0.004777</td>\n",
       "      <td>0.068130</td>\n",
       "      <td>-0.003389</td>\n",
       "      <td>-0.063219</td>\n",
       "      <td>-0.480605</td>\n",
       "      <td>0.619852</td>\n",
       "      <td>-0.536599</td>\n",
       "      <td>0.033583</td>\n",
       "      <td>-0.076670</td>\n",
       "      <td>0.010942</td>\n",
       "      <td>0.074430</td>\n",
       "      <td>1.000000</td>\n",
       "      <td>0.179838</td>\n",
       "    </tr>\n",
       "    <tr>\n",
       "      <th>Attrition_Flag</th>\n",
       "      <td>0.000638</td>\n",
       "      <td>0.047136</td>\n",
       "      <td>-0.035203</td>\n",
       "      <td>-0.020550</td>\n",
       "      <td>-0.022270</td>\n",
       "      <td>0.150889</td>\n",
       "      <td>-0.156552</td>\n",
       "      <td>-0.211327</td>\n",
       "      <td>0.024437</td>\n",
       "      <td>0.263335</td>\n",
       "      <td>0.000803</td>\n",
       "      <td>0.128559</td>\n",
       "      <td>0.178078</td>\n",
       "      <td>0.380618</td>\n",
       "      <td>0.288937</td>\n",
       "      <td>0.179838</td>\n",
       "      <td>1.000000</td>\n",
       "    </tr>\n",
       "  </tbody>\n",
       "</table>\n",
       "</div>"
      ],
      "text/plain": [
       "                          train_idx  CLIENTNUM  Customer_Age  Dependent_count  \\\n",
       "train_idx                  1.000000   0.003892     -0.001941        -0.003070   \n",
       "CLIENTNUM                  0.003892   1.000000      0.007326        -0.007080   \n",
       "Customer_Age              -0.001941   0.007326      1.000000        -0.115442   \n",
       "Dependent_count           -0.003070  -0.007080     -0.115442         1.000000   \n",
       "Months_on_book             0.010441   0.134635      0.792430        -0.101181   \n",
       "Total_Relationship_Count  -0.007855   0.009358     -0.008057        -0.033282   \n",
       "Months_Inactive_12_mon     0.002101   0.006672      0.050469         0.000310   \n",
       "Contacts_Count_12_mon      0.001954   0.005028     -0.000541        -0.045685   \n",
       "Credit_Limit              -0.009055   0.008543      0.001502         0.070340   \n",
       "Total_Revolving_Bal       -0.003896  -0.001445      0.010867         0.002747   \n",
       "Avg_Open_To_Buy           -0.008711   0.008679      0.000527         0.070141   \n",
       "Total_Amt_Chng_Q4_Q1       0.003627   0.021020     -0.068084        -0.036242   \n",
       "Total_Trans_Amt            0.019622  -0.021440     -0.047228         0.017063   \n",
       "Total_Trans_Ct             0.019790  -0.003796     -0.070586         0.040036   \n",
       "Total_Ct_Chng_Q4_Q1        0.000206   0.002594     -0.004960         0.005435   \n",
       "Avg_Utilization_Ratio     -0.000519  -0.004018      0.006002        -0.035069   \n",
       "Attrition_Flag             0.000638   0.047136     -0.035203        -0.020550   \n",
       "\n",
       "                          Months_on_book  Total_Relationship_Count  \\\n",
       "train_idx                       0.010441                 -0.007855   \n",
       "CLIENTNUM                       0.134635                  0.009358   \n",
       "Customer_Age                    0.792430                 -0.008057   \n",
       "Dependent_count                -0.101181                 -0.033282   \n",
       "Months_on_book                  1.000000                 -0.005419   \n",
       "Total_Relationship_Count       -0.005419                  1.000000   \n",
       "Months_Inactive_12_mon          0.077788                 -0.011546   \n",
       "Contacts_Count_12_mon           0.000933                  0.053871   \n",
       "Credit_Limit                    0.006899                 -0.072460   \n",
       "Total_Revolving_Bal             0.010743                  0.012873   \n",
       "Avg_Open_To_Buy                 0.005939                 -0.073665   \n",
       "Total_Amt_Chng_Q4_Q1           -0.058055                  0.049851   \n",
       "Total_Trans_Amt                -0.040674                 -0.345336   \n",
       "Total_Trans_Ct                 -0.053967                 -0.235047   \n",
       "Total_Ct_Chng_Q4_Q1            -0.009988                  0.034198   \n",
       "Avg_Utilization_Ratio          -0.004777                  0.068130   \n",
       "Attrition_Flag                 -0.022270                  0.150889   \n",
       "\n",
       "                          Months_Inactive_12_mon  Contacts_Count_12_mon  \\\n",
       "train_idx                               0.002101               0.001954   \n",
       "CLIENTNUM                               0.006672               0.005028   \n",
       "Customer_Age                            0.050469              -0.000541   \n",
       "Dependent_count                         0.000310              -0.045685   \n",
       "Months_on_book                          0.077788               0.000933   \n",
       "Total_Relationship_Count               -0.011546               0.053871   \n",
       "Months_Inactive_12_mon                  1.000000               0.030814   \n",
       "Contacts_Count_12_mon                   0.030814               1.000000   \n",
       "Credit_Limit                           -0.022438               0.028083   \n",
       "Total_Revolving_Bal                    -0.040999              -0.060309   \n",
       "Avg_Open_To_Buy                        -0.018771               0.033518   \n",
       "Total_Amt_Chng_Q4_Q1                   -0.045081              -0.018638   \n",
       "Total_Trans_Amt                        -0.036037              -0.118393   \n",
       "Total_Trans_Ct                         -0.038684              -0.161603   \n",
       "Total_Ct_Chng_Q4_Q1                    -0.048167              -0.092385   \n",
       "Avg_Utilization_Ratio                  -0.003389              -0.063219   \n",
       "Attrition_Flag                         -0.156552              -0.211327   \n",
       "\n",
       "                          Credit_Limit  Total_Revolving_Bal  Avg_Open_To_Buy  \\\n",
       "train_idx                    -0.009055            -0.003896        -0.008711   \n",
       "CLIENTNUM                     0.008543            -0.001445         0.008679   \n",
       "Customer_Age                  0.001502             0.010867         0.000527   \n",
       "Dependent_count               0.070340             0.002747         0.070141   \n",
       "Months_on_book                0.006899             0.010743         0.005939   \n",
       "Total_Relationship_Count     -0.072460             0.012873        -0.073665   \n",
       "Months_Inactive_12_mon       -0.022438            -0.040999        -0.018771   \n",
       "Contacts_Count_12_mon         0.028083            -0.060309         0.033518   \n",
       "Credit_Limit                  1.000000             0.052401         0.995970   \n",
       "Total_Revolving_Bal           0.052401             1.000000        -0.037374   \n",
       "Avg_Open_To_Buy               0.995970            -0.037374         1.000000   \n",
       "Total_Amt_Chng_Q4_Q1          0.009813             0.053703         0.004996   \n",
       "Total_Trans_Amt               0.170462             0.070523         0.164244   \n",
       "Total_Trans_Ct                0.075919             0.065448         0.070093   \n",
       "Total_Ct_Chng_Q4_Q1          -0.007696             0.088805        -0.015677   \n",
       "Avg_Utilization_Ratio        -0.480605             0.619852        -0.536599   \n",
       "Attrition_Flag                0.024437             0.263335         0.000803   \n",
       "\n",
       "                          Total_Amt_Chng_Q4_Q1  Total_Trans_Amt  \\\n",
       "train_idx                             0.003627         0.019622   \n",
       "CLIENTNUM                             0.021020        -0.021440   \n",
       "Customer_Age                         -0.068084        -0.047228   \n",
       "Dependent_count                      -0.036242         0.017063   \n",
       "Months_on_book                       -0.058055        -0.040674   \n",
       "Total_Relationship_Count              0.049851        -0.345336   \n",
       "Months_Inactive_12_mon               -0.045081        -0.036037   \n",
       "Contacts_Count_12_mon                -0.018638        -0.118393   \n",
       "Credit_Limit                          0.009813         0.170462   \n",
       "Total_Revolving_Bal                   0.053703         0.070523   \n",
       "Avg_Open_To_Buy                       0.004996         0.164244   \n",
       "Total_Amt_Chng_Q4_Q1                  1.000000         0.035099   \n",
       "Total_Trans_Amt                       0.035099         1.000000   \n",
       "Total_Trans_Ct                        0.000353         0.807723   \n",
       "Total_Ct_Chng_Q4_Q1                   0.373367         0.086901   \n",
       "Avg_Utilization_Ratio                 0.033583        -0.076670   \n",
       "Attrition_Flag                        0.128559         0.178078   \n",
       "\n",
       "                          Total_Trans_Ct  Total_Ct_Chng_Q4_Q1  \\\n",
       "train_idx                       0.019790             0.000206   \n",
       "CLIENTNUM                      -0.003796             0.002594   \n",
       "Customer_Age                   -0.070586            -0.004960   \n",
       "Dependent_count                 0.040036             0.005435   \n",
       "Months_on_book                 -0.053967            -0.009988   \n",
       "Total_Relationship_Count       -0.235047             0.034198   \n",
       "Months_Inactive_12_mon         -0.038684            -0.048167   \n",
       "Contacts_Count_12_mon          -0.161603            -0.092385   \n",
       "Credit_Limit                    0.075919            -0.007696   \n",
       "Total_Revolving_Bal             0.065448             0.088805   \n",
       "Avg_Open_To_Buy                 0.070093            -0.015677   \n",
       "Total_Amt_Chng_Q4_Q1            0.000353             0.373367   \n",
       "Total_Trans_Amt                 0.807723             0.086901   \n",
       "Total_Trans_Ct                  1.000000             0.114013   \n",
       "Total_Ct_Chng_Q4_Q1             0.114013             1.000000   \n",
       "Avg_Utilization_Ratio           0.010942             0.074430   \n",
       "Attrition_Flag                  0.380618             0.288937   \n",
       "\n",
       "                          Avg_Utilization_Ratio  Attrition_Flag  \n",
       "train_idx                             -0.000519        0.000638  \n",
       "CLIENTNUM                             -0.004018        0.047136  \n",
       "Customer_Age                           0.006002       -0.035203  \n",
       "Dependent_count                       -0.035069       -0.020550  \n",
       "Months_on_book                        -0.004777       -0.022270  \n",
       "Total_Relationship_Count               0.068130        0.150889  \n",
       "Months_Inactive_12_mon                -0.003389       -0.156552  \n",
       "Contacts_Count_12_mon                 -0.063219       -0.211327  \n",
       "Credit_Limit                          -0.480605        0.024437  \n",
       "Total_Revolving_Bal                    0.619852        0.263335  \n",
       "Avg_Open_To_Buy                       -0.536599        0.000803  \n",
       "Total_Amt_Chng_Q4_Q1                   0.033583        0.128559  \n",
       "Total_Trans_Amt                       -0.076670        0.178078  \n",
       "Total_Trans_Ct                         0.010942        0.380618  \n",
       "Total_Ct_Chng_Q4_Q1                    0.074430        0.288937  \n",
       "Avg_Utilization_Ratio                  1.000000        0.179838  \n",
       "Attrition_Flag                         0.179838        1.000000  "
      ]
     },
     "execution_count": 43,
     "metadata": {},
     "output_type": "execute_result"
    }
   ],
   "source": [
    "#Created a correlation dataframe object for sanity check on ydata profile and easier manipulation of data.\n",
    "bank_df.corr()"
   ]
  },
  {
   "cell_type": "code",
   "execution_count": 82,
   "metadata": {},
   "outputs": [
    {
     "name": "stderr",
     "output_type": "stream",
     "text": [
      "C:\\Users\\tpooz\\AppData\\Local\\Temp\\ipykernel_22396\\1322436958.py:3: FutureWarning: The default value of numeric_only in DataFrame.corr is deprecated. In a future version, it will default to False. Select only valid columns or specify the value of numeric_only to silence this warning.\n",
      "  corr_df = bank_df.corr()\n"
     ]
    },
    {
     "data": {
      "text/plain": [
       "Attrition_Flag              1.000000\n",
       "Total_Trans_Ct              0.380618\n",
       "Total_Ct_Chng_Q4_Q1         0.288937\n",
       "Total_Revolving_Bal         0.263335\n",
       "Avg_Utilization_Ratio       0.179838\n",
       "Total_Trans_Amt             0.178078\n",
       "Total_Relationship_Count    0.150889\n",
       "Total_Amt_Chng_Q4_Q1        0.128559\n",
       "CLIENTNUM                   0.047136\n",
       "Credit_Limit                0.024437\n",
       "Avg_Open_To_Buy             0.000803\n",
       "train_idx                   0.000638\n",
       "Dependent_count            -0.020550\n",
       "Months_on_book             -0.022270\n",
       "Customer_Age               -0.035203\n",
       "Months_Inactive_12_mon     -0.156552\n",
       "Contacts_Count_12_mon      -0.211327\n",
       "Name: Attrition_Flag, dtype: float64"
      ]
     },
     "execution_count": 82,
     "metadata": {},
     "output_type": "execute_result"
    }
   ],
   "source": [
    "#Retrieved just the Attrition_Flag column from the correlation dataframe created and sorted based on correlation values\n",
    "\n",
    "corr_df = bank_df.corr()\n",
    "corr_df['Attrition_Flag'].sort_values(ascending=False)"
   ]
  },
  {
   "cell_type": "markdown",
   "metadata": {},
   "source": [
    "From the correlation values listed above, it seems that customer attrition (attrition flag column) has some level of positive correlation with Total_Trans_Ct, Total_Ct_Chng_Q4_Q1, Total_Revolving_Bal, Avg_Utilization_Ratio, Total_Trans_Amt, Total_Relationship_Count, Total_Amt_Chng_Q4_Q1, Credit_Limit. There is some negative correlation with Attrition_Flag as well namely Contacts_Count_12_mon, Months_Inactive_12_mon, Customer_Age, Months_on_book, and Dependent_count to be further explored as well.    "
   ]
  },
  {
   "cell_type": "markdown",
   "metadata": {},
   "source": [
    "## 2.7 Save data"
   ]
  },
  {
   "cell_type": "code",
   "execution_count": 83,
   "metadata": {},
   "outputs": [
    {
     "data": {
      "text/plain": [
       "(8101, 22)"
      ]
     },
     "execution_count": 83,
     "metadata": {},
     "output_type": "execute_result"
    }
   ],
   "source": [
    "bank_df.shape"
   ]
  },
  {
   "cell_type": "code",
   "execution_count": 77,
   "metadata": {},
   "outputs": [],
   "source": [
    "# save the data to a new csv file\n",
    "datapath = 'C:/Users/tpooz/OneDrive/Desktop/Data_Science_BootCamp_2023/SpringBoard_Github/Bank-Churnrate/0_Datasets'\n",
    "bank_df.to_csv('C:/Users/tpooz/OneDrive/Desktop/Data_Science_BootCamp_2023/SpringBoard_Github/Bank-Churnrate/0_Datasets/bank_data_train_clean.csv')  "
   ]
  },
  {
   "cell_type": "markdown",
   "metadata": {},
   "source": [
    "## 2.8 Summary"
   ]
  },
  {
   "cell_type": "markdown",
   "metadata": {},
   "source": [
    "After an intial analysis and \"cleaning\" of the dataset, columns labeled as 'Unknown' were replaced with np.nan in order to provide proper values to assess missing data. From the columns after imputing np.nan, Education_Level,\n",
    "Income_Category, and Marital_Status seem to be missing values in the dataset. In the categorical data analysis, seems that all data have appropriate unique values. The bank customer user base of those who were/are subscribed to the bank were/are  blue card holders, with a low income of less than 40k, somewhat distributed between married and single, mostly high school or college educated, and somewhat even distribution between male and female, with females slightly leading. In the numeric feature analysis, seems that Credit_Limit, Avg_Open_to_Buy, Total_Trans_Amt, and Avg_Utilization_Ratio columns have left skews. Looking at the target feature, Attrition_Flag column that details whether or not a customer has attrited within the dataset provided, few correlations were seen namely Total_Trans_Ct, Total_Ct_Chng_Q4_Q1, Total_Revolving_Bal, Avg_Utilization_Ratio, Total_Trans_Amt, Total_Relationship_Count, Total_Amt_Chng_Q4_Q1, Credit_Limit all having positive correlations with Total_Trans_Ct as highest positive and Contacts_Count_12_mon, Months_Inactive_12_mon, Customer_Age, Months_on_book, and Dependent_count having negative correlations with Contacts_Count_12_mon as most negative. No columns were dropped in order to preserve information however would be wary for left skew columns and columns with NaN values namely Education_Level, Income_Category, and Marital_Status when subsequent steps of model development. Final shape of the dataset is as it began (8101, 22). A ydata profile report is also saved in the data wrangling file folder as a reference.\n",
    "Further EDA will be conducted in order to also assess user base of customers currently subscribed to the bank and customers who have attritted."
   ]
  }
 ],
 "metadata": {
  "kernelspec": {
   "display_name": "Python 3 (ipykernel)",
   "language": "python",
   "name": "python3"
  },
  "language_info": {
   "codemirror_mode": {
    "name": "ipython",
    "version": 3
   },
   "file_extension": ".py",
   "mimetype": "text/x-python",
   "name": "python",
   "nbconvert_exporter": "python",
   "pygments_lexer": "ipython3",
   "version": "3.10.9"
  },
  "toc": {
   "base_numbering": 1,
   "nav_menu": {},
   "number_sections": true,
   "sideBar": true,
   "skip_h1_title": false,
   "title_cell": "Table of Contents",
   "title_sidebar": "Contents",
   "toc_cell": false,
   "toc_position": {},
   "toc_section_display": true,
   "toc_window_display": true
  },
  "varInspector": {
   "cols": {
    "lenName": 16,
    "lenType": 16,
    "lenVar": 40
   },
   "kernels_config": {
    "python": {
     "delete_cmd_postfix": "",
     "delete_cmd_prefix": "del ",
     "library": "var_list.py",
     "varRefreshCmd": "print(var_dic_list())"
    },
    "r": {
     "delete_cmd_postfix": ") ",
     "delete_cmd_prefix": "rm(",
     "library": "var_list.r",
     "varRefreshCmd": "cat(var_dic_list()) "
    }
   },
   "types_to_exclude": [
    "module",
    "function",
    "builtin_function_or_method",
    "instance",
    "_Feature"
   ],
   "window_display": false
  }
 },
 "nbformat": 4,
 "nbformat_minor": 4
}
