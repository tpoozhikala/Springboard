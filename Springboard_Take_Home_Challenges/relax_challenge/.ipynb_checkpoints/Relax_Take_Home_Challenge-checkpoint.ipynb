{
 "cells": [
  {
   "cell_type": "markdown",
   "metadata": {},
   "source": [
    "# Relax_Take_Home_Challenge<a id='2_Data_wrangling'></a>"
   ]
  },
  {
   "cell_type": "markdown",
   "metadata": {},
   "source": [
    "## Table of Contents<a id='2.1_Contents'></a>\n",
    "* 0. Imports\n",
    "* 1. Introduction\n",
    "* 2. Load/Transform and Assess Data Null Values\n",
    "  * 2.1 Takehome_users Dataset\n",
    "  * 2.2 Takehome_user_engagement Dataset\n",
    "  * 2.3 Merge Users & Engagement Datasets/Feature Engieering\n",
    "* 3. EDA Merged User Dataset\n",
    "  * 3.1 Feature Plots\n",
    "  * 3.2 Correlation Heatmap\n",
    "* 4. Preprocessing/Modeling\n",
    "  * 4.1 Train_test_split\n",
    "  * 4.2 Random Forest Classification\n",
    "  * 4.3 Gradient Boosted Classification\n",
    "  * 4.4 AdaBoost Classification (Random Forest Classification Base)\n",
    "  * 4.5 AdaBoost Classification (Gradient Boosting Classification Base)\n",
    "* 5. Conclusions/Further Study\n",
    "  * 5.1 Summary Table/Model Results\n",
    "  * 5.2 Discussion/Further Study"
   ]
  },
  {
   "cell_type": "markdown",
   "metadata": {},
   "source": [
    "## 0. Imports<a id='2.3_Imports'></a>"
   ]
  },
  {
   "cell_type": "markdown",
   "metadata": {},
   "source": [
    "Importing all necessary modules for the take-home assignment tasks."
   ]
  },
  {
   "cell_type": "code",
   "execution_count": 31,
   "metadata": {},
   "outputs": [],
   "source": [
    "#Import pandas, matplotlib.pyplot, and seaborn\n",
    "import pandas as pd\n",
    "import matplotlib.pyplot as plt\n",
    "import seaborn as sns\n",
    "import numpy as np\n",
    "import time\n",
    "from sklearn.model_selection import train_test_split\n",
    "from sklearn.model_selection import GridSearchCV\n",
    "from sklearn.linear_model import LogisticRegression\n",
    "from sklearn.ensemble import RandomForestClassifier\n",
    "from sklearn.ensemble import GradientBoostingClassifier\n",
    "from sklearn.ensemble import AdaBoostClassifier\n",
    "from sklearn.svm import SVC\n",
    "from sklearn.metrics import confusion_matrix\n",
    "from sklearn.metrics import roc_curve\n",
    "from sklearn.metrics import roc_auc_score\n",
    "from datetime import datetime\n",
    "import os"
   ]
  },
  {
   "cell_type": "markdown",
   "metadata": {},
   "source": [
    "## 1. Introduction"
   ]
  },
  {
   "cell_type": "markdown",
   "metadata": {},
   "source": [
    "Below is the prompt given for the take-home assignment (further information regarding data table features given within the prompt provided):\n",
    "\n",
    "The data has the following two tables:\n",
    "1) A user table ( \"takehome_users\" ) with data on 12,000 users who signed up for the product in the last two years.\n",
    "2) A usage summary table ( \"takehome_user_engagement\" ) that has a row for each day that a user logged into the product.\n",
    "\n",
    "Defining an \"adopted user\" as a user who has logged into the product on three separate days in at least one sevenday period , identify which factors predict future user adoption."
   ]
  },
  {
   "cell_type": "markdown",
   "metadata": {},
   "source": [
    "## 2. Load/Transform and Assess Data Null Values"
   ]
  },
  {
   "cell_type": "markdown",
   "metadata": {},
   "source": [
    "Data is first loaded into the notebook from csv file to pandas dataframe to be assessed. "
   ]
  },
  {
   "cell_type": "code",
   "execution_count": 32,
   "metadata": {},
   "outputs": [],
   "source": [
    "#Code to address encoding for read_csv found on https://www.roelpeters.be/unicodedecodeerror-utf-8-codec-cant-decode-byte-in-position/\n",
    "path = 'C:/Users/tpooz/OneDrive/Desktop/Data_Science_BootCamp_2023/SpringBoard_Github/Springboard/Springboard_Take_Home_Challenges/relax_challenge/takehome_users.csv'\n",
    "users_df = pd.read_csv(path, encoding='latin1')\n",
    "path_2 = 'C:/Users/tpooz/OneDrive/Desktop/Data_Science_BootCamp_2023/SpringBoard_Github/Springboard/Springboard_Take_Home_Challenges/relax_challenge/takehome_user_engagement.csv' \n",
    "engage_df = pd.read_csv(path_2, encoding='latin1')"
   ]
  },
  {
   "cell_type": "markdown",
   "metadata": {},
   "source": [
    "### 2.1 Takehome_users Dataset"
   ]
  },
  {
   "cell_type": "code",
   "execution_count": 33,
   "metadata": {
    "scrolled": true
   },
   "outputs": [
    {
     "data": {
      "text/html": [
       "<div>\n",
       "<style scoped>\n",
       "    .dataframe tbody tr th:only-of-type {\n",
       "        vertical-align: middle;\n",
       "    }\n",
       "\n",
       "    .dataframe tbody tr th {\n",
       "        vertical-align: top;\n",
       "    }\n",
       "\n",
       "    .dataframe thead th {\n",
       "        text-align: right;\n",
       "    }\n",
       "</style>\n",
       "<table border=\"1\" class=\"dataframe\">\n",
       "  <thead>\n",
       "    <tr style=\"text-align: right;\">\n",
       "      <th></th>\n",
       "      <th>object_id</th>\n",
       "      <th>creation_time</th>\n",
       "      <th>name</th>\n",
       "      <th>email</th>\n",
       "      <th>creation_source</th>\n",
       "      <th>last_session_creation_time</th>\n",
       "      <th>opted_in_to_mailing_list</th>\n",
       "      <th>enabled_for_marketing_drip</th>\n",
       "      <th>org_id</th>\n",
       "      <th>invited_by_user_id</th>\n",
       "    </tr>\n",
       "  </thead>\n",
       "  <tbody>\n",
       "    <tr>\n",
       "      <th>0</th>\n",
       "      <td>1</td>\n",
       "      <td>2014-04-22 03:53:30</td>\n",
       "      <td>Clausen August</td>\n",
       "      <td>AugustCClausen@yahoo.com</td>\n",
       "      <td>GUEST_INVITE</td>\n",
       "      <td>1.398139e+09</td>\n",
       "      <td>1</td>\n",
       "      <td>0</td>\n",
       "      <td>11</td>\n",
       "      <td>10803.0</td>\n",
       "    </tr>\n",
       "    <tr>\n",
       "      <th>1</th>\n",
       "      <td>2</td>\n",
       "      <td>2013-11-15 03:45:04</td>\n",
       "      <td>Poole Matthew</td>\n",
       "      <td>MatthewPoole@gustr.com</td>\n",
       "      <td>ORG_INVITE</td>\n",
       "      <td>1.396238e+09</td>\n",
       "      <td>0</td>\n",
       "      <td>0</td>\n",
       "      <td>1</td>\n",
       "      <td>316.0</td>\n",
       "    </tr>\n",
       "    <tr>\n",
       "      <th>2</th>\n",
       "      <td>3</td>\n",
       "      <td>2013-03-19 23:14:52</td>\n",
       "      <td>Bottrill Mitchell</td>\n",
       "      <td>MitchellBottrill@gustr.com</td>\n",
       "      <td>ORG_INVITE</td>\n",
       "      <td>1.363735e+09</td>\n",
       "      <td>0</td>\n",
       "      <td>0</td>\n",
       "      <td>94</td>\n",
       "      <td>1525.0</td>\n",
       "    </tr>\n",
       "    <tr>\n",
       "      <th>3</th>\n",
       "      <td>4</td>\n",
       "      <td>2013-05-21 08:09:28</td>\n",
       "      <td>Clausen Nicklas</td>\n",
       "      <td>NicklasSClausen@yahoo.com</td>\n",
       "      <td>GUEST_INVITE</td>\n",
       "      <td>1.369210e+09</td>\n",
       "      <td>0</td>\n",
       "      <td>0</td>\n",
       "      <td>1</td>\n",
       "      <td>5151.0</td>\n",
       "    </tr>\n",
       "    <tr>\n",
       "      <th>4</th>\n",
       "      <td>5</td>\n",
       "      <td>2013-01-17 10:14:20</td>\n",
       "      <td>Raw Grace</td>\n",
       "      <td>GraceRaw@yahoo.com</td>\n",
       "      <td>GUEST_INVITE</td>\n",
       "      <td>1.358850e+09</td>\n",
       "      <td>0</td>\n",
       "      <td>0</td>\n",
       "      <td>193</td>\n",
       "      <td>5240.0</td>\n",
       "    </tr>\n",
       "  </tbody>\n",
       "</table>\n",
       "</div>"
      ],
      "text/plain": [
       "   object_id        creation_time               name  \\\n",
       "0          1  2014-04-22 03:53:30     Clausen August   \n",
       "1          2  2013-11-15 03:45:04      Poole Matthew   \n",
       "2          3  2013-03-19 23:14:52  Bottrill Mitchell   \n",
       "3          4  2013-05-21 08:09:28    Clausen Nicklas   \n",
       "4          5  2013-01-17 10:14:20          Raw Grace   \n",
       "\n",
       "                        email creation_source  last_session_creation_time  \\\n",
       "0    AugustCClausen@yahoo.com    GUEST_INVITE                1.398139e+09   \n",
       "1      MatthewPoole@gustr.com      ORG_INVITE                1.396238e+09   \n",
       "2  MitchellBottrill@gustr.com      ORG_INVITE                1.363735e+09   \n",
       "3   NicklasSClausen@yahoo.com    GUEST_INVITE                1.369210e+09   \n",
       "4          GraceRaw@yahoo.com    GUEST_INVITE                1.358850e+09   \n",
       "\n",
       "   opted_in_to_mailing_list  enabled_for_marketing_drip  org_id  \\\n",
       "0                         1                           0      11   \n",
       "1                         0                           0       1   \n",
       "2                         0                           0      94   \n",
       "3                         0                           0       1   \n",
       "4                         0                           0     193   \n",
       "\n",
       "   invited_by_user_id  \n",
       "0             10803.0  \n",
       "1               316.0  \n",
       "2              1525.0  \n",
       "3              5151.0  \n",
       "4              5240.0  "
      ]
     },
     "execution_count": 33,
     "metadata": {},
     "output_type": "execute_result"
    }
   ],
   "source": [
    "users_df.head() "
   ]
  },
  {
   "cell_type": "code",
   "execution_count": 34,
   "metadata": {},
   "outputs": [],
   "source": [
    "#Code to convert unix datetime to datetime for column 'last_session_creation_time' found on https://stackoverflow.com/questions/19231871/convert-unix-time-to-readable-date-in-pandas-dataframe\n",
    "users_df['last_session_creation_time'] = pd.to_datetime(users_df['last_session_creation_time'], unit='s')\n",
    "users_df['creation_time'] = pd.to_datetime(users_df['creation_time'])"
   ]
  },
  {
   "cell_type": "code",
   "execution_count": 35,
   "metadata": {
    "scrolled": true
   },
   "outputs": [
    {
     "data": {
      "text/html": [
       "<div>\n",
       "<style scoped>\n",
       "    .dataframe tbody tr th:only-of-type {\n",
       "        vertical-align: middle;\n",
       "    }\n",
       "\n",
       "    .dataframe tbody tr th {\n",
       "        vertical-align: top;\n",
       "    }\n",
       "\n",
       "    .dataframe thead th {\n",
       "        text-align: right;\n",
       "    }\n",
       "</style>\n",
       "<table border=\"1\" class=\"dataframe\">\n",
       "  <thead>\n",
       "    <tr style=\"text-align: right;\">\n",
       "      <th></th>\n",
       "      <th>object_id</th>\n",
       "      <th>creation_time</th>\n",
       "      <th>name</th>\n",
       "      <th>email</th>\n",
       "      <th>creation_source</th>\n",
       "      <th>last_session_creation_time</th>\n",
       "      <th>opted_in_to_mailing_list</th>\n",
       "      <th>enabled_for_marketing_drip</th>\n",
       "      <th>org_id</th>\n",
       "      <th>invited_by_user_id</th>\n",
       "    </tr>\n",
       "  </thead>\n",
       "  <tbody>\n",
       "    <tr>\n",
       "      <th>0</th>\n",
       "      <td>1</td>\n",
       "      <td>2014-04-22 03:53:30</td>\n",
       "      <td>Clausen August</td>\n",
       "      <td>AugustCClausen@yahoo.com</td>\n",
       "      <td>GUEST_INVITE</td>\n",
       "      <td>2014-04-22 03:53:30</td>\n",
       "      <td>1</td>\n",
       "      <td>0</td>\n",
       "      <td>11</td>\n",
       "      <td>10803.0</td>\n",
       "    </tr>\n",
       "    <tr>\n",
       "      <th>1</th>\n",
       "      <td>2</td>\n",
       "      <td>2013-11-15 03:45:04</td>\n",
       "      <td>Poole Matthew</td>\n",
       "      <td>MatthewPoole@gustr.com</td>\n",
       "      <td>ORG_INVITE</td>\n",
       "      <td>2014-03-31 03:45:04</td>\n",
       "      <td>0</td>\n",
       "      <td>0</td>\n",
       "      <td>1</td>\n",
       "      <td>316.0</td>\n",
       "    </tr>\n",
       "    <tr>\n",
       "      <th>2</th>\n",
       "      <td>3</td>\n",
       "      <td>2013-03-19 23:14:52</td>\n",
       "      <td>Bottrill Mitchell</td>\n",
       "      <td>MitchellBottrill@gustr.com</td>\n",
       "      <td>ORG_INVITE</td>\n",
       "      <td>2013-03-19 23:14:52</td>\n",
       "      <td>0</td>\n",
       "      <td>0</td>\n",
       "      <td>94</td>\n",
       "      <td>1525.0</td>\n",
       "    </tr>\n",
       "    <tr>\n",
       "      <th>3</th>\n",
       "      <td>4</td>\n",
       "      <td>2013-05-21 08:09:28</td>\n",
       "      <td>Clausen Nicklas</td>\n",
       "      <td>NicklasSClausen@yahoo.com</td>\n",
       "      <td>GUEST_INVITE</td>\n",
       "      <td>2013-05-22 08:09:28</td>\n",
       "      <td>0</td>\n",
       "      <td>0</td>\n",
       "      <td>1</td>\n",
       "      <td>5151.0</td>\n",
       "    </tr>\n",
       "    <tr>\n",
       "      <th>4</th>\n",
       "      <td>5</td>\n",
       "      <td>2013-01-17 10:14:20</td>\n",
       "      <td>Raw Grace</td>\n",
       "      <td>GraceRaw@yahoo.com</td>\n",
       "      <td>GUEST_INVITE</td>\n",
       "      <td>2013-01-22 10:14:20</td>\n",
       "      <td>0</td>\n",
       "      <td>0</td>\n",
       "      <td>193</td>\n",
       "      <td>5240.0</td>\n",
       "    </tr>\n",
       "  </tbody>\n",
       "</table>\n",
       "</div>"
      ],
      "text/plain": [
       "   object_id       creation_time               name  \\\n",
       "0          1 2014-04-22 03:53:30     Clausen August   \n",
       "1          2 2013-11-15 03:45:04      Poole Matthew   \n",
       "2          3 2013-03-19 23:14:52  Bottrill Mitchell   \n",
       "3          4 2013-05-21 08:09:28    Clausen Nicklas   \n",
       "4          5 2013-01-17 10:14:20          Raw Grace   \n",
       "\n",
       "                        email creation_source last_session_creation_time  \\\n",
       "0    AugustCClausen@yahoo.com    GUEST_INVITE        2014-04-22 03:53:30   \n",
       "1      MatthewPoole@gustr.com      ORG_INVITE        2014-03-31 03:45:04   \n",
       "2  MitchellBottrill@gustr.com      ORG_INVITE        2013-03-19 23:14:52   \n",
       "3   NicklasSClausen@yahoo.com    GUEST_INVITE        2013-05-22 08:09:28   \n",
       "4          GraceRaw@yahoo.com    GUEST_INVITE        2013-01-22 10:14:20   \n",
       "\n",
       "   opted_in_to_mailing_list  enabled_for_marketing_drip  org_id  \\\n",
       "0                         1                           0      11   \n",
       "1                         0                           0       1   \n",
       "2                         0                           0      94   \n",
       "3                         0                           0       1   \n",
       "4                         0                           0     193   \n",
       "\n",
       "   invited_by_user_id  \n",
       "0             10803.0  \n",
       "1               316.0  \n",
       "2              1525.0  \n",
       "3              5151.0  \n",
       "4              5240.0  "
      ]
     },
     "execution_count": 35,
     "metadata": {},
     "output_type": "execute_result"
    }
   ],
   "source": [
    "users_df.head() "
   ]
  },
  {
   "cell_type": "markdown",
   "metadata": {},
   "source": [
    "Assesing null values for takehome_users dataset."
   ]
  },
  {
   "cell_type": "code",
   "execution_count": 36,
   "metadata": {},
   "outputs": [
    {
     "name": "stdout",
     "output_type": "stream",
     "text": [
      "<class 'pandas.core.frame.DataFrame'>\n",
      "RangeIndex: 12000 entries, 0 to 11999\n",
      "Data columns (total 10 columns):\n",
      " #   Column                      Non-Null Count  Dtype         \n",
      "---  ------                      --------------  -----         \n",
      " 0   object_id                   12000 non-null  int64         \n",
      " 1   creation_time               12000 non-null  datetime64[ns]\n",
      " 2   name                        12000 non-null  object        \n",
      " 3   email                       12000 non-null  object        \n",
      " 4   creation_source             12000 non-null  object        \n",
      " 5   last_session_creation_time  8823 non-null   datetime64[ns]\n",
      " 6   opted_in_to_mailing_list    12000 non-null  int64         \n",
      " 7   enabled_for_marketing_drip  12000 non-null  int64         \n",
      " 8   org_id                      12000 non-null  int64         \n",
      " 9   invited_by_user_id          6417 non-null   float64       \n",
      "dtypes: datetime64[ns](2), float64(1), int64(4), object(3)\n",
      "memory usage: 937.6+ KB\n"
     ]
    }
   ],
   "source": [
    "users_df.info()"
   ]
  },
  {
   "cell_type": "markdown",
   "metadata": {},
   "source": [
    "Most null values are within the 'last_session_creation_time' column which could be an issue with the database or datawarehouse storing user data or another issue outside the scope of this study which would need to be further clarified with those involved. However, invited_by_user_id also has null values which is expected as not all users were invited by another user for to access the product."
   ]
  },
  {
   "cell_type": "code",
   "execution_count": 37,
   "metadata": {},
   "outputs": [
    {
     "name": "stdout",
     "output_type": "stream",
     "text": [
      "<class 'pandas.core.frame.DataFrame'>\n",
      "RangeIndex: 12000 entries, 0 to 11999\n",
      "Data columns (total 10 columns):\n",
      " #   Column                      Non-Null Count  Dtype         \n",
      "---  ------                      --------------  -----         \n",
      " 0   object_id                   12000 non-null  object        \n",
      " 1   creation_time               12000 non-null  datetime64[ns]\n",
      " 2   name                        12000 non-null  object        \n",
      " 3   email                       12000 non-null  object        \n",
      " 4   creation_source             12000 non-null  object        \n",
      " 5   last_session_creation_time  8823 non-null   datetime64[ns]\n",
      " 6   opted_in_to_mailing_list    12000 non-null  int64         \n",
      " 7   enabled_for_marketing_drip  12000 non-null  int64         \n",
      " 8   org_id                      12000 non-null  int64         \n",
      " 9   invited_by_user_id          6417 non-null   float64       \n",
      "dtypes: datetime64[ns](2), float64(1), int64(3), object(4)\n",
      "memory usage: 937.6+ KB\n"
     ]
    }
   ],
   "source": [
    "#Converting 'object_id' or user_id into string object instead of it being an int64 field.\n",
    "users_df['object_id'] = users_df['object_id'].astype(str)\n",
    "users_df.info()"
   ]
  },
  {
   "cell_type": "markdown",
   "metadata": {},
   "source": [
    "### 2.2 Takehome_user_engagement Dataset"
   ]
  },
  {
   "cell_type": "code",
   "execution_count": 38,
   "metadata": {},
   "outputs": [
    {
     "data": {
      "text/html": [
       "<div>\n",
       "<style scoped>\n",
       "    .dataframe tbody tr th:only-of-type {\n",
       "        vertical-align: middle;\n",
       "    }\n",
       "\n",
       "    .dataframe tbody tr th {\n",
       "        vertical-align: top;\n",
       "    }\n",
       "\n",
       "    .dataframe thead th {\n",
       "        text-align: right;\n",
       "    }\n",
       "</style>\n",
       "<table border=\"1\" class=\"dataframe\">\n",
       "  <thead>\n",
       "    <tr style=\"text-align: right;\">\n",
       "      <th></th>\n",
       "      <th>time_stamp</th>\n",
       "      <th>user_id</th>\n",
       "      <th>visited</th>\n",
       "    </tr>\n",
       "  </thead>\n",
       "  <tbody>\n",
       "    <tr>\n",
       "      <th>0</th>\n",
       "      <td>2014-04-22 03:53:30</td>\n",
       "      <td>1</td>\n",
       "      <td>1</td>\n",
       "    </tr>\n",
       "    <tr>\n",
       "      <th>1</th>\n",
       "      <td>2013-11-15 03:45:04</td>\n",
       "      <td>2</td>\n",
       "      <td>1</td>\n",
       "    </tr>\n",
       "    <tr>\n",
       "      <th>2</th>\n",
       "      <td>2013-11-29 03:45:04</td>\n",
       "      <td>2</td>\n",
       "      <td>1</td>\n",
       "    </tr>\n",
       "    <tr>\n",
       "      <th>3</th>\n",
       "      <td>2013-12-09 03:45:04</td>\n",
       "      <td>2</td>\n",
       "      <td>1</td>\n",
       "    </tr>\n",
       "    <tr>\n",
       "      <th>4</th>\n",
       "      <td>2013-12-25 03:45:04</td>\n",
       "      <td>2</td>\n",
       "      <td>1</td>\n",
       "    </tr>\n",
       "  </tbody>\n",
       "</table>\n",
       "</div>"
      ],
      "text/plain": [
       "            time_stamp  user_id  visited\n",
       "0  2014-04-22 03:53:30        1        1\n",
       "1  2013-11-15 03:45:04        2        1\n",
       "2  2013-11-29 03:45:04        2        1\n",
       "3  2013-12-09 03:45:04        2        1\n",
       "4  2013-12-25 03:45:04        2        1"
      ]
     },
     "execution_count": 38,
     "metadata": {},
     "output_type": "execute_result"
    }
   ],
   "source": [
    "engage_df.head()"
   ]
  },
  {
   "cell_type": "code",
   "execution_count": 39,
   "metadata": {},
   "outputs": [
    {
     "name": "stdout",
     "output_type": "stream",
     "text": [
      "<class 'pandas.core.frame.DataFrame'>\n",
      "RangeIndex: 207917 entries, 0 to 207916\n",
      "Data columns (total 3 columns):\n",
      " #   Column      Non-Null Count   Dtype         \n",
      "---  ------      --------------   -----         \n",
      " 0   time_stamp  207917 non-null  datetime64[ns]\n",
      " 1   user_id     207917 non-null  int64         \n",
      " 2   visited     207917 non-null  int64         \n",
      "dtypes: datetime64[ns](1), int64(2)\n",
      "memory usage: 4.8 MB\n"
     ]
    }
   ],
   "source": [
    "engage_df['time_stamp'] = pd.to_datetime(engage_df['time_stamp'])\n",
    "engage_df.info()"
   ]
  },
  {
   "cell_type": "markdown",
   "metadata": {},
   "source": [
    "Looking at the above, it seems this dataset does not have null values meaning each login entry has an associated value."
   ]
  },
  {
   "cell_type": "code",
   "execution_count": 40,
   "metadata": {},
   "outputs": [
    {
     "name": "stdout",
     "output_type": "stream",
     "text": [
      "<class 'pandas.core.frame.DataFrame'>\n",
      "RangeIndex: 207917 entries, 0 to 207916\n",
      "Data columns (total 3 columns):\n",
      " #   Column      Non-Null Count   Dtype         \n",
      "---  ------      --------------   -----         \n",
      " 0   time_stamp  207917 non-null  datetime64[ns]\n",
      " 1   user_id     207917 non-null  object        \n",
      " 2   visited     207917 non-null  int64         \n",
      "dtypes: datetime64[ns](1), int64(1), object(1)\n",
      "memory usage: 4.8+ MB\n"
     ]
    }
   ],
   "source": [
    "#Converting 'user_id' into string object instead of it being an int64 field.\n",
    "engage_df['user_id'] = engage_df['user_id'].astype(str)\n",
    "engage_df.info()"
   ]
  },
  {
   "cell_type": "markdown",
   "metadata": {},
   "source": [
    "In order to now retrieve the specific value of finding users who had logged into the product for 3 separate days within at least a 7-day period, several grouping methods needed to be conducted."
   ]
  },
  {
   "cell_type": "code",
   "execution_count": 41,
   "metadata": {},
   "outputs": [
    {
     "data": {
      "text/html": [
       "<div>\n",
       "<style scoped>\n",
       "    .dataframe tbody tr th:only-of-type {\n",
       "        vertical-align: middle;\n",
       "    }\n",
       "\n",
       "    .dataframe tbody tr th {\n",
       "        vertical-align: top;\n",
       "    }\n",
       "\n",
       "    .dataframe thead th {\n",
       "        text-align: right;\n",
       "    }\n",
       "</style>\n",
       "<table border=\"1\" class=\"dataframe\">\n",
       "  <thead>\n",
       "    <tr style=\"text-align: right;\">\n",
       "      <th></th>\n",
       "      <th>user_id</th>\n",
       "      <th>visited</th>\n",
       "    </tr>\n",
       "    <tr>\n",
       "      <th>time_stamp</th>\n",
       "      <th></th>\n",
       "      <th></th>\n",
       "    </tr>\n",
       "  </thead>\n",
       "  <tbody>\n",
       "    <tr>\n",
       "      <th>2014-04-22 03:53:30</th>\n",
       "      <td>1</td>\n",
       "      <td>1</td>\n",
       "    </tr>\n",
       "    <tr>\n",
       "      <th>2013-11-15 03:45:04</th>\n",
       "      <td>2</td>\n",
       "      <td>1</td>\n",
       "    </tr>\n",
       "    <tr>\n",
       "      <th>2013-11-29 03:45:04</th>\n",
       "      <td>2</td>\n",
       "      <td>1</td>\n",
       "    </tr>\n",
       "    <tr>\n",
       "      <th>2013-12-09 03:45:04</th>\n",
       "      <td>2</td>\n",
       "      <td>1</td>\n",
       "    </tr>\n",
       "    <tr>\n",
       "      <th>2013-12-25 03:45:04</th>\n",
       "      <td>2</td>\n",
       "      <td>1</td>\n",
       "    </tr>\n",
       "    <tr>\n",
       "      <th>...</th>\n",
       "      <td>...</td>\n",
       "      <td>...</td>\n",
       "    </tr>\n",
       "    <tr>\n",
       "      <th>2013-09-06 06:14:15</th>\n",
       "      <td>11996</td>\n",
       "      <td>1</td>\n",
       "    </tr>\n",
       "    <tr>\n",
       "      <th>2013-01-15 18:28:37</th>\n",
       "      <td>11997</td>\n",
       "      <td>1</td>\n",
       "    </tr>\n",
       "    <tr>\n",
       "      <th>2014-04-27 12:45:16</th>\n",
       "      <td>11998</td>\n",
       "      <td>1</td>\n",
       "    </tr>\n",
       "    <tr>\n",
       "      <th>2012-06-02 11:55:59</th>\n",
       "      <td>11999</td>\n",
       "      <td>1</td>\n",
       "    </tr>\n",
       "    <tr>\n",
       "      <th>2014-01-26 08:57:12</th>\n",
       "      <td>12000</td>\n",
       "      <td>1</td>\n",
       "    </tr>\n",
       "  </tbody>\n",
       "</table>\n",
       "<p>207917 rows × 2 columns</p>\n",
       "</div>"
      ],
      "text/plain": [
       "                    user_id  visited\n",
       "time_stamp                          \n",
       "2014-04-22 03:53:30       1        1\n",
       "2013-11-15 03:45:04       2        1\n",
       "2013-11-29 03:45:04       2        1\n",
       "2013-12-09 03:45:04       2        1\n",
       "2013-12-25 03:45:04       2        1\n",
       "...                     ...      ...\n",
       "2013-09-06 06:14:15   11996        1\n",
       "2013-01-15 18:28:37   11997        1\n",
       "2014-04-27 12:45:16   11998        1\n",
       "2012-06-02 11:55:59   11999        1\n",
       "2014-01-26 08:57:12   12000        1\n",
       "\n",
       "[207917 rows x 2 columns]"
      ]
     },
     "execution_count": 41,
     "metadata": {},
     "output_type": "execute_result"
    }
   ],
   "source": [
    "#Setting 'time_stamp' column values as the index in order to group by the time series data.\n",
    "engage_df = engage_df.set_index('time_stamp')\n",
    "engage_df"
   ]
  },
  {
   "cell_type": "code",
   "execution_count": 42,
   "metadata": {},
   "outputs": [
    {
     "data": {
      "text/html": [
       "<div>\n",
       "<style scoped>\n",
       "    .dataframe tbody tr th:only-of-type {\n",
       "        vertical-align: middle;\n",
       "    }\n",
       "\n",
       "    .dataframe tbody tr th {\n",
       "        vertical-align: top;\n",
       "    }\n",
       "\n",
       "    .dataframe thead th {\n",
       "        text-align: right;\n",
       "    }\n",
       "</style>\n",
       "<table border=\"1\" class=\"dataframe\">\n",
       "  <thead>\n",
       "    <tr style=\"text-align: right;\">\n",
       "      <th></th>\n",
       "      <th></th>\n",
       "      <th>visited</th>\n",
       "    </tr>\n",
       "    <tr>\n",
       "      <th>user_id</th>\n",
       "      <th>time_stamp</th>\n",
       "      <th></th>\n",
       "    </tr>\n",
       "  </thead>\n",
       "  <tbody>\n",
       "    <tr>\n",
       "      <th>1</th>\n",
       "      <th>2014-04-22 03:53:30</th>\n",
       "      <td>1</td>\n",
       "    </tr>\n",
       "    <tr>\n",
       "      <th rowspan=\"4\" valign=\"top\">10</th>\n",
       "      <th>2013-01-16 22:08:03</th>\n",
       "      <td>1</td>\n",
       "    </tr>\n",
       "    <tr>\n",
       "      <th>2013-01-22 22:08:03</th>\n",
       "      <td>1</td>\n",
       "    </tr>\n",
       "    <tr>\n",
       "      <th>2013-01-30 22:08:03</th>\n",
       "      <td>1</td>\n",
       "    </tr>\n",
       "    <tr>\n",
       "      <th>2013-02-04 22:08:03</th>\n",
       "      <td>1</td>\n",
       "    </tr>\n",
       "    <tr>\n",
       "      <th>...</th>\n",
       "      <th>...</th>\n",
       "      <td>...</td>\n",
       "    </tr>\n",
       "    <tr>\n",
       "      <th rowspan=\"5\" valign=\"top\">9999</th>\n",
       "      <th>2014-05-09 18:00:21</th>\n",
       "      <td>1</td>\n",
       "    </tr>\n",
       "    <tr>\n",
       "      <th>2014-05-15 18:00:21</th>\n",
       "      <td>1</td>\n",
       "    </tr>\n",
       "    <tr>\n",
       "      <th>2014-05-18 18:00:21</th>\n",
       "      <td>1</td>\n",
       "    </tr>\n",
       "    <tr>\n",
       "      <th>2014-05-26 18:00:21</th>\n",
       "      <td>1</td>\n",
       "    </tr>\n",
       "    <tr>\n",
       "      <th>2014-05-31 18:00:21</th>\n",
       "      <td>1</td>\n",
       "    </tr>\n",
       "  </tbody>\n",
       "</table>\n",
       "<p>207917 rows × 1 columns</p>\n",
       "</div>"
      ],
      "text/plain": [
       "                             visited\n",
       "user_id time_stamp                  \n",
       "1       2014-04-22 03:53:30        1\n",
       "10      2013-01-16 22:08:03        1\n",
       "        2013-01-22 22:08:03        1\n",
       "        2013-01-30 22:08:03        1\n",
       "        2013-02-04 22:08:03        1\n",
       "...                              ...\n",
       "9999    2014-05-09 18:00:21        1\n",
       "        2014-05-15 18:00:21        1\n",
       "        2014-05-18 18:00:21        1\n",
       "        2014-05-26 18:00:21        1\n",
       "        2014-05-31 18:00:21        1\n",
       "\n",
       "[207917 rows x 1 columns]"
      ]
     },
     "execution_count": 42,
     "metadata": {},
     "output_type": "execute_result"
    }
   ],
   "source": [
    "#Code to retrieve specific groupings for the different 'user_id' and their associated time_stamps found on https://pandas.pydata.org/pandas-docs/stable/reference/api/pandas.DataFrame.groupby.html\n",
    "visit_df = engage_df.groupby('user_id', group_keys=True)[['visited']].apply(lambda x:x)\n",
    "visit_df"
   ]
  },
  {
   "cell_type": "code",
   "execution_count": 43,
   "metadata": {},
   "outputs": [
    {
     "data": {
      "text/plain": [
       "user_id\n",
       "1        False\n",
       "10        True\n",
       "100      False\n",
       "10000    False\n",
       "10002     True\n",
       "         ...  \n",
       "9994      True\n",
       "9995     False\n",
       "9996     False\n",
       "9998     False\n",
       "9999      True\n",
       "Length: 8823, dtype: bool"
      ]
     },
     "execution_count": 43,
     "metadata": {},
     "output_type": "execute_result"
    }
   ],
   "source": [
    "#Code to retrieve size of each group and then retrict the size to create a boolean series for user_id's where size >=3 to find \n",
    "#users who logged into the product at least 3 separate days found on https://stackoverflow.com/questions/17945247/get-size-of-a-group-knowing-its-grouper-id-in-pandas-groupby and https://pandas.pydata.org/docs/reference/api/pandas.core.groupby.DataFrameGroupBy.size.html\n",
    "user_true = visit_df.groupby('user_id', group_keys=True).size() >= 3\n",
    "user_true"
   ]
  },
  {
   "cell_type": "code",
   "execution_count": 44,
   "metadata": {},
   "outputs": [
    {
     "data": {
      "text/plain": [
       "array(['10', '10002', '10003', ..., '9992', '9994', '9999'], dtype=object)"
      ]
     },
     "execution_count": 44,
     "metadata": {},
     "output_type": "execute_result"
    }
   ],
   "source": [
    "#Code to retrieve values from the Boolean series found on https://stackoverflow.com/questions/52173161/getting-a-list-of-indices-where-pandas-boolean-series-is-true\n",
    "user_arr = user_true[user_true].index.values\n",
    "user_arr"
   ]
  },
  {
   "cell_type": "markdown",
   "metadata": {},
   "source": [
    "After retrieving the specifc 'user_id''s who meet the condition, then transformed this array into dictionary with an 'adopted_user' columns identified as true or 1.0."
   ]
  },
  {
   "cell_type": "code",
   "execution_count": 45,
   "metadata": {},
   "outputs": [],
   "source": [
    "user_dict = {}\n",
    "for i in range(len(user_arr)):\n",
    "    user_dict[i] = user_arr[i]"
   ]
  },
  {
   "cell_type": "code",
   "execution_count": 46,
   "metadata": {},
   "outputs": [
    {
     "data": {
      "text/plain": [
       "{0: '10',\n",
       " 1: '10002',\n",
       " 2: '10003',\n",
       " 3: '10006',\n",
       " 4: '10011',\n",
       " 5: '10015',\n",
       " 6: '10020',\n",
       " 7: '10022',\n",
       " 8: '10023',\n",
       " 9: '10025',\n",
       " 10: '10030',\n",
       " 11: '10053',\n",
       " 12: '10058',\n",
       " 13: '10059',\n",
       " 14: '10062',\n",
       " 15: '10064',\n",
       " 16: '1007',\n",
       " 17: '10070',\n",
       " 18: '10074',\n",
       " 19: '10079',\n",
       " 20: '10084',\n",
       " 21: '1009',\n",
       " 22: '10100',\n",
       " 23: '10102',\n",
       " 24: '10104',\n",
       " 25: '10115',\n",
       " 26: '10118',\n",
       " 27: '10121',\n",
       " 28: '10122',\n",
       " 29: '10126',\n",
       " 30: '1013',\n",
       " 31: '10153',\n",
       " 32: '10155',\n",
       " 33: '10159',\n",
       " 34: '10165',\n",
       " 35: '10167',\n",
       " 36: '1017',\n",
       " 37: '10177',\n",
       " 38: '1018',\n",
       " 39: '10199',\n",
       " 40: '10207',\n",
       " 41: '10211',\n",
       " 42: '10212',\n",
       " 43: '10217',\n",
       " 44: '10222',\n",
       " 45: '10225',\n",
       " 46: '10230',\n",
       " 47: '10233',\n",
       " 48: '10234',\n",
       " 49: '10238',\n",
       " 50: '10244',\n",
       " 51: '10246',\n",
       " 52: '10251',\n",
       " 53: '10257',\n",
       " 54: '10258',\n",
       " 55: '1026',\n",
       " 56: '10265',\n",
       " 57: '10268',\n",
       " 58: '1027',\n",
       " 59: '10274',\n",
       " 60: '10277',\n",
       " 61: '10281',\n",
       " 62: '10283',\n",
       " 63: '10291',\n",
       " 64: '10299',\n",
       " 65: '1030',\n",
       " 66: '10303',\n",
       " 67: '10307',\n",
       " 68: '10311',\n",
       " 69: '10316',\n",
       " 70: '10320',\n",
       " 71: '10322',\n",
       " 72: '10332',\n",
       " 73: '10335',\n",
       " 74: '10339',\n",
       " 75: '10349',\n",
       " 76: '1035',\n",
       " 77: '10352',\n",
       " 78: '10355',\n",
       " 79: '10357',\n",
       " 80: '10363',\n",
       " 81: '10367',\n",
       " 82: '10368',\n",
       " 83: '10371',\n",
       " 84: '10372',\n",
       " 85: '10374',\n",
       " 86: '10383',\n",
       " 87: '10388',\n",
       " 88: '1039',\n",
       " 89: '10394',\n",
       " 90: '10397',\n",
       " 91: '10401',\n",
       " 92: '10406',\n",
       " 93: '10412',\n",
       " 94: '10415',\n",
       " 95: '10416',\n",
       " 96: '10419',\n",
       " 97: '10429',\n",
       " 98: '10430',\n",
       " 99: '10433',\n",
       " 100: '10434',\n",
       " 101: '10437',\n",
       " 102: '10442',\n",
       " 103: '10446',\n",
       " 104: '10447',\n",
       " 105: '10448',\n",
       " 106: '10459',\n",
       " 107: '10463',\n",
       " 108: '10465',\n",
       " 109: '10470',\n",
       " 110: '10473',\n",
       " 111: '10483',\n",
       " 112: '1049',\n",
       " 113: '10497',\n",
       " 114: '10505',\n",
       " 115: '10507',\n",
       " 116: '10514',\n",
       " 117: '10519',\n",
       " 118: '10520',\n",
       " 119: '10523',\n",
       " 120: '10524',\n",
       " 121: '10526',\n",
       " 122: '1055',\n",
       " 123: '10554',\n",
       " 124: '10571',\n",
       " 125: '10573',\n",
       " 126: '10574',\n",
       " 127: '10580',\n",
       " 128: '10582',\n",
       " 129: '10583',\n",
       " 130: '10585',\n",
       " 131: '10599',\n",
       " 132: '10602',\n",
       " 133: '1061',\n",
       " 134: '10611',\n",
       " 135: '10617',\n",
       " 136: '10619',\n",
       " 137: '10621',\n",
       " 138: '10626',\n",
       " 139: '10627',\n",
       " 140: '10630',\n",
       " 141: '10631',\n",
       " 142: '10634',\n",
       " 143: '10639',\n",
       " 144: '1064',\n",
       " 145: '10644',\n",
       " 146: '10647',\n",
       " 147: '10648',\n",
       " 148: '10649',\n",
       " 149: '10656',\n",
       " 150: '10663',\n",
       " 151: '10674',\n",
       " 152: '10677',\n",
       " 153: '10678',\n",
       " 154: '10679',\n",
       " 155: '10683',\n",
       " 156: '10696',\n",
       " 157: '10708',\n",
       " 158: '10713',\n",
       " 159: '1072',\n",
       " 160: '10725',\n",
       " 161: '10734',\n",
       " 162: '10736',\n",
       " 163: '10737',\n",
       " 164: '10745',\n",
       " 165: '10746',\n",
       " 166: '10750',\n",
       " 167: '10751',\n",
       " 168: '10753',\n",
       " 169: '10756',\n",
       " 170: '10757',\n",
       " 171: '10763',\n",
       " 172: '10770',\n",
       " 173: '10785',\n",
       " 174: '10787',\n",
       " 175: '10791',\n",
       " 176: '10792',\n",
       " 177: '10811',\n",
       " 178: '10812',\n",
       " 179: '10820',\n",
       " 180: '10824',\n",
       " 181: '10827',\n",
       " 182: '10832',\n",
       " 183: '10833',\n",
       " 184: '10834',\n",
       " 185: '10840',\n",
       " 186: '10843',\n",
       " 187: '10851',\n",
       " 188: '10858',\n",
       " 189: '10860',\n",
       " 190: '10863',\n",
       " 191: '10866',\n",
       " 192: '10867',\n",
       " 193: '10869',\n",
       " 194: '1087',\n",
       " 195: '10870',\n",
       " 196: '10872',\n",
       " 197: '10876',\n",
       " 198: '1088',\n",
       " 199: '10883',\n",
       " 200: '10885',\n",
       " 201: '1089',\n",
       " 202: '10892',\n",
       " 203: '10909',\n",
       " 204: '10911',\n",
       " 205: '10913',\n",
       " 206: '10927',\n",
       " 207: '10928',\n",
       " 208: '1093',\n",
       " 209: '10937',\n",
       " 210: '1094',\n",
       " 211: '10945',\n",
       " 212: '10948',\n",
       " 213: '10949',\n",
       " 214: '10953',\n",
       " 215: '10958',\n",
       " 216: '10961',\n",
       " 217: '1099',\n",
       " 218: '11003',\n",
       " 219: '11004',\n",
       " 220: '11010',\n",
       " 221: '11015',\n",
       " 222: '11021',\n",
       " 223: '11024',\n",
       " 224: '11031',\n",
       " 225: '11032',\n",
       " 226: '11036',\n",
       " 227: '11039',\n",
       " 228: '11056',\n",
       " 229: '1106',\n",
       " 230: '11061',\n",
       " 231: '11065',\n",
       " 232: '11067',\n",
       " 233: '1107',\n",
       " 234: '11072',\n",
       " 235: '11083',\n",
       " 236: '11086',\n",
       " 237: '11093',\n",
       " 238: '11100',\n",
       " 239: '11101',\n",
       " 240: '11112',\n",
       " 241: '11123',\n",
       " 242: '11130',\n",
       " 243: '11133',\n",
       " 244: '11144',\n",
       " 245: '11160',\n",
       " 246: '11164',\n",
       " 247: '11169',\n",
       " 248: '11170',\n",
       " 249: '11176',\n",
       " 250: '11186',\n",
       " 251: '1119',\n",
       " 252: '11190',\n",
       " 253: '11191',\n",
       " 254: '11194',\n",
       " 255: '11195',\n",
       " 256: '11198',\n",
       " 257: '11206',\n",
       " 258: '11212',\n",
       " 259: '11213',\n",
       " 260: '11223',\n",
       " 261: '11226',\n",
       " 262: '1123',\n",
       " 263: '11231',\n",
       " 264: '1124',\n",
       " 265: '11240',\n",
       " 266: '1125',\n",
       " 267: '11250',\n",
       " 268: '11254',\n",
       " 269: '11259',\n",
       " 270: '11261',\n",
       " 271: '11263',\n",
       " 272: '11267',\n",
       " 273: '11270',\n",
       " 274: '11272',\n",
       " 275: '11273',\n",
       " 276: '11278',\n",
       " 277: '11279',\n",
       " 278: '1128',\n",
       " 279: '1129',\n",
       " 280: '11294',\n",
       " 281: '11300',\n",
       " 282: '11306',\n",
       " 283: '11310',\n",
       " 284: '11314',\n",
       " 285: '11316',\n",
       " 286: '11320',\n",
       " 287: '11321',\n",
       " 288: '11327',\n",
       " 289: '11341',\n",
       " 290: '11344',\n",
       " 291: '11347',\n",
       " 292: '11349',\n",
       " 293: '11357',\n",
       " 294: '1136',\n",
       " 295: '11370',\n",
       " 296: '11377',\n",
       " 297: '11379',\n",
       " 298: '11381',\n",
       " 299: '11388',\n",
       " 300: '11396',\n",
       " 301: '1140',\n",
       " 302: '11404',\n",
       " 303: '11405',\n",
       " 304: '11406',\n",
       " 305: '11408',\n",
       " 306: '1141',\n",
       " 307: '11412',\n",
       " 308: '11415',\n",
       " 309: '11421',\n",
       " 310: '11423',\n",
       " 311: '11428',\n",
       " 312: '11438',\n",
       " 313: '1145',\n",
       " 314: '11450',\n",
       " 315: '11452',\n",
       " 316: '11465',\n",
       " 317: '11469',\n",
       " 318: '1147',\n",
       " 319: '11476',\n",
       " 320: '11479',\n",
       " 321: '11486',\n",
       " 322: '11487',\n",
       " 323: '1149',\n",
       " 324: '11499',\n",
       " 325: '1150',\n",
       " 326: '11500',\n",
       " 327: '1151',\n",
       " 328: '11519',\n",
       " 329: '11527',\n",
       " 330: '11530',\n",
       " 331: '11533',\n",
       " 332: '11537',\n",
       " 333: '11541',\n",
       " 334: '1155',\n",
       " 335: '11556',\n",
       " 336: '11559',\n",
       " 337: '1156',\n",
       " 338: '11567',\n",
       " 339: '11570',\n",
       " 340: '11573',\n",
       " 341: '11578',\n",
       " 342: '11586',\n",
       " 343: '11588',\n",
       " 344: '11591',\n",
       " 345: '11593',\n",
       " 346: '11596',\n",
       " 347: '11599',\n",
       " 348: '11600',\n",
       " 349: '11604',\n",
       " 350: '1162',\n",
       " 351: '11621',\n",
       " 352: '11622',\n",
       " 353: '11627',\n",
       " 354: '1163',\n",
       " 355: '11636',\n",
       " 356: '11637',\n",
       " 357: '11639',\n",
       " 358: '11642',\n",
       " 359: '11646',\n",
       " 360: '11660',\n",
       " 361: '11662',\n",
       " 362: '11671',\n",
       " 363: '11682',\n",
       " 364: '11683',\n",
       " 365: '11688',\n",
       " 366: '11690',\n",
       " 367: '11702',\n",
       " 368: '11728',\n",
       " 369: '1173',\n",
       " 370: '11730',\n",
       " 371: '11732',\n",
       " 372: '11738',\n",
       " 373: '11758',\n",
       " 374: '11762',\n",
       " 375: '11764',\n",
       " 376: '11769',\n",
       " 377: '11773',\n",
       " 378: '11778',\n",
       " 379: '1178',\n",
       " 380: '11782',\n",
       " 381: '11792',\n",
       " 382: '11796',\n",
       " 383: '11801',\n",
       " 384: '11805',\n",
       " 385: '11806',\n",
       " 386: '11823',\n",
       " 387: '11836',\n",
       " 388: '11841',\n",
       " 389: '11851',\n",
       " 390: '11856',\n",
       " 391: '11857',\n",
       " 392: '1186',\n",
       " 393: '11869',\n",
       " 394: '11873',\n",
       " 395: '11879',\n",
       " 396: '11880',\n",
       " 397: '11885',\n",
       " 398: '11893',\n",
       " 399: '11895',\n",
       " 400: '11902',\n",
       " 401: '11904',\n",
       " 402: '11906',\n",
       " 403: '11909',\n",
       " 404: '11913',\n",
       " 405: '11920',\n",
       " 406: '11924',\n",
       " 407: '11935',\n",
       " 408: '11939',\n",
       " 409: '11948',\n",
       " 410: '11949',\n",
       " 411: '11957',\n",
       " 412: '11958',\n",
       " 413: '11959',\n",
       " 414: '1196',\n",
       " 415: '11961',\n",
       " 416: '11964',\n",
       " 417: '11965',\n",
       " 418: '11967',\n",
       " 419: '11969',\n",
       " 420: '1197',\n",
       " 421: '11975',\n",
       " 422: '11980',\n",
       " 423: '11981',\n",
       " 424: '11988',\n",
       " 425: '11991',\n",
       " 426: '1202',\n",
       " 427: '1212',\n",
       " 428: '1214',\n",
       " 429: '1222',\n",
       " 430: '1227',\n",
       " 431: '1233',\n",
       " 432: '1235',\n",
       " 433: '1238',\n",
       " 434: '1240',\n",
       " 435: '1242',\n",
       " 436: '1245',\n",
       " 437: '1250',\n",
       " 438: '126',\n",
       " 439: '1274',\n",
       " 440: '1280',\n",
       " 441: '1290',\n",
       " 442: '1297',\n",
       " 443: '1299',\n",
       " 444: '1303',\n",
       " 445: '1311',\n",
       " 446: '1312',\n",
       " 447: '1318',\n",
       " 448: '1319',\n",
       " 449: '1320',\n",
       " 450: '1321',\n",
       " 451: '1327',\n",
       " 452: '133',\n",
       " 453: '1339',\n",
       " 454: '1343',\n",
       " 455: '1345',\n",
       " 456: '135',\n",
       " 457: '1350',\n",
       " 458: '1357',\n",
       " 459: '136',\n",
       " 460: '1361',\n",
       " 461: '1368',\n",
       " 462: '1379',\n",
       " 463: '1380',\n",
       " 464: '1385',\n",
       " 465: '1396',\n",
       " 466: '1407',\n",
       " 467: '141',\n",
       " 468: '1410',\n",
       " 469: '1411',\n",
       " 470: '142',\n",
       " 471: '1421',\n",
       " 472: '1434',\n",
       " 473: '1439',\n",
       " 474: '1440',\n",
       " 475: '1441',\n",
       " 476: '1445',\n",
       " 477: '146',\n",
       " 478: '1464',\n",
       " 479: '1466',\n",
       " 480: '1472',\n",
       " 481: '1476',\n",
       " 482: '1479',\n",
       " 483: '1480',\n",
       " 484: '1481',\n",
       " 485: '1485',\n",
       " 486: '1496',\n",
       " 487: '1500',\n",
       " 488: '1506',\n",
       " 489: '1507',\n",
       " 490: '1508',\n",
       " 491: '1525',\n",
       " 492: '153',\n",
       " 493: '1546',\n",
       " 494: '1555',\n",
       " 495: '1561',\n",
       " 496: '1562',\n",
       " 497: '1576',\n",
       " 498: '1581',\n",
       " 499: '1592',\n",
       " 500: '1598',\n",
       " 501: '160',\n",
       " 502: '1600',\n",
       " 503: '1617',\n",
       " 504: '1621',\n",
       " 505: '1624',\n",
       " 506: '1641',\n",
       " 507: '165',\n",
       " 508: '1663',\n",
       " 509: '1665',\n",
       " 510: '1666',\n",
       " 511: '1671',\n",
       " 512: '1672',\n",
       " 513: '168',\n",
       " 514: '1681',\n",
       " 515: '1685',\n",
       " 516: '1689',\n",
       " 517: '1690',\n",
       " 518: '1691',\n",
       " 519: '1693',\n",
       " 520: '1694',\n",
       " 521: '1702',\n",
       " 522: '1706',\n",
       " 523: '1709',\n",
       " 524: '171',\n",
       " 525: '1714',\n",
       " 526: '1716',\n",
       " 527: '1717',\n",
       " 528: '172',\n",
       " 529: '1720',\n",
       " 530: '1722',\n",
       " 531: '1726',\n",
       " 532: '1730',\n",
       " 533: '174',\n",
       " 534: '1740',\n",
       " 535: '1741',\n",
       " 536: '1742',\n",
       " 537: '1753',\n",
       " 538: '1754',\n",
       " 539: '1758',\n",
       " 540: '1759',\n",
       " 541: '1769',\n",
       " 542: '1770',\n",
       " 543: '1781',\n",
       " 544: '1783',\n",
       " 545: '1784',\n",
       " 546: '1786',\n",
       " 547: '1787',\n",
       " 548: '1811',\n",
       " 549: '1816',\n",
       " 550: '1820',\n",
       " 551: '1821',\n",
       " 552: '1822',\n",
       " 553: '1823',\n",
       " 554: '1825',\n",
       " 555: '1836',\n",
       " 556: '1844',\n",
       " 557: '1845',\n",
       " 558: '185',\n",
       " 559: '1858',\n",
       " 560: '1864',\n",
       " 561: '1865',\n",
       " 562: '1872',\n",
       " 563: '1875',\n",
       " 564: '1879',\n",
       " 565: '188',\n",
       " 566: '1885',\n",
       " 567: '1891',\n",
       " 568: '1897',\n",
       " 569: '1901',\n",
       " 570: '1907',\n",
       " 571: '1930',\n",
       " 572: '1941',\n",
       " 573: '1944',\n",
       " 574: '1954',\n",
       " 575: '197',\n",
       " 576: '1974',\n",
       " 577: '1993',\n",
       " 578: '1999',\n",
       " 579: '2',\n",
       " 580: '20',\n",
       " 581: '200',\n",
       " 582: '2002',\n",
       " 583: '2009',\n",
       " 584: '2011',\n",
       " 585: '2013',\n",
       " 586: '202',\n",
       " 587: '2024',\n",
       " 588: '2025',\n",
       " 589: '203',\n",
       " 590: '2033',\n",
       " 591: '2034',\n",
       " 592: '2037',\n",
       " 593: '2038',\n",
       " 594: '2042',\n",
       " 595: '2043',\n",
       " 596: '2049',\n",
       " 597: '2056',\n",
       " 598: '2063',\n",
       " 599: '2073',\n",
       " 600: '2074',\n",
       " 601: '2078',\n",
       " 602: '2080',\n",
       " 603: '209',\n",
       " 604: '2101',\n",
       " 605: '2103',\n",
       " 606: '2111',\n",
       " 607: '2112',\n",
       " 608: '2113',\n",
       " 609: '2124',\n",
       " 610: '2129',\n",
       " 611: '2131',\n",
       " 612: '2134',\n",
       " 613: '214',\n",
       " 614: '2159',\n",
       " 615: '2160',\n",
       " 616: '2171',\n",
       " 617: '2176',\n",
       " 618: '2193',\n",
       " 619: '2194',\n",
       " 620: '2196',\n",
       " 621: '2199',\n",
       " 622: '2201',\n",
       " 623: '2206',\n",
       " 624: '221',\n",
       " 625: '2220',\n",
       " 626: '2239',\n",
       " 627: '2241',\n",
       " 628: '2246',\n",
       " 629: '2253',\n",
       " 630: '2259',\n",
       " 631: '2270',\n",
       " 632: '2271',\n",
       " 633: '2278',\n",
       " 634: '2282',\n",
       " 635: '2285',\n",
       " 636: '2286',\n",
       " 637: '2289',\n",
       " 638: '2290',\n",
       " 639: '2297',\n",
       " 640: '230',\n",
       " 641: '2300',\n",
       " 642: '2301',\n",
       " 643: '2307',\n",
       " 644: '2311',\n",
       " 645: '2312',\n",
       " 646: '2316',\n",
       " 647: '2322',\n",
       " 648: '2324',\n",
       " 649: '2332',\n",
       " 650: '2333',\n",
       " 651: '2337',\n",
       " 652: '2339',\n",
       " 653: '2357',\n",
       " 654: '2361',\n",
       " 655: '2370',\n",
       " 656: '2371',\n",
       " 657: '2372',\n",
       " 658: '2380',\n",
       " 659: '2390',\n",
       " 660: '2399',\n",
       " 661: '2400',\n",
       " 662: '2403',\n",
       " 663: '2406',\n",
       " 664: '241',\n",
       " 665: '2421',\n",
       " 666: '2425',\n",
       " 667: '2435',\n",
       " 668: '2436',\n",
       " 669: '2438',\n",
       " 670: '2447',\n",
       " 671: '245',\n",
       " 672: '2455',\n",
       " 673: '2461',\n",
       " 674: '247',\n",
       " 675: '2474',\n",
       " 676: '2481',\n",
       " 677: '2490',\n",
       " 678: '2492',\n",
       " 679: '2495',\n",
       " 680: '2502',\n",
       " 681: '251',\n",
       " 682: '2516',\n",
       " 683: '2519',\n",
       " 684: '2532',\n",
       " 685: '2536',\n",
       " 686: '2539',\n",
       " 687: '2544',\n",
       " 688: '2548',\n",
       " 689: '2557',\n",
       " 690: '2566',\n",
       " 691: '2568',\n",
       " 692: '2569',\n",
       " 693: '2570',\n",
       " 694: '2571',\n",
       " 695: '2577',\n",
       " 696: '2583',\n",
       " 697: '2587',\n",
       " 698: '2590',\n",
       " 699: '2601',\n",
       " 700: '2604',\n",
       " 701: '2610',\n",
       " 702: '2615',\n",
       " 703: '2618',\n",
       " 704: '2620',\n",
       " 705: '2622',\n",
       " 706: '2624',\n",
       " 707: '2626',\n",
       " 708: '263',\n",
       " 709: '2636',\n",
       " 710: '2641',\n",
       " 711: '2645',\n",
       " 712: '2647',\n",
       " 713: '265',\n",
       " 714: '2658',\n",
       " 715: '2672',\n",
       " 716: '2681',\n",
       " 717: '2713',\n",
       " 718: '2714',\n",
       " 719: '2723',\n",
       " 720: '2724',\n",
       " 721: '2727',\n",
       " 722: '2731',\n",
       " 723: '2739',\n",
       " 724: '2744',\n",
       " 725: '2746',\n",
       " 726: '275',\n",
       " 727: '2750',\n",
       " 728: '2762',\n",
       " 729: '277',\n",
       " 730: '2771',\n",
       " 731: '2776',\n",
       " 732: '2782',\n",
       " 733: '2787',\n",
       " 734: '2798',\n",
       " 735: '280',\n",
       " 736: '2809',\n",
       " 737: '2817',\n",
       " 738: '2818',\n",
       " 739: '2827',\n",
       " 740: '283',\n",
       " 741: '2832',\n",
       " 742: '2836',\n",
       " 743: '2841',\n",
       " 744: '2843',\n",
       " 745: '2851',\n",
       " 746: '2857',\n",
       " 747: '2859',\n",
       " 748: '2863',\n",
       " 749: '2866',\n",
       " 750: '2870',\n",
       " 751: '2873',\n",
       " 752: '2881',\n",
       " 753: '2886',\n",
       " 754: '2887',\n",
       " 755: '2889',\n",
       " 756: '2890',\n",
       " 757: '2891',\n",
       " 758: '2895',\n",
       " 759: '2915',\n",
       " 760: '2918',\n",
       " 761: '2921',\n",
       " 762: '2925',\n",
       " 763: '2931',\n",
       " 764: '2939',\n",
       " 765: '2940',\n",
       " 766: '2945',\n",
       " 767: '2946',\n",
       " 768: '2948',\n",
       " 769: '2949',\n",
       " 770: '2952',\n",
       " 771: '2961',\n",
       " 772: '2969',\n",
       " 773: '297',\n",
       " 774: '2973',\n",
       " 775: '2974',\n",
       " 776: '2979',\n",
       " 777: '298',\n",
       " 778: '2993',\n",
       " 779: '2998',\n",
       " 780: '3009',\n",
       " 781: '3014',\n",
       " 782: '3017',\n",
       " 783: '3018',\n",
       " 784: '3025',\n",
       " 785: '3026',\n",
       " 786: '3028',\n",
       " 787: '3032',\n",
       " 788: '3036',\n",
       " 789: '3039',\n",
       " 790: '3046',\n",
       " 791: '305',\n",
       " 792: '3052',\n",
       " 793: '3053',\n",
       " 794: '3059',\n",
       " 795: '3063',\n",
       " 796: '3066',\n",
       " 797: '3067',\n",
       " 798: '3069',\n",
       " 799: '3071',\n",
       " 800: '3073',\n",
       " 801: '3076',\n",
       " 802: '3077',\n",
       " 803: '3080',\n",
       " 804: '3081',\n",
       " 805: '3083',\n",
       " 806: '3087',\n",
       " 807: '3093',\n",
       " 808: '310',\n",
       " 809: '3100',\n",
       " 810: '3102',\n",
       " 811: '311',\n",
       " 812: '3112',\n",
       " 813: '3113',\n",
       " 814: '3124',\n",
       " 815: '3125',\n",
       " 816: '3133',\n",
       " 817: '3137',\n",
       " 818: '3139',\n",
       " 819: '3140',\n",
       " 820: '3145',\n",
       " 821: '3159',\n",
       " 822: '3160',\n",
       " 823: '3163',\n",
       " 824: '3175',\n",
       " 825: '3178',\n",
       " 826: '3179',\n",
       " 827: '3180',\n",
       " 828: '3183',\n",
       " 829: '3185',\n",
       " 830: '3193',\n",
       " 831: '3194',\n",
       " 832: '3201',\n",
       " 833: '3203',\n",
       " 834: '3204',\n",
       " 835: '3205',\n",
       " 836: '3207',\n",
       " 837: '321',\n",
       " 838: '3216',\n",
       " 839: '3217',\n",
       " 840: '322',\n",
       " 841: '3220',\n",
       " 842: '3222',\n",
       " 843: '3226',\n",
       " 844: '3232',\n",
       " 845: '3235',\n",
       " 846: '3238',\n",
       " 847: '3239',\n",
       " 848: '3240',\n",
       " 849: '3244',\n",
       " 850: '3269',\n",
       " 851: '3273',\n",
       " 852: '3280',\n",
       " 853: '3294',\n",
       " 854: '33',\n",
       " 855: '330',\n",
       " 856: '3310',\n",
       " 857: '3311',\n",
       " 858: '3315',\n",
       " 859: '3317',\n",
       " 860: '3318',\n",
       " 861: '3323',\n",
       " 862: '3324',\n",
       " 863: '3327',\n",
       " 864: '3332',\n",
       " 865: '3338',\n",
       " 866: '3339',\n",
       " 867: '3346',\n",
       " 868: '3347',\n",
       " 869: '3353',\n",
       " 870: '3356',\n",
       " 871: '3359',\n",
       " 872: '3360',\n",
       " 873: '337',\n",
       " 874: '3370',\n",
       " 875: '3374',\n",
       " 876: '3378',\n",
       " 877: '3381',\n",
       " 878: '3387',\n",
       " 879: '3389',\n",
       " 880: '3390',\n",
       " 881: '3397',\n",
       " 882: '3405',\n",
       " 883: '3408',\n",
       " 884: '3409',\n",
       " 885: '341',\n",
       " 886: '3411',\n",
       " 887: '3413',\n",
       " 888: '3426',\n",
       " 889: '3428',\n",
       " 890: '3431',\n",
       " 891: '3436',\n",
       " 892: '3437',\n",
       " 893: '345',\n",
       " 894: '3451',\n",
       " 895: '3463',\n",
       " 896: '347',\n",
       " 897: '3470',\n",
       " 898: '3481',\n",
       " 899: '3484',\n",
       " 900: '3493',\n",
       " 901: '3499',\n",
       " 902: '3502',\n",
       " 903: '351',\n",
       " 904: '3514',\n",
       " 905: '3517',\n",
       " 906: '3521',\n",
       " 907: '3522',\n",
       " 908: '3525',\n",
       " 909: '3531',\n",
       " 910: '3541',\n",
       " 911: '3546',\n",
       " 912: '3556',\n",
       " 913: '3560',\n",
       " 914: '3561',\n",
       " 915: '3562',\n",
       " 916: '3564',\n",
       " 917: '3567',\n",
       " 918: '3568',\n",
       " 919: '3574',\n",
       " 920: '3577',\n",
       " 921: '3578',\n",
       " 922: '3586',\n",
       " 923: '3592',\n",
       " 924: '3593',\n",
       " 925: '3597',\n",
       " 926: '3598',\n",
       " 927: '3600',\n",
       " 928: '3601',\n",
       " 929: '3606',\n",
       " 930: '3607',\n",
       " 931: '3609',\n",
       " 932: '3612',\n",
       " 933: '3617',\n",
       " 934: '362',\n",
       " 935: '3623',\n",
       " 936: '3626',\n",
       " 937: '363',\n",
       " 938: '3634',\n",
       " 939: '3638',\n",
       " 940: '3639',\n",
       " 941: '3641',\n",
       " 942: '3642',\n",
       " 943: '3644',\n",
       " 944: '3652',\n",
       " 945: '367',\n",
       " 946: '3671',\n",
       " 947: '3673',\n",
       " 948: '3675',\n",
       " 949: '3676',\n",
       " 950: '3695',\n",
       " 951: '370',\n",
       " 952: '3704',\n",
       " 953: '3705',\n",
       " 954: '3717',\n",
       " 955: '3718',\n",
       " 956: '3739',\n",
       " 957: '3749',\n",
       " 958: '375',\n",
       " 959: '3752',\n",
       " 960: '3757',\n",
       " 961: '3758',\n",
       " 962: '3759',\n",
       " 963: '3762',\n",
       " 964: '3765',\n",
       " 965: '3768',\n",
       " 966: '3772',\n",
       " 967: '3774',\n",
       " 968: '3802',\n",
       " 969: '3804',\n",
       " 970: '3812',\n",
       " 971: '3819',\n",
       " 972: '382',\n",
       " 973: '3824',\n",
       " 974: '383',\n",
       " 975: '3830',\n",
       " 976: '3832',\n",
       " 977: '3837',\n",
       " 978: '3843',\n",
       " 979: '3852',\n",
       " 980: '3856',\n",
       " 981: '3859',\n",
       " 982: '3862',\n",
       " 983: '3863',\n",
       " 984: '3866',\n",
       " 985: '3867',\n",
       " 986: '3879',\n",
       " 987: '3881',\n",
       " 988: '3882',\n",
       " 989: '3887',\n",
       " 990: '390',\n",
       " 991: '3906',\n",
       " 992: '3915',\n",
       " 993: '3917',\n",
       " 994: '3919',\n",
       " 995: '3946',\n",
       " 996: '3956',\n",
       " 997: '3957',\n",
       " 998: '3960',\n",
       " 999: '397',\n",
       " ...}"
      ]
     },
     "execution_count": 46,
     "metadata": {},
     "output_type": "execute_result"
    }
   ],
   "source": [
    "user_dict "
   ]
  },
  {
   "cell_type": "code",
   "execution_count": 47,
   "metadata": {},
   "outputs": [
    {
     "data": {
      "text/html": [
       "<div>\n",
       "<style scoped>\n",
       "    .dataframe tbody tr th:only-of-type {\n",
       "        vertical-align: middle;\n",
       "    }\n",
       "\n",
       "    .dataframe tbody tr th {\n",
       "        vertical-align: top;\n",
       "    }\n",
       "\n",
       "    .dataframe thead th {\n",
       "        text-align: right;\n",
       "    }\n",
       "</style>\n",
       "<table border=\"1\" class=\"dataframe\">\n",
       "  <thead>\n",
       "    <tr style=\"text-align: right;\">\n",
       "      <th></th>\n",
       "      <th>object_id</th>\n",
       "      <th>adopted_user</th>\n",
       "    </tr>\n",
       "  </thead>\n",
       "  <tbody>\n",
       "    <tr>\n",
       "      <th>0</th>\n",
       "      <td>10</td>\n",
       "      <td>1</td>\n",
       "    </tr>\n",
       "    <tr>\n",
       "      <th>1</th>\n",
       "      <td>10002</td>\n",
       "      <td>1</td>\n",
       "    </tr>\n",
       "    <tr>\n",
       "      <th>2</th>\n",
       "      <td>10003</td>\n",
       "      <td>1</td>\n",
       "    </tr>\n",
       "    <tr>\n",
       "      <th>3</th>\n",
       "      <td>10006</td>\n",
       "      <td>1</td>\n",
       "    </tr>\n",
       "    <tr>\n",
       "      <th>4</th>\n",
       "      <td>10011</td>\n",
       "      <td>1</td>\n",
       "    </tr>\n",
       "    <tr>\n",
       "      <th>...</th>\n",
       "      <td>...</td>\n",
       "      <td>...</td>\n",
       "    </tr>\n",
       "    <tr>\n",
       "      <th>2243</th>\n",
       "      <td>999</td>\n",
       "      <td>1</td>\n",
       "    </tr>\n",
       "    <tr>\n",
       "      <th>2244</th>\n",
       "      <td>9991</td>\n",
       "      <td>1</td>\n",
       "    </tr>\n",
       "    <tr>\n",
       "      <th>2245</th>\n",
       "      <td>9992</td>\n",
       "      <td>1</td>\n",
       "    </tr>\n",
       "    <tr>\n",
       "      <th>2246</th>\n",
       "      <td>9994</td>\n",
       "      <td>1</td>\n",
       "    </tr>\n",
       "    <tr>\n",
       "      <th>2247</th>\n",
       "      <td>9999</td>\n",
       "      <td>1</td>\n",
       "    </tr>\n",
       "  </tbody>\n",
       "</table>\n",
       "<p>2248 rows × 2 columns</p>\n",
       "</div>"
      ],
      "text/plain": [
       "     object_id  adopted_user\n",
       "0           10             1\n",
       "1        10002             1\n",
       "2        10003             1\n",
       "3        10006             1\n",
       "4        10011             1\n",
       "...        ...           ...\n",
       "2243       999             1\n",
       "2244      9991             1\n",
       "2245      9992             1\n",
       "2246      9994             1\n",
       "2247      9999             1\n",
       "\n",
       "[2248 rows x 2 columns]"
      ]
     },
     "execution_count": 47,
     "metadata": {},
     "output_type": "execute_result"
    }
   ],
   "source": [
    "#Code to retrieve the values for a dictionary found on https://stackoverflow.com/questions/18837262/convert-python-dict-into-a-dataframe\n",
    "user_df_2 = pd.DataFrame(user_dict.items(), columns=['id', 'object_id'])\n",
    "user_df_2 = user_df_2.drop(['id'], axis=1)\n",
    "user_df_2['adopted_user'] = 1\n",
    "user_df_2"
   ]
  },
  {
   "cell_type": "markdown",
   "metadata": {},
   "source": [
    "### 2.3 Merge Users & Engagement Datasets/Feature Engieering"
   ]
  },
  {
   "cell_type": "markdown",
   "metadata": {},
   "source": [
    "After identifying users who logged into the product for 3 separate days or more as an adopted user, then I merged the two datasets for futher assessment."
   ]
  },
  {
   "cell_type": "code",
   "execution_count": 48,
   "metadata": {},
   "outputs": [],
   "source": [
    "merge_df = pd.merge(users_df, user_df_2, on='object_id', how='left')"
   ]
  },
  {
   "cell_type": "code",
   "execution_count": 49,
   "metadata": {},
   "outputs": [],
   "source": [
    "#Code to replace NaN values after merging to 0 found on https://stackoverflow.com/questions/13295735/how-to-replace-nan-values-in-a-dataframe-column\n",
    "merge_df['adopted_user'] = merge_df['adopted_user'].fillna(0)"
   ]
  },
  {
   "cell_type": "code",
   "execution_count": 50,
   "metadata": {
    "scrolled": false
   },
   "outputs": [
    {
     "data": {
      "text/html": [
       "<div>\n",
       "<style scoped>\n",
       "    .dataframe tbody tr th:only-of-type {\n",
       "        vertical-align: middle;\n",
       "    }\n",
       "\n",
       "    .dataframe tbody tr th {\n",
       "        vertical-align: top;\n",
       "    }\n",
       "\n",
       "    .dataframe thead th {\n",
       "        text-align: right;\n",
       "    }\n",
       "</style>\n",
       "<table border=\"1\" class=\"dataframe\">\n",
       "  <thead>\n",
       "    <tr style=\"text-align: right;\">\n",
       "      <th></th>\n",
       "      <th>object_id</th>\n",
       "      <th>creation_time</th>\n",
       "      <th>name</th>\n",
       "      <th>email</th>\n",
       "      <th>creation_source</th>\n",
       "      <th>last_session_creation_time</th>\n",
       "      <th>opted_in_to_mailing_list</th>\n",
       "      <th>enabled_for_marketing_drip</th>\n",
       "      <th>org_id</th>\n",
       "      <th>invited_by_user_id</th>\n",
       "      <th>adopted_user</th>\n",
       "    </tr>\n",
       "  </thead>\n",
       "  <tbody>\n",
       "    <tr>\n",
       "      <th>0</th>\n",
       "      <td>1</td>\n",
       "      <td>2014-04-22 03:53:30</td>\n",
       "      <td>Clausen August</td>\n",
       "      <td>AugustCClausen@yahoo.com</td>\n",
       "      <td>GUEST_INVITE</td>\n",
       "      <td>2014-04-22 03:53:30</td>\n",
       "      <td>1</td>\n",
       "      <td>0</td>\n",
       "      <td>11</td>\n",
       "      <td>10803.0</td>\n",
       "      <td>0.0</td>\n",
       "    </tr>\n",
       "    <tr>\n",
       "      <th>1</th>\n",
       "      <td>2</td>\n",
       "      <td>2013-11-15 03:45:04</td>\n",
       "      <td>Poole Matthew</td>\n",
       "      <td>MatthewPoole@gustr.com</td>\n",
       "      <td>ORG_INVITE</td>\n",
       "      <td>2014-03-31 03:45:04</td>\n",
       "      <td>0</td>\n",
       "      <td>0</td>\n",
       "      <td>1</td>\n",
       "      <td>316.0</td>\n",
       "      <td>1.0</td>\n",
       "    </tr>\n",
       "    <tr>\n",
       "      <th>2</th>\n",
       "      <td>3</td>\n",
       "      <td>2013-03-19 23:14:52</td>\n",
       "      <td>Bottrill Mitchell</td>\n",
       "      <td>MitchellBottrill@gustr.com</td>\n",
       "      <td>ORG_INVITE</td>\n",
       "      <td>2013-03-19 23:14:52</td>\n",
       "      <td>0</td>\n",
       "      <td>0</td>\n",
       "      <td>94</td>\n",
       "      <td>1525.0</td>\n",
       "      <td>0.0</td>\n",
       "    </tr>\n",
       "    <tr>\n",
       "      <th>3</th>\n",
       "      <td>4</td>\n",
       "      <td>2013-05-21 08:09:28</td>\n",
       "      <td>Clausen Nicklas</td>\n",
       "      <td>NicklasSClausen@yahoo.com</td>\n",
       "      <td>GUEST_INVITE</td>\n",
       "      <td>2013-05-22 08:09:28</td>\n",
       "      <td>0</td>\n",
       "      <td>0</td>\n",
       "      <td>1</td>\n",
       "      <td>5151.0</td>\n",
       "      <td>0.0</td>\n",
       "    </tr>\n",
       "    <tr>\n",
       "      <th>4</th>\n",
       "      <td>5</td>\n",
       "      <td>2013-01-17 10:14:20</td>\n",
       "      <td>Raw Grace</td>\n",
       "      <td>GraceRaw@yahoo.com</td>\n",
       "      <td>GUEST_INVITE</td>\n",
       "      <td>2013-01-22 10:14:20</td>\n",
       "      <td>0</td>\n",
       "      <td>0</td>\n",
       "      <td>193</td>\n",
       "      <td>5240.0</td>\n",
       "      <td>0.0</td>\n",
       "    </tr>\n",
       "    <tr>\n",
       "      <th>...</th>\n",
       "      <td>...</td>\n",
       "      <td>...</td>\n",
       "      <td>...</td>\n",
       "      <td>...</td>\n",
       "      <td>...</td>\n",
       "      <td>...</td>\n",
       "      <td>...</td>\n",
       "      <td>...</td>\n",
       "      <td>...</td>\n",
       "      <td>...</td>\n",
       "      <td>...</td>\n",
       "    </tr>\n",
       "    <tr>\n",
       "      <th>11995</th>\n",
       "      <td>11996</td>\n",
       "      <td>2013-09-06 06:14:15</td>\n",
       "      <td>Meier Sophia</td>\n",
       "      <td>SophiaMeier@gustr.com</td>\n",
       "      <td>ORG_INVITE</td>\n",
       "      <td>2013-09-06 06:14:15</td>\n",
       "      <td>0</td>\n",
       "      <td>0</td>\n",
       "      <td>89</td>\n",
       "      <td>8263.0</td>\n",
       "      <td>0.0</td>\n",
       "    </tr>\n",
       "    <tr>\n",
       "      <th>11996</th>\n",
       "      <td>11997</td>\n",
       "      <td>2013-01-10 18:28:37</td>\n",
       "      <td>Fisher Amelie</td>\n",
       "      <td>AmelieFisher@gmail.com</td>\n",
       "      <td>SIGNUP_GOOGLE_AUTH</td>\n",
       "      <td>2013-01-15 18:28:37</td>\n",
       "      <td>0</td>\n",
       "      <td>0</td>\n",
       "      <td>200</td>\n",
       "      <td>NaN</td>\n",
       "      <td>0.0</td>\n",
       "    </tr>\n",
       "    <tr>\n",
       "      <th>11997</th>\n",
       "      <td>11998</td>\n",
       "      <td>2014-04-27 12:45:16</td>\n",
       "      <td>Haynes Jake</td>\n",
       "      <td>JakeHaynes@cuvox.de</td>\n",
       "      <td>GUEST_INVITE</td>\n",
       "      <td>2014-04-27 12:45:16</td>\n",
       "      <td>1</td>\n",
       "      <td>1</td>\n",
       "      <td>83</td>\n",
       "      <td>8074.0</td>\n",
       "      <td>0.0</td>\n",
       "    </tr>\n",
       "    <tr>\n",
       "      <th>11998</th>\n",
       "      <td>11999</td>\n",
       "      <td>2012-05-31 11:55:59</td>\n",
       "      <td>Faber Annett</td>\n",
       "      <td>mhaerzxp@iuxiw.com</td>\n",
       "      <td>PERSONAL_PROJECTS</td>\n",
       "      <td>2012-06-02 11:55:59</td>\n",
       "      <td>0</td>\n",
       "      <td>0</td>\n",
       "      <td>6</td>\n",
       "      <td>NaN</td>\n",
       "      <td>0.0</td>\n",
       "    </tr>\n",
       "    <tr>\n",
       "      <th>11999</th>\n",
       "      <td>12000</td>\n",
       "      <td>2014-01-26 08:57:12</td>\n",
       "      <td>Lima Thaís</td>\n",
       "      <td>ThaisMeloLima@hotmail.com</td>\n",
       "      <td>SIGNUP</td>\n",
       "      <td>2014-01-26 08:57:12</td>\n",
       "      <td>0</td>\n",
       "      <td>1</td>\n",
       "      <td>0</td>\n",
       "      <td>NaN</td>\n",
       "      <td>0.0</td>\n",
       "    </tr>\n",
       "  </tbody>\n",
       "</table>\n",
       "<p>12000 rows × 11 columns</p>\n",
       "</div>"
      ],
      "text/plain": [
       "      object_id       creation_time               name  \\\n",
       "0             1 2014-04-22 03:53:30     Clausen August   \n",
       "1             2 2013-11-15 03:45:04      Poole Matthew   \n",
       "2             3 2013-03-19 23:14:52  Bottrill Mitchell   \n",
       "3             4 2013-05-21 08:09:28    Clausen Nicklas   \n",
       "4             5 2013-01-17 10:14:20          Raw Grace   \n",
       "...         ...                 ...                ...   \n",
       "11995     11996 2013-09-06 06:14:15       Meier Sophia   \n",
       "11996     11997 2013-01-10 18:28:37      Fisher Amelie   \n",
       "11997     11998 2014-04-27 12:45:16        Haynes Jake   \n",
       "11998     11999 2012-05-31 11:55:59       Faber Annett   \n",
       "11999     12000 2014-01-26 08:57:12         Lima Thaís   \n",
       "\n",
       "                            email     creation_source  \\\n",
       "0        AugustCClausen@yahoo.com        GUEST_INVITE   \n",
       "1          MatthewPoole@gustr.com          ORG_INVITE   \n",
       "2      MitchellBottrill@gustr.com          ORG_INVITE   \n",
       "3       NicklasSClausen@yahoo.com        GUEST_INVITE   \n",
       "4              GraceRaw@yahoo.com        GUEST_INVITE   \n",
       "...                           ...                 ...   \n",
       "11995       SophiaMeier@gustr.com          ORG_INVITE   \n",
       "11996      AmelieFisher@gmail.com  SIGNUP_GOOGLE_AUTH   \n",
       "11997         JakeHaynes@cuvox.de        GUEST_INVITE   \n",
       "11998          mhaerzxp@iuxiw.com   PERSONAL_PROJECTS   \n",
       "11999   ThaisMeloLima@hotmail.com              SIGNUP   \n",
       "\n",
       "      last_session_creation_time  opted_in_to_mailing_list  \\\n",
       "0            2014-04-22 03:53:30                         1   \n",
       "1            2014-03-31 03:45:04                         0   \n",
       "2            2013-03-19 23:14:52                         0   \n",
       "3            2013-05-22 08:09:28                         0   \n",
       "4            2013-01-22 10:14:20                         0   \n",
       "...                          ...                       ...   \n",
       "11995        2013-09-06 06:14:15                         0   \n",
       "11996        2013-01-15 18:28:37                         0   \n",
       "11997        2014-04-27 12:45:16                         1   \n",
       "11998        2012-06-02 11:55:59                         0   \n",
       "11999        2014-01-26 08:57:12                         0   \n",
       "\n",
       "       enabled_for_marketing_drip  org_id  invited_by_user_id  adopted_user  \n",
       "0                               0      11             10803.0           0.0  \n",
       "1                               0       1               316.0           1.0  \n",
       "2                               0      94              1525.0           0.0  \n",
       "3                               0       1              5151.0           0.0  \n",
       "4                               0     193              5240.0           0.0  \n",
       "...                           ...     ...                 ...           ...  \n",
       "11995                           0      89              8263.0           0.0  \n",
       "11996                           0     200                 NaN           0.0  \n",
       "11997                           1      83              8074.0           0.0  \n",
       "11998                           0       6                 NaN           0.0  \n",
       "11999                           1       0                 NaN           0.0  \n",
       "\n",
       "[12000 rows x 11 columns]"
      ]
     },
     "execution_count": 50,
     "metadata": {},
     "output_type": "execute_result"
    }
   ],
   "source": [
    "merge_df"
   ]
  },
  {
   "cell_type": "markdown",
   "metadata": {},
   "source": [
    "For further assessment in EDA, created another feature column in order to properly assess datetime columns of 'create_time' and 'last_session_creation_time' by creating a new field labeled as 'date_diff' take the difference of days between both the column datetime values. "
   ]
  },
  {
   "cell_type": "code",
   "execution_count": 51,
   "metadata": {},
   "outputs": [
    {
     "data": {
      "text/html": [
       "<div>\n",
       "<style scoped>\n",
       "    .dataframe tbody tr th:only-of-type {\n",
       "        vertical-align: middle;\n",
       "    }\n",
       "\n",
       "    .dataframe tbody tr th {\n",
       "        vertical-align: top;\n",
       "    }\n",
       "\n",
       "    .dataframe thead th {\n",
       "        text-align: right;\n",
       "    }\n",
       "</style>\n",
       "<table border=\"1\" class=\"dataframe\">\n",
       "  <thead>\n",
       "    <tr style=\"text-align: right;\">\n",
       "      <th></th>\n",
       "      <th>object_id</th>\n",
       "      <th>creation_time</th>\n",
       "      <th>name</th>\n",
       "      <th>email</th>\n",
       "      <th>creation_source</th>\n",
       "      <th>last_session_creation_time</th>\n",
       "      <th>opted_in_to_mailing_list</th>\n",
       "      <th>enabled_for_marketing_drip</th>\n",
       "      <th>org_id</th>\n",
       "      <th>invited_by_user_id</th>\n",
       "      <th>adopted_user</th>\n",
       "      <th>date_diff</th>\n",
       "    </tr>\n",
       "  </thead>\n",
       "  <tbody>\n",
       "    <tr>\n",
       "      <th>0</th>\n",
       "      <td>1</td>\n",
       "      <td>2014-04-22 03:53:30</td>\n",
       "      <td>Clausen August</td>\n",
       "      <td>AugustCClausen@yahoo.com</td>\n",
       "      <td>GUEST_INVITE</td>\n",
       "      <td>2014-04-22 03:53:30</td>\n",
       "      <td>1</td>\n",
       "      <td>0</td>\n",
       "      <td>11</td>\n",
       "      <td>10803.0</td>\n",
       "      <td>0.0</td>\n",
       "      <td>0.0</td>\n",
       "    </tr>\n",
       "    <tr>\n",
       "      <th>1</th>\n",
       "      <td>2</td>\n",
       "      <td>2013-11-15 03:45:04</td>\n",
       "      <td>Poole Matthew</td>\n",
       "      <td>MatthewPoole@gustr.com</td>\n",
       "      <td>ORG_INVITE</td>\n",
       "      <td>2014-03-31 03:45:04</td>\n",
       "      <td>0</td>\n",
       "      <td>0</td>\n",
       "      <td>1</td>\n",
       "      <td>316.0</td>\n",
       "      <td>1.0</td>\n",
       "      <td>136.0</td>\n",
       "    </tr>\n",
       "    <tr>\n",
       "      <th>2</th>\n",
       "      <td>3</td>\n",
       "      <td>2013-03-19 23:14:52</td>\n",
       "      <td>Bottrill Mitchell</td>\n",
       "      <td>MitchellBottrill@gustr.com</td>\n",
       "      <td>ORG_INVITE</td>\n",
       "      <td>2013-03-19 23:14:52</td>\n",
       "      <td>0</td>\n",
       "      <td>0</td>\n",
       "      <td>94</td>\n",
       "      <td>1525.0</td>\n",
       "      <td>0.0</td>\n",
       "      <td>0.0</td>\n",
       "    </tr>\n",
       "    <tr>\n",
       "      <th>3</th>\n",
       "      <td>4</td>\n",
       "      <td>2013-05-21 08:09:28</td>\n",
       "      <td>Clausen Nicklas</td>\n",
       "      <td>NicklasSClausen@yahoo.com</td>\n",
       "      <td>GUEST_INVITE</td>\n",
       "      <td>2013-05-22 08:09:28</td>\n",
       "      <td>0</td>\n",
       "      <td>0</td>\n",
       "      <td>1</td>\n",
       "      <td>5151.0</td>\n",
       "      <td>0.0</td>\n",
       "      <td>1.0</td>\n",
       "    </tr>\n",
       "    <tr>\n",
       "      <th>4</th>\n",
       "      <td>5</td>\n",
       "      <td>2013-01-17 10:14:20</td>\n",
       "      <td>Raw Grace</td>\n",
       "      <td>GraceRaw@yahoo.com</td>\n",
       "      <td>GUEST_INVITE</td>\n",
       "      <td>2013-01-22 10:14:20</td>\n",
       "      <td>0</td>\n",
       "      <td>0</td>\n",
       "      <td>193</td>\n",
       "      <td>5240.0</td>\n",
       "      <td>0.0</td>\n",
       "      <td>5.0</td>\n",
       "    </tr>\n",
       "    <tr>\n",
       "      <th>...</th>\n",
       "      <td>...</td>\n",
       "      <td>...</td>\n",
       "      <td>...</td>\n",
       "      <td>...</td>\n",
       "      <td>...</td>\n",
       "      <td>...</td>\n",
       "      <td>...</td>\n",
       "      <td>...</td>\n",
       "      <td>...</td>\n",
       "      <td>...</td>\n",
       "      <td>...</td>\n",
       "      <td>...</td>\n",
       "    </tr>\n",
       "    <tr>\n",
       "      <th>11995</th>\n",
       "      <td>11996</td>\n",
       "      <td>2013-09-06 06:14:15</td>\n",
       "      <td>Meier Sophia</td>\n",
       "      <td>SophiaMeier@gustr.com</td>\n",
       "      <td>ORG_INVITE</td>\n",
       "      <td>2013-09-06 06:14:15</td>\n",
       "      <td>0</td>\n",
       "      <td>0</td>\n",
       "      <td>89</td>\n",
       "      <td>8263.0</td>\n",
       "      <td>0.0</td>\n",
       "      <td>0.0</td>\n",
       "    </tr>\n",
       "    <tr>\n",
       "      <th>11996</th>\n",
       "      <td>11997</td>\n",
       "      <td>2013-01-10 18:28:37</td>\n",
       "      <td>Fisher Amelie</td>\n",
       "      <td>AmelieFisher@gmail.com</td>\n",
       "      <td>SIGNUP_GOOGLE_AUTH</td>\n",
       "      <td>2013-01-15 18:28:37</td>\n",
       "      <td>0</td>\n",
       "      <td>0</td>\n",
       "      <td>200</td>\n",
       "      <td>NaN</td>\n",
       "      <td>0.0</td>\n",
       "      <td>5.0</td>\n",
       "    </tr>\n",
       "    <tr>\n",
       "      <th>11997</th>\n",
       "      <td>11998</td>\n",
       "      <td>2014-04-27 12:45:16</td>\n",
       "      <td>Haynes Jake</td>\n",
       "      <td>JakeHaynes@cuvox.de</td>\n",
       "      <td>GUEST_INVITE</td>\n",
       "      <td>2014-04-27 12:45:16</td>\n",
       "      <td>1</td>\n",
       "      <td>1</td>\n",
       "      <td>83</td>\n",
       "      <td>8074.0</td>\n",
       "      <td>0.0</td>\n",
       "      <td>0.0</td>\n",
       "    </tr>\n",
       "    <tr>\n",
       "      <th>11998</th>\n",
       "      <td>11999</td>\n",
       "      <td>2012-05-31 11:55:59</td>\n",
       "      <td>Faber Annett</td>\n",
       "      <td>mhaerzxp@iuxiw.com</td>\n",
       "      <td>PERSONAL_PROJECTS</td>\n",
       "      <td>2012-06-02 11:55:59</td>\n",
       "      <td>0</td>\n",
       "      <td>0</td>\n",
       "      <td>6</td>\n",
       "      <td>NaN</td>\n",
       "      <td>0.0</td>\n",
       "      <td>2.0</td>\n",
       "    </tr>\n",
       "    <tr>\n",
       "      <th>11999</th>\n",
       "      <td>12000</td>\n",
       "      <td>2014-01-26 08:57:12</td>\n",
       "      <td>Lima Thaís</td>\n",
       "      <td>ThaisMeloLima@hotmail.com</td>\n",
       "      <td>SIGNUP</td>\n",
       "      <td>2014-01-26 08:57:12</td>\n",
       "      <td>0</td>\n",
       "      <td>1</td>\n",
       "      <td>0</td>\n",
       "      <td>NaN</td>\n",
       "      <td>0.0</td>\n",
       "      <td>0.0</td>\n",
       "    </tr>\n",
       "  </tbody>\n",
       "</table>\n",
       "<p>12000 rows × 12 columns</p>\n",
       "</div>"
      ],
      "text/plain": [
       "      object_id       creation_time               name  \\\n",
       "0             1 2014-04-22 03:53:30     Clausen August   \n",
       "1             2 2013-11-15 03:45:04      Poole Matthew   \n",
       "2             3 2013-03-19 23:14:52  Bottrill Mitchell   \n",
       "3             4 2013-05-21 08:09:28    Clausen Nicklas   \n",
       "4             5 2013-01-17 10:14:20          Raw Grace   \n",
       "...         ...                 ...                ...   \n",
       "11995     11996 2013-09-06 06:14:15       Meier Sophia   \n",
       "11996     11997 2013-01-10 18:28:37      Fisher Amelie   \n",
       "11997     11998 2014-04-27 12:45:16        Haynes Jake   \n",
       "11998     11999 2012-05-31 11:55:59       Faber Annett   \n",
       "11999     12000 2014-01-26 08:57:12         Lima Thaís   \n",
       "\n",
       "                            email     creation_source  \\\n",
       "0        AugustCClausen@yahoo.com        GUEST_INVITE   \n",
       "1          MatthewPoole@gustr.com          ORG_INVITE   \n",
       "2      MitchellBottrill@gustr.com          ORG_INVITE   \n",
       "3       NicklasSClausen@yahoo.com        GUEST_INVITE   \n",
       "4              GraceRaw@yahoo.com        GUEST_INVITE   \n",
       "...                           ...                 ...   \n",
       "11995       SophiaMeier@gustr.com          ORG_INVITE   \n",
       "11996      AmelieFisher@gmail.com  SIGNUP_GOOGLE_AUTH   \n",
       "11997         JakeHaynes@cuvox.de        GUEST_INVITE   \n",
       "11998          mhaerzxp@iuxiw.com   PERSONAL_PROJECTS   \n",
       "11999   ThaisMeloLima@hotmail.com              SIGNUP   \n",
       "\n",
       "      last_session_creation_time  opted_in_to_mailing_list  \\\n",
       "0            2014-04-22 03:53:30                         1   \n",
       "1            2014-03-31 03:45:04                         0   \n",
       "2            2013-03-19 23:14:52                         0   \n",
       "3            2013-05-22 08:09:28                         0   \n",
       "4            2013-01-22 10:14:20                         0   \n",
       "...                          ...                       ...   \n",
       "11995        2013-09-06 06:14:15                         0   \n",
       "11996        2013-01-15 18:28:37                         0   \n",
       "11997        2014-04-27 12:45:16                         1   \n",
       "11998        2012-06-02 11:55:59                         0   \n",
       "11999        2014-01-26 08:57:12                         0   \n",
       "\n",
       "       enabled_for_marketing_drip  org_id  invited_by_user_id  adopted_user  \\\n",
       "0                               0      11             10803.0           0.0   \n",
       "1                               0       1               316.0           1.0   \n",
       "2                               0      94              1525.0           0.0   \n",
       "3                               0       1              5151.0           0.0   \n",
       "4                               0     193              5240.0           0.0   \n",
       "...                           ...     ...                 ...           ...   \n",
       "11995                           0      89              8263.0           0.0   \n",
       "11996                           0     200                 NaN           0.0   \n",
       "11997                           1      83              8074.0           0.0   \n",
       "11998                           0       6                 NaN           0.0   \n",
       "11999                           1       0                 NaN           0.0   \n",
       "\n",
       "       date_diff  \n",
       "0            0.0  \n",
       "1          136.0  \n",
       "2            0.0  \n",
       "3            1.0  \n",
       "4            5.0  \n",
       "...          ...  \n",
       "11995        0.0  \n",
       "11996        5.0  \n",
       "11997        0.0  \n",
       "11998        2.0  \n",
       "11999        0.0  \n",
       "\n",
       "[12000 rows x 12 columns]"
      ]
     },
     "execution_count": 51,
     "metadata": {},
     "output_type": "execute_result"
    }
   ],
   "source": [
    "#Code to filter out NaT values from pandas dataframe found on https://stackoverflow.com/questions/23747451/filtering-all-rows-with-nat-in-a-column-in-dataframe-python\n",
    "merge_df['date_diff'] = merge_df['last_session_creation_time'] - merge_df['creation_time']\n",
    "filter_NaT = merge_df[merge_df['date_diff'].notnull()]\n",
    "merge_df['date_diff'] = filter_NaT['date_diff'].astype(str).str.strip('days').astype(float)\n",
    "merge_df"
   ]
  },
  {
   "cell_type": "code",
   "execution_count": 70,
   "metadata": {
    "scrolled": false
   },
   "outputs": [
    {
     "data": {
      "text/html": [
       "<div>\n",
       "<style scoped>\n",
       "    .dataframe tbody tr th:only-of-type {\n",
       "        vertical-align: middle;\n",
       "    }\n",
       "\n",
       "    .dataframe tbody tr th {\n",
       "        vertical-align: top;\n",
       "    }\n",
       "\n",
       "    .dataframe thead th {\n",
       "        text-align: right;\n",
       "    }\n",
       "</style>\n",
       "<table border=\"1\" class=\"dataframe\">\n",
       "  <thead>\n",
       "    <tr style=\"text-align: right;\">\n",
       "      <th></th>\n",
       "      <th>object_id</th>\n",
       "      <th>creation_time</th>\n",
       "      <th>name</th>\n",
       "      <th>email</th>\n",
       "      <th>creation_source</th>\n",
       "      <th>last_session_creation_time</th>\n",
       "      <th>opted_in_to_mailing_list</th>\n",
       "      <th>enabled_for_marketing_drip</th>\n",
       "      <th>org_id</th>\n",
       "      <th>invited_by_user_id</th>\n",
       "      <th>adopted_user</th>\n",
       "      <th>date_diff</th>\n",
       "    </tr>\n",
       "  </thead>\n",
       "  <tbody>\n",
       "    <tr>\n",
       "      <th>7</th>\n",
       "      <td>8</td>\n",
       "      <td>2013-07-31 05:34:02</td>\n",
       "      <td>Hamilton Danielle</td>\n",
       "      <td>DanielleHamilton@yahoo.com</td>\n",
       "      <td>PERSONAL_PROJECTS</td>\n",
       "      <td>NaT</td>\n",
       "      <td>1</td>\n",
       "      <td>1</td>\n",
       "      <td>74</td>\n",
       "      <td>NaN</td>\n",
       "      <td>0.0</td>\n",
       "      <td>NaN</td>\n",
       "    </tr>\n",
       "    <tr>\n",
       "      <th>8</th>\n",
       "      <td>9</td>\n",
       "      <td>2013-11-05 04:04:24</td>\n",
       "      <td>Amsel Paul</td>\n",
       "      <td>PaulAmsel@hotmail.com</td>\n",
       "      <td>PERSONAL_PROJECTS</td>\n",
       "      <td>NaT</td>\n",
       "      <td>0</td>\n",
       "      <td>0</td>\n",
       "      <td>302</td>\n",
       "      <td>NaN</td>\n",
       "      <td>0.0</td>\n",
       "      <td>NaN</td>\n",
       "    </tr>\n",
       "    <tr>\n",
       "      <th>11</th>\n",
       "      <td>12</td>\n",
       "      <td>2014-04-17 23:48:38</td>\n",
       "      <td>Mathiesen Lærke</td>\n",
       "      <td>LaerkeLMathiesen@cuvox.de</td>\n",
       "      <td>ORG_INVITE</td>\n",
       "      <td>NaT</td>\n",
       "      <td>0</td>\n",
       "      <td>0</td>\n",
       "      <td>130</td>\n",
       "      <td>9270.0</td>\n",
       "      <td>0.0</td>\n",
       "      <td>NaN</td>\n",
       "    </tr>\n",
       "    <tr>\n",
       "      <th>14</th>\n",
       "      <td>15</td>\n",
       "      <td>2013-07-16 21:33:54</td>\n",
       "      <td>Theiss Ralf</td>\n",
       "      <td>RalfTheiss@hotmail.com</td>\n",
       "      <td>PERSONAL_PROJECTS</td>\n",
       "      <td>NaT</td>\n",
       "      <td>0</td>\n",
       "      <td>0</td>\n",
       "      <td>175</td>\n",
       "      <td>NaN</td>\n",
       "      <td>0.0</td>\n",
       "      <td>NaN</td>\n",
       "    </tr>\n",
       "    <tr>\n",
       "      <th>15</th>\n",
       "      <td>16</td>\n",
       "      <td>2013-02-11 10:09:50</td>\n",
       "      <td>Engel René</td>\n",
       "      <td>ReneEngel@hotmail.com</td>\n",
       "      <td>PERSONAL_PROJECTS</td>\n",
       "      <td>NaT</td>\n",
       "      <td>0</td>\n",
       "      <td>0</td>\n",
       "      <td>211</td>\n",
       "      <td>NaN</td>\n",
       "      <td>0.0</td>\n",
       "      <td>NaN</td>\n",
       "    </tr>\n",
       "    <tr>\n",
       "      <th>...</th>\n",
       "      <td>...</td>\n",
       "      <td>...</td>\n",
       "      <td>...</td>\n",
       "      <td>...</td>\n",
       "      <td>...</td>\n",
       "      <td>...</td>\n",
       "      <td>...</td>\n",
       "      <td>...</td>\n",
       "      <td>...</td>\n",
       "      <td>...</td>\n",
       "      <td>...</td>\n",
       "      <td>...</td>\n",
       "    </tr>\n",
       "    <tr>\n",
       "      <th>11975</th>\n",
       "      <td>11976</td>\n",
       "      <td>2013-12-25 22:01:41</td>\n",
       "      <td>Kohl Leah</td>\n",
       "      <td>LeahKohl@hotmail.com</td>\n",
       "      <td>PERSONAL_PROJECTS</td>\n",
       "      <td>NaT</td>\n",
       "      <td>0</td>\n",
       "      <td>0</td>\n",
       "      <td>248</td>\n",
       "      <td>NaN</td>\n",
       "      <td>0.0</td>\n",
       "      <td>NaN</td>\n",
       "    </tr>\n",
       "    <tr>\n",
       "      <th>11977</th>\n",
       "      <td>11978</td>\n",
       "      <td>2014-04-23 16:28:06</td>\n",
       "      <td>Castro Pedro</td>\n",
       "      <td>PedroCunhaCastro@gustr.com</td>\n",
       "      <td>PERSONAL_PROJECTS</td>\n",
       "      <td>NaT</td>\n",
       "      <td>1</td>\n",
       "      <td>0</td>\n",
       "      <td>29</td>\n",
       "      <td>NaN</td>\n",
       "      <td>0.0</td>\n",
       "      <td>NaN</td>\n",
       "    </tr>\n",
       "    <tr>\n",
       "      <th>11984</th>\n",
       "      <td>11985</td>\n",
       "      <td>2013-07-08 17:23:26</td>\n",
       "      <td>Jespersen Marcus</td>\n",
       "      <td>MarcusTJespersen@cuvox.de</td>\n",
       "      <td>PERSONAL_PROJECTS</td>\n",
       "      <td>NaT</td>\n",
       "      <td>0</td>\n",
       "      <td>0</td>\n",
       "      <td>74</td>\n",
       "      <td>NaN</td>\n",
       "      <td>0.0</td>\n",
       "      <td>NaN</td>\n",
       "    </tr>\n",
       "    <tr>\n",
       "      <th>11992</th>\n",
       "      <td>11993</td>\n",
       "      <td>2013-03-28 23:24:21</td>\n",
       "      <td>Townsend Isabel</td>\n",
       "      <td>IsabelTownsend@cuvox.de</td>\n",
       "      <td>PERSONAL_PROJECTS</td>\n",
       "      <td>NaT</td>\n",
       "      <td>0</td>\n",
       "      <td>0</td>\n",
       "      <td>281</td>\n",
       "      <td>NaN</td>\n",
       "      <td>0.0</td>\n",
       "      <td>NaN</td>\n",
       "    </tr>\n",
       "    <tr>\n",
       "      <th>11993</th>\n",
       "      <td>11994</td>\n",
       "      <td>2012-06-05 04:46:16</td>\n",
       "      <td>Grimstone Joel</td>\n",
       "      <td>conxzghp@eaouk.com</td>\n",
       "      <td>GUEST_INVITE</td>\n",
       "      <td>NaT</td>\n",
       "      <td>0</td>\n",
       "      <td>0</td>\n",
       "      <td>84</td>\n",
       "      <td>5450.0</td>\n",
       "      <td>0.0</td>\n",
       "      <td>NaN</td>\n",
       "    </tr>\n",
       "  </tbody>\n",
       "</table>\n",
       "<p>3177 rows × 12 columns</p>\n",
       "</div>"
      ],
      "text/plain": [
       "      object_id       creation_time               name  \\\n",
       "7             8 2013-07-31 05:34:02  Hamilton Danielle   \n",
       "8             9 2013-11-05 04:04:24         Amsel Paul   \n",
       "11           12 2014-04-17 23:48:38    Mathiesen Lærke   \n",
       "14           15 2013-07-16 21:33:54        Theiss Ralf   \n",
       "15           16 2013-02-11 10:09:50         Engel René   \n",
       "...         ...                 ...                ...   \n",
       "11975     11976 2013-12-25 22:01:41          Kohl Leah   \n",
       "11977     11978 2014-04-23 16:28:06       Castro Pedro   \n",
       "11984     11985 2013-07-08 17:23:26   Jespersen Marcus   \n",
       "11992     11993 2013-03-28 23:24:21    Townsend Isabel   \n",
       "11993     11994 2012-06-05 04:46:16     Grimstone Joel   \n",
       "\n",
       "                            email    creation_source  \\\n",
       "7      DanielleHamilton@yahoo.com  PERSONAL_PROJECTS   \n",
       "8           PaulAmsel@hotmail.com  PERSONAL_PROJECTS   \n",
       "11      LaerkeLMathiesen@cuvox.de         ORG_INVITE   \n",
       "14         RalfTheiss@hotmail.com  PERSONAL_PROJECTS   \n",
       "15          ReneEngel@hotmail.com  PERSONAL_PROJECTS   \n",
       "...                           ...                ...   \n",
       "11975        LeahKohl@hotmail.com  PERSONAL_PROJECTS   \n",
       "11977  PedroCunhaCastro@gustr.com  PERSONAL_PROJECTS   \n",
       "11984   MarcusTJespersen@cuvox.de  PERSONAL_PROJECTS   \n",
       "11992     IsabelTownsend@cuvox.de  PERSONAL_PROJECTS   \n",
       "11993          conxzghp@eaouk.com       GUEST_INVITE   \n",
       "\n",
       "      last_session_creation_time  opted_in_to_mailing_list  \\\n",
       "7                            NaT                         1   \n",
       "8                            NaT                         0   \n",
       "11                           NaT                         0   \n",
       "14                           NaT                         0   \n",
       "15                           NaT                         0   \n",
       "...                          ...                       ...   \n",
       "11975                        NaT                         0   \n",
       "11977                        NaT                         1   \n",
       "11984                        NaT                         0   \n",
       "11992                        NaT                         0   \n",
       "11993                        NaT                         0   \n",
       "\n",
       "       enabled_for_marketing_drip  org_id  invited_by_user_id  adopted_user  \\\n",
       "7                               1      74                 NaN           0.0   \n",
       "8                               0     302                 NaN           0.0   \n",
       "11                              0     130              9270.0           0.0   \n",
       "14                              0     175                 NaN           0.0   \n",
       "15                              0     211                 NaN           0.0   \n",
       "...                           ...     ...                 ...           ...   \n",
       "11975                           0     248                 NaN           0.0   \n",
       "11977                           0      29                 NaN           0.0   \n",
       "11984                           0      74                 NaN           0.0   \n",
       "11992                           0     281                 NaN           0.0   \n",
       "11993                           0      84              5450.0           0.0   \n",
       "\n",
       "       date_diff  \n",
       "7            NaN  \n",
       "8            NaN  \n",
       "11           NaN  \n",
       "14           NaN  \n",
       "15           NaN  \n",
       "...          ...  \n",
       "11975        NaN  \n",
       "11977        NaN  \n",
       "11984        NaN  \n",
       "11992        NaN  \n",
       "11993        NaN  \n",
       "\n",
       "[3177 rows x 12 columns]"
      ]
     },
     "execution_count": 70,
     "metadata": {},
     "output_type": "execute_result"
    }
   ],
   "source": [
    "merge_df[merge_df['date_diff'].isnull() == True ]"
   ]
  },
  {
   "cell_type": "markdown",
   "metadata": {},
   "source": [
    "In order to handle the missing values within the 'last_session_creation_time' column causing 'date_diff' to also have null values, the 'date_diff' column NaT values will be imputed with the mean of the 'date_diff' days for sake of example. However, in actual implementation, further communication will be needed to properly assess reasoning for null values within the 'last_session_creation_time' column."
   ]
  },
  {
   "cell_type": "code",
   "execution_count": 74,
   "metadata": {},
   "outputs": [],
   "source": [
    "merge_df['date_diff'] = merge_df['date_diff'].fillna(merge_df['date_diff'].mean())"
   ]
  },
  {
   "cell_type": "code",
   "execution_count": 76,
   "metadata": {},
   "outputs": [
    {
     "data": {
      "text/plain": [
       "object_id                        0\n",
       "creation_time                    0\n",
       "name                             0\n",
       "email                            0\n",
       "creation_source                  0\n",
       "last_session_creation_time    3177\n",
       "opted_in_to_mailing_list         0\n",
       "enabled_for_marketing_drip       0\n",
       "org_id                           0\n",
       "invited_by_user_id            5583\n",
       "adopted_user                     0\n",
       "date_diff                        0\n",
       "dtype: int64"
      ]
     },
     "execution_count": 76,
     "metadata": {},
     "output_type": "execute_result"
    }
   ],
   "source": [
    "merge_df.isnull().sum()"
   ]
  },
  {
   "cell_type": "markdown",
   "metadata": {},
   "source": [
    "## 3. EDA Merged User Dataset"
   ]
  },
  {
   "cell_type": "markdown",
   "metadata": {},
   "source": [
    "### 3.1 Feature Plots"
   ]
  },
  {
   "cell_type": "code",
   "execution_count": 77,
   "metadata": {},
   "outputs": [
    {
     "data": {
      "image/png": "[encoded data removed]",
      "text/plain": [
       "<Figure size 640x480 with 1 Axes>"
      ]
     },
     "metadata": {},
     "output_type": "display_data"
    }
   ],
   "source": [
    "sns.countplot(data=merge_df, x='creation_source')\n",
    "plt.xticks(rotation=45)\n",
    "plt.show()"
   ]
  },
  {
   "cell_type": "markdown",
   "metadata": {},
   "source": [
    "Looking at the above plot, it seems most users account were created through an invitation from the organization with then being invited as a guest, created via the website, and finally created through joining another current user's workspace. "
   ]
  },
  {
   "cell_type": "code",
   "execution_count": 78,
   "metadata": {
    "scrolled": false
   },
   "outputs": [
    {
     "data": {
      "image/png": "[encoded data removed]",
      "text/plain": [
       "<Figure size 640x480 with 1 Axes>"
      ]
     },
     "metadata": {},
     "output_type": "display_data"
    }
   ],
   "source": [
    "sns.histplot(data=merge_df, x='date_diff')\n",
    "plt.show()"
   ]
  },
  {
   "cell_type": "markdown",
   "metadata": {},
   "source": [
    "The above plot indicates that most user activity happens within the first few times the user logged into the product with also several showing within the imputed 59 days (again this assumption will need to be further assessed for those involved as per why 'last_session_creation_time' had null values. A potential marketing insight could be to try and market create discounts for users to continue to stay on the product for a longer term."
   ]
  },
  {
   "cell_type": "markdown",
   "metadata": {},
   "source": [
    "### 3.2 Correlation Heatmap"
   ]
  },
  {
   "cell_type": "code",
   "execution_count": 79,
   "metadata": {},
   "outputs": [],
   "source": [
    "#Creating dummy variables for categorical creation source but also dropping values within column to build a correlation object to see relationships between features and target\n",
    "dummy_merge = pd.get_dummies(merge_df, columns=['creation_source'])\n",
    "dummy_merge = dummy_merge.drop(['object_id', 'creation_time', 'name', 'email', 'last_session_creation_time', 'invited_by_user_id', 'org_id'], axis=1)"
   ]
  },
  {
   "cell_type": "code",
   "execution_count": 80,
   "metadata": {},
   "outputs": [
    {
     "data": {
      "text/html": [
       "<div>\n",
       "<style scoped>\n",
       "    .dataframe tbody tr th:only-of-type {\n",
       "        vertical-align: middle;\n",
       "    }\n",
       "\n",
       "    .dataframe tbody tr th {\n",
       "        vertical-align: top;\n",
       "    }\n",
       "\n",
       "    .dataframe thead th {\n",
       "        text-align: right;\n",
       "    }\n",
       "</style>\n",
       "<table border=\"1\" class=\"dataframe\">\n",
       "  <thead>\n",
       "    <tr style=\"text-align: right;\">\n",
       "      <th></th>\n",
       "      <th>opted_in_to_mailing_list</th>\n",
       "      <th>enabled_for_marketing_drip</th>\n",
       "      <th>adopted_user</th>\n",
       "      <th>date_diff</th>\n",
       "      <th>creation_source_GUEST_INVITE</th>\n",
       "      <th>creation_source_ORG_INVITE</th>\n",
       "      <th>creation_source_PERSONAL_PROJECTS</th>\n",
       "      <th>creation_source_SIGNUP</th>\n",
       "      <th>creation_source_SIGNUP_GOOGLE_AUTH</th>\n",
       "    </tr>\n",
       "  </thead>\n",
       "  <tbody>\n",
       "    <tr>\n",
       "      <th>0</th>\n",
       "      <td>1</td>\n",
       "      <td>0</td>\n",
       "      <td>0.0</td>\n",
       "      <td>0.0</td>\n",
       "      <td>1</td>\n",
       "      <td>0</td>\n",
       "      <td>0</td>\n",
       "      <td>0</td>\n",
       "      <td>0</td>\n",
       "    </tr>\n",
       "    <tr>\n",
       "      <th>1</th>\n",
       "      <td>0</td>\n",
       "      <td>0</td>\n",
       "      <td>1.0</td>\n",
       "      <td>136.0</td>\n",
       "      <td>0</td>\n",
       "      <td>1</td>\n",
       "      <td>0</td>\n",
       "      <td>0</td>\n",
       "      <td>0</td>\n",
       "    </tr>\n",
       "    <tr>\n",
       "      <th>2</th>\n",
       "      <td>0</td>\n",
       "      <td>0</td>\n",
       "      <td>0.0</td>\n",
       "      <td>0.0</td>\n",
       "      <td>0</td>\n",
       "      <td>1</td>\n",
       "      <td>0</td>\n",
       "      <td>0</td>\n",
       "      <td>0</td>\n",
       "    </tr>\n",
       "    <tr>\n",
       "      <th>3</th>\n",
       "      <td>0</td>\n",
       "      <td>0</td>\n",
       "      <td>0.0</td>\n",
       "      <td>1.0</td>\n",
       "      <td>1</td>\n",
       "      <td>0</td>\n",
       "      <td>0</td>\n",
       "      <td>0</td>\n",
       "      <td>0</td>\n",
       "    </tr>\n",
       "    <tr>\n",
       "      <th>4</th>\n",
       "      <td>0</td>\n",
       "      <td>0</td>\n",
       "      <td>0.0</td>\n",
       "      <td>5.0</td>\n",
       "      <td>1</td>\n",
       "      <td>0</td>\n",
       "      <td>0</td>\n",
       "      <td>0</td>\n",
       "      <td>0</td>\n",
       "    </tr>\n",
       "    <tr>\n",
       "      <th>...</th>\n",
       "      <td>...</td>\n",
       "      <td>...</td>\n",
       "      <td>...</td>\n",
       "      <td>...</td>\n",
       "      <td>...</td>\n",
       "      <td>...</td>\n",
       "      <td>...</td>\n",
       "      <td>...</td>\n",
       "      <td>...</td>\n",
       "    </tr>\n",
       "    <tr>\n",
       "      <th>11995</th>\n",
       "      <td>0</td>\n",
       "      <td>0</td>\n",
       "      <td>0.0</td>\n",
       "      <td>0.0</td>\n",
       "      <td>0</td>\n",
       "      <td>1</td>\n",
       "      <td>0</td>\n",
       "      <td>0</td>\n",
       "      <td>0</td>\n",
       "    </tr>\n",
       "    <tr>\n",
       "      <th>11996</th>\n",
       "      <td>0</td>\n",
       "      <td>0</td>\n",
       "      <td>0.0</td>\n",
       "      <td>5.0</td>\n",
       "      <td>0</td>\n",
       "      <td>0</td>\n",
       "      <td>0</td>\n",
       "      <td>0</td>\n",
       "      <td>1</td>\n",
       "    </tr>\n",
       "    <tr>\n",
       "      <th>11997</th>\n",
       "      <td>1</td>\n",
       "      <td>1</td>\n",
       "      <td>0.0</td>\n",
       "      <td>0.0</td>\n",
       "      <td>1</td>\n",
       "      <td>0</td>\n",
       "      <td>0</td>\n",
       "      <td>0</td>\n",
       "      <td>0</td>\n",
       "    </tr>\n",
       "    <tr>\n",
       "      <th>11998</th>\n",
       "      <td>0</td>\n",
       "      <td>0</td>\n",
       "      <td>0.0</td>\n",
       "      <td>2.0</td>\n",
       "      <td>0</td>\n",
       "      <td>0</td>\n",
       "      <td>1</td>\n",
       "      <td>0</td>\n",
       "      <td>0</td>\n",
       "    </tr>\n",
       "    <tr>\n",
       "      <th>11999</th>\n",
       "      <td>0</td>\n",
       "      <td>1</td>\n",
       "      <td>0.0</td>\n",
       "      <td>0.0</td>\n",
       "      <td>0</td>\n",
       "      <td>0</td>\n",
       "      <td>0</td>\n",
       "      <td>1</td>\n",
       "      <td>0</td>\n",
       "    </tr>\n",
       "  </tbody>\n",
       "</table>\n",
       "<p>12000 rows × 9 columns</p>\n",
       "</div>"
      ],
      "text/plain": [
       "       opted_in_to_mailing_list  enabled_for_marketing_drip  adopted_user  \\\n",
       "0                             1                           0           0.0   \n",
       "1                             0                           0           1.0   \n",
       "2                             0                           0           0.0   \n",
       "3                             0                           0           0.0   \n",
       "4                             0                           0           0.0   \n",
       "...                         ...                         ...           ...   \n",
       "11995                         0                           0           0.0   \n",
       "11996                         0                           0           0.0   \n",
       "11997                         1                           1           0.0   \n",
       "11998                         0                           0           0.0   \n",
       "11999                         0                           1           0.0   \n",
       "\n",
       "       date_diff  creation_source_GUEST_INVITE  creation_source_ORG_INVITE  \\\n",
       "0            0.0                             1                           0   \n",
       "1          136.0                             0                           1   \n",
       "2            0.0                             0                           1   \n",
       "3            1.0                             1                           0   \n",
       "4            5.0                             1                           0   \n",
       "...          ...                           ...                         ...   \n",
       "11995        0.0                             0                           1   \n",
       "11996        5.0                             0                           0   \n",
       "11997        0.0                             1                           0   \n",
       "11998        2.0                             0                           0   \n",
       "11999        0.0                             0                           0   \n",
       "\n",
       "       creation_source_PERSONAL_PROJECTS  creation_source_SIGNUP  \\\n",
       "0                                      0                       0   \n",
       "1                                      0                       0   \n",
       "2                                      0                       0   \n",
       "3                                      0                       0   \n",
       "4                                      0                       0   \n",
       "...                                  ...                     ...   \n",
       "11995                                  0                       0   \n",
       "11996                                  0                       0   \n",
       "11997                                  0                       0   \n",
       "11998                                  1                       0   \n",
       "11999                                  0                       1   \n",
       "\n",
       "       creation_source_SIGNUP_GOOGLE_AUTH  \n",
       "0                                       0  \n",
       "1                                       0  \n",
       "2                                       0  \n",
       "3                                       0  \n",
       "4                                       0  \n",
       "...                                   ...  \n",
       "11995                                   0  \n",
       "11996                                   1  \n",
       "11997                                   0  \n",
       "11998                                   0  \n",
       "11999                                   0  \n",
       "\n",
       "[12000 rows x 9 columns]"
      ]
     },
     "execution_count": 80,
     "metadata": {},
     "output_type": "execute_result"
    }
   ],
   "source": [
    "dummy_merge"
   ]
  },
  {
   "cell_type": "code",
   "execution_count": 81,
   "metadata": {},
   "outputs": [
    {
     "data": {
      "image/png": "[encoded data removed]",
      "text/plain": [
       "<Figure size 640x480 with 2 Axes>"
      ]
     },
     "metadata": {},
     "output_type": "display_data"
    }
   ],
   "source": [
    "dummy_core = dummy_merge.corr()\n",
    "sns.heatmap(dummy_core, annot=True)\n",
    "plt.show()"
   ]
  },
  {
   "cell_type": "code",
   "execution_count": 82,
   "metadata": {},
   "outputs": [
    {
     "data": {
      "text/plain": [
       "adopted_user                          1.000000\n",
       "date_diff                             0.652104\n",
       "creation_source_GUEST_INVITE          0.053783\n",
       "creation_source_SIGNUP_GOOGLE_AUTH    0.036458\n",
       "creation_source_SIGNUP                0.015234\n",
       "opted_in_to_mailing_list              0.008452\n",
       "enabled_for_marketing_drip            0.007370\n",
       "creation_source_ORG_INVITE           -0.006213\n",
       "creation_source_PERSONAL_PROJECTS    -0.092252\n",
       "Name: adopted_user, dtype: float64"
      ]
     },
     "execution_count": 82,
     "metadata": {},
     "output_type": "execute_result"
    }
   ],
   "source": [
    "dummy_core['adopted_user'].sort_values(ascending=False)"
   ]
  },
  {
   "cell_type": "markdown",
   "metadata": {},
   "source": [
    "It seems from an initial EDA of the dataset, not only is when the user signed up for the product and their last login date highly correlated with whether or not the user is an adopted user, but it seems if the user was invited as a guest within the system, they seemed to be more likely to be an adopted user down the line. However, if the user was invited or within the system because of personal projects, they seemed less likely to or less correlated to become an adopted user for the product. Also it seems that the more overrepresented group of ORG_INVITE or if a user was invited by the organization they were actually not as likely to become an adopted user which is surprising and something to keep note of in terms of marketing. The ORG_INVITE column however due to its more representation would be needed to be dropped when in future development of predictive models to avoid the dummy variable trap."
   ]
  },
  {
   "cell_type": "markdown",
   "metadata": {},
   "source": [
    "## 4. Preprocessing/Modeling"
   ]
  },
  {
   "cell_type": "markdown",
   "metadata": {},
   "source": [
    "In order to develop proper insights as per determining the features from the datasets with predictive power, the dataset will have a 70/30 split to gather train and test sets in order to develop predictive models to assess feature importances to determine which features predict the target variable of 'adopted_user.\"\n",
    "\n",
    "Therefore models that have the feature_importances attritube will be assessed and hyperparameterized in order to get a working model that not only performs well but also has interpretability as per features guiding its predictions. All of the code regarding training, hyperparameterizing, and assessing the different models was taken from another take-home challenge to be applied for this excercise."
   ]
  },
  {
   "cell_type": "markdown",
   "metadata": {},
   "source": [
    "### 4.1 Train_test_split"
   ]
  },
  {
   "cell_type": "code",
   "execution_count": 83,
   "metadata": {},
   "outputs": [],
   "source": [
    "#Dropping column 'creation_source_ORG_INVITE' to avoid dummy variable trap in terms of intercollineraity between the categorical feature of 'creation_source'\n",
    "dummy_merge_cleaned = dummy_merge.drop(['creation_source_ORG_INVITE'], axis=1)"
   ]
  },
  {
   "cell_type": "code",
   "execution_count": 84,
   "metadata": {},
   "outputs": [],
   "source": [
    "#Splitting above dummy_merge_cleaned dataset into separate X and y sets for train_test_split\n",
    "X = dummy_merge_cleaned.drop(['adopted_user'],axis=1)\n",
    "y = dummy_merge_cleaned['adopted_user']"
   ]
  },
  {
   "cell_type": "code",
   "execution_count": 85,
   "metadata": {},
   "outputs": [],
   "source": [
    "X_train, x_test, y_train, y_test = train_test_split(X, y, test_size=0.3, random_state=42)"
   ]
  },
  {
   "cell_type": "markdown",
   "metadata": {},
   "source": [
    "### 4.2 Random Forest Classification"
   ]
  },
  {
   "cell_type": "markdown",
   "metadata": {},
   "source": [
    "Training Random Forest Classification Model as well as applying GridSearchCV in order to test different hyperparameters for penalty and perform 5-fold cross validation to provide a more generalizable model."
   ]
  },
  {
   "cell_type": "code",
   "execution_count": 86,
   "metadata": {},
   "outputs": [],
   "source": [
    "randForest = RandomForestClassifier()\n",
    "params_randForest = {'n_estimators':[10,50,100,200], 'criterion':['gini','entropy','log_loss'],'max_depth':[10,50,100,200]}\n",
    "randForest_grided = GridSearchCV(estimator=randForest, param_grid=params_randForest, scoring='accuracy', cv=5)"
   ]
  },
  {
   "cell_type": "code",
   "execution_count": 87,
   "metadata": {},
   "outputs": [],
   "source": [
    "start_randForest = time.time()\n",
    "randForest_grided.fit(X_train, y_train)\n",
    "end_randForest = time.time()\n",
    "total_randForest = end_randForest - start_randForest"
   ]
  },
  {
   "cell_type": "code",
   "execution_count": 88,
   "metadata": {},
   "outputs": [
    {
     "data": {
      "text/plain": [
       "array(['opted_in_to_mailing_list', 'enabled_for_marketing_drip',\n",
       "       'date_diff', 'creation_source_GUEST_INVITE',\n",
       "       'creation_source_PERSONAL_PROJECTS', 'creation_source_SIGNUP',\n",
       "       'creation_source_SIGNUP_GOOGLE_AUTH'], dtype=object)"
      ]
     },
     "execution_count": 88,
     "metadata": {},
     "output_type": "execute_result"
    }
   ],
   "source": [
    "randForest_grided.best_estimator_.feature_names_in_"
   ]
  },
  {
   "cell_type": "code",
   "execution_count": 89,
   "metadata": {},
   "outputs": [
    {
     "data": {
      "text/plain": [
       "array([0.00243869, 0.00201278, 0.98257617, 0.00134578, 0.00519405,\n",
       "       0.00225187, 0.00418066])"
      ]
     },
     "execution_count": 89,
     "metadata": {},
     "output_type": "execute_result"
    }
   ],
   "source": [
    "randForest_grided.best_estimator_.feature_importances_"
   ]
  },
  {
   "cell_type": "code",
   "execution_count": 90,
   "metadata": {},
   "outputs": [
    {
     "data": {
      "text/plain": [
       "{'criterion': 'log_loss', 'max_depth': 10, 'n_estimators': 10}"
      ]
     },
     "execution_count": 90,
     "metadata": {},
     "output_type": "execute_result"
    }
   ],
   "source": [
    "randForest_grided.best_params_"
   ]
  },
  {
   "cell_type": "code",
   "execution_count": 91,
   "metadata": {},
   "outputs": [
    {
     "name": "stdout",
     "output_type": "stream",
     "text": [
      "Random Forest Classification fit time: 55.69 seconds\n"
     ]
    }
   ],
   "source": [
    "print(f\"Random Forest Classification fit time: {total_randForest:.2f} seconds\")"
   ]
  },
  {
   "cell_type": "code",
   "execution_count": 92,
   "metadata": {},
   "outputs": [],
   "source": [
    "predict_randForest = randForest_grided.predict(x_test)"
   ]
  },
  {
   "cell_type": "code",
   "execution_count": 93,
   "metadata": {},
   "outputs": [
    {
     "data": {
      "text/plain": [
       "0.9760714285714286"
      ]
     },
     "execution_count": 93,
     "metadata": {},
     "output_type": "execute_result"
    }
   ],
   "source": [
    "randForest_grided.best_score_"
   ]
  },
  {
   "cell_type": "code",
   "execution_count": 94,
   "metadata": {},
   "outputs": [
    {
     "name": "stdout",
     "output_type": "stream",
     "text": [
      "[[2885   26]\n",
      " [  54  635]]\n"
     ]
    }
   ],
   "source": [
    "print(confusion_matrix(predict_randForest, y_test))"
   ]
  },
  {
   "cell_type": "code",
   "execution_count": 95,
   "metadata": {},
   "outputs": [],
   "source": [
    "fpr_randForest, tpr_randForest, thresholds_randForest = roc_curve(predict_randForest, y_test)"
   ]
  },
  {
   "cell_type": "code",
   "execution_count": 96,
   "metadata": {},
   "outputs": [
    {
     "data": {
      "text/plain": [
       "0.9563469528274465"
      ]
     },
     "execution_count": 96,
     "metadata": {},
     "output_type": "execute_result"
    }
   ],
   "source": [
    "randForest_roc = roc_auc_score(predict_randForest, y_test)\n",
    "randForest_roc"
   ]
  },
  {
   "cell_type": "code",
   "execution_count": 97,
   "metadata": {},
   "outputs": [
    {
     "data": {
      "image/png": "[encoded data removed]",
      "text/plain": [
       "<Figure size 640x480 with 1 Axes>"
      ]
     },
     "metadata": {},
     "output_type": "display_data"
    }
   ],
   "source": [
    "#Code to plot ROC Curve found on https://www.geeksforgeeks.org/auc-roc-curve/\n",
    "plt.plot(fpr_randForest, tpr_randForest, '-o',label='ROC')\n",
    "plt.plot([0,1],[0,1],'--',label='Baseline')\n",
    "plt.xlabel('False Postive Rate')\n",
    "plt.ylabel('True Positive Rate')\n",
    "plt.title('ROC Curve Random Forest Classifier')\n",
    "plt.legend()\n",
    "plt.show()"
   ]
  },
  {
   "cell_type": "markdown",
   "metadata": {},
   "source": [
    "### 4.3 Gradient Boosted Classification"
   ]
  },
  {
   "cell_type": "markdown",
   "metadata": {},
   "source": [
    "Training Gradient Bossting Classification Model as well as applying GridSearchCV in order to test different hyperparameters for penalty and perform 5-fold cross validation to provide a more generalizable model."
   ]
  },
  {
   "cell_type": "code",
   "execution_count": 98,
   "metadata": {},
   "outputs": [],
   "source": [
    "gradBoost = GradientBoostingClassifier()\n",
    "params_gradBoost = {'n_estimators':[10,50,100,200], 'criterion':['friedman_mse', 'squared_error'],'max_depth':[10,50,100,200], 'learning_rate':[0.001,0.01,0.1,1,2],'loss':['log_loss','exponential']}\n",
    "gradBoost_grided = GridSearchCV(estimator=gradBoost, param_grid=params_gradBoost, scoring='accuracy', cv=5)"
   ]
  },
  {
   "cell_type": "code",
   "execution_count": 99,
   "metadata": {},
   "outputs": [],
   "source": [
    "start_gradBoost = time.time()\n",
    "gradBoost_grided.fit(X_train, y_train)\n",
    "end_gradBoost = time.time()\n",
    "total_gradBoost = end_gradBoost - start_gradBoost"
   ]
  },
  {
   "cell_type": "code",
   "execution_count": 100,
   "metadata": {},
   "outputs": [
    {
     "data": {
      "text/plain": [
       "array(['opted_in_to_mailing_list', 'enabled_for_marketing_drip',\n",
       "       'date_diff', 'creation_source_GUEST_INVITE',\n",
       "       'creation_source_PERSONAL_PROJECTS', 'creation_source_SIGNUP',\n",
       "       'creation_source_SIGNUP_GOOGLE_AUTH'], dtype=object)"
      ]
     },
     "execution_count": 100,
     "metadata": {},
     "output_type": "execute_result"
    }
   ],
   "source": [
    "gradBoost_grided.best_estimator_.feature_names_in_"
   ]
  },
  {
   "cell_type": "code",
   "execution_count": 101,
   "metadata": {},
   "outputs": [
    {
     "data": {
      "text/plain": [
       "array([0.02069685, 0.0171869 , 0.90275064, 0.01807781, 0.01135708,\n",
       "       0.01551537, 0.01441536])"
      ]
     },
     "execution_count": 101,
     "metadata": {},
     "output_type": "execute_result"
    }
   ],
   "source": [
    "gradBoost_grided.best_estimator_.feature_importances_"
   ]
  },
  {
   "cell_type": "code",
   "execution_count": 102,
   "metadata": {},
   "outputs": [
    {
     "data": {
      "text/plain": [
       "{'criterion': 'squared_error',\n",
       " 'learning_rate': 2,\n",
       " 'loss': 'log_loss',\n",
       " 'max_depth': 100,\n",
       " 'n_estimators': 10}"
      ]
     },
     "execution_count": 102,
     "metadata": {},
     "output_type": "execute_result"
    }
   ],
   "source": [
    "gradBoost_grided.best_params_"
   ]
  },
  {
   "cell_type": "code",
   "execution_count": 103,
   "metadata": {},
   "outputs": [
    {
     "name": "stdout",
     "output_type": "stream",
     "text": [
      "Gradient Boosting Classification fit time: 1263.55 seconds\n"
     ]
    }
   ],
   "source": [
    "print(f\"Gradient Boosting Classification fit time: {total_gradBoost:.2f} seconds\")"
   ]
  },
  {
   "cell_type": "code",
   "execution_count": 104,
   "metadata": {},
   "outputs": [],
   "source": [
    "predict_gradBoost = gradBoost_grided.predict(x_test)"
   ]
  },
  {
   "cell_type": "code",
   "execution_count": 105,
   "metadata": {},
   "outputs": [
    {
     "data": {
      "text/plain": [
       "0.975595238095238"
      ]
     },
     "execution_count": 105,
     "metadata": {},
     "output_type": "execute_result"
    }
   ],
   "source": [
    "gradBoost_grided.best_score_"
   ]
  },
  {
   "cell_type": "code",
   "execution_count": 106,
   "metadata": {},
   "outputs": [
    {
     "name": "stdout",
     "output_type": "stream",
     "text": [
      "[[2874   25]\n",
      " [  65  636]]\n"
     ]
    }
   ],
   "source": [
    "print(confusion_matrix(predict_gradBoost, y_test))"
   ]
  },
  {
   "cell_type": "code",
   "execution_count": 107,
   "metadata": {},
   "outputs": [],
   "source": [
    "fpr_gradBoost, tpr_gradBoost, thresholds_gradBoost = roc_curve(predict_gradBoost, y_test)"
   ]
  },
  {
   "cell_type": "code",
   "execution_count": 108,
   "metadata": {},
   "outputs": [
    {
     "data": {
      "text/plain": [
       "0.9493258288189296"
      ]
     },
     "execution_count": 108,
     "metadata": {},
     "output_type": "execute_result"
    }
   ],
   "source": [
    "gradBoost_roc = roc_auc_score(predict_gradBoost, y_test)\n",
    "gradBoost_roc"
   ]
  },
  {
   "cell_type": "code",
   "execution_count": 109,
   "metadata": {},
   "outputs": [
    {
     "data": {
      "image/png": "[encoded data removed]",
      "text/plain": [
       "<Figure size 640x480 with 1 Axes>"
      ]
     },
     "metadata": {},
     "output_type": "display_data"
    }
   ],
   "source": [
    "#Code to plot ROC Curve found on https://www.geeksforgeeks.org/auc-roc-curve/\n",
    "plt.plot(fpr_gradBoost, tpr_gradBoost, '-o',label='ROC')\n",
    "plt.plot([0,1],[0,1],'--',label='Baseline')\n",
    "plt.xlabel('False Postive Rate')\n",
    "plt.ylabel('True Positive Rate')\n",
    "plt.title('ROC Curve Gradient Boosting Classifier')\n",
    "plt.legend()\n",
    "plt.show()"
   ]
  },
  {
   "cell_type": "markdown",
   "metadata": {},
   "source": [
    "### 4.4 AdaBoost Classification (Random Forest Classification Base)"
   ]
  },
  {
   "cell_type": "markdown",
   "metadata": {},
   "source": [
    "Training AdaBoost Classification Model applying the above best Random Forest Model to be improved as well as applying GridSearchCV in order to test different hyperparameters for penalty and perform 5-fold cross validation to provide a more generalizable model."
   ]
  },
  {
   "cell_type": "code",
   "execution_count": 110,
   "metadata": {},
   "outputs": [
    {
     "data": {
      "text/plain": [
       "{'criterion': 'log_loss', 'max_depth': 10, 'n_estimators': 10}"
      ]
     },
     "execution_count": 110,
     "metadata": {},
     "output_type": "execute_result"
    }
   ],
   "source": [
    "randForest_grided.best_params_"
   ]
  },
  {
   "cell_type": "code",
   "execution_count": 111,
   "metadata": {},
   "outputs": [],
   "source": [
    "adaBoost = AdaBoostClassifier(estimator = RandomForestClassifier(criterion = 'gini', max_depth = 10, n_estimators = 10))\n",
    "params_adaBoost = {'n_estimators':[10,50,100,200], 'learning_rate':[0.001,0.01,0.1,1,2]}\n",
    "adaBoost_grided = GridSearchCV(estimator=adaBoost, param_grid=params_adaBoost, scoring='accuracy', cv=5)"
   ]
  },
  {
   "cell_type": "code",
   "execution_count": 112,
   "metadata": {},
   "outputs": [],
   "source": [
    "start_adaBoost = time.time()\n",
    "adaBoost_grided.fit(X_train, y_train)\n",
    "end_adaBoost = time.time()\n",
    "total_adaBoost = end_gradBoost - start_gradBoost"
   ]
  },
  {
   "cell_type": "code",
   "execution_count": 113,
   "metadata": {},
   "outputs": [
    {
     "data": {
      "text/plain": [
       "array(['opted_in_to_mailing_list', 'enabled_for_marketing_drip',\n",
       "       'date_diff', 'creation_source_GUEST_INVITE',\n",
       "       'creation_source_PERSONAL_PROJECTS', 'creation_source_SIGNUP',\n",
       "       'creation_source_SIGNUP_GOOGLE_AUTH'], dtype=object)"
      ]
     },
     "execution_count": 113,
     "metadata": {},
     "output_type": "execute_result"
    }
   ],
   "source": [
    "adaBoost_grided.best_estimator_.feature_names_in_"
   ]
  },
  {
   "cell_type": "code",
   "execution_count": 114,
   "metadata": {},
   "outputs": [
    {
     "data": {
      "text/plain": [
       "array([0.00153923, 0.00137706, 0.98211741, 0.00183996, 0.00566597,\n",
       "       0.00269107, 0.0047693 ])"
      ]
     },
     "execution_count": 114,
     "metadata": {},
     "output_type": "execute_result"
    }
   ],
   "source": [
    "adaBoost_grided.best_estimator_.feature_importances_"
   ]
  },
  {
   "cell_type": "code",
   "execution_count": 115,
   "metadata": {},
   "outputs": [
    {
     "name": "stdout",
     "output_type": "stream",
     "text": [
      "AdaBoost Classification w/ Random Forest Classification fit time: 1263.55 seconds\n"
     ]
    }
   ],
   "source": [
    "print(f\"AdaBoost Classification w/ Random Forest Classification fit time: {total_adaBoost:.2f} seconds\")"
   ]
  },
  {
   "cell_type": "code",
   "execution_count": 116,
   "metadata": {},
   "outputs": [
    {
     "data": {
      "text/plain": [
       "{'learning_rate': 0.001, 'n_estimators': 10}"
      ]
     },
     "execution_count": 116,
     "metadata": {},
     "output_type": "execute_result"
    }
   ],
   "source": [
    "adaBoost_grided.best_params_"
   ]
  },
  {
   "cell_type": "code",
   "execution_count": 117,
   "metadata": {},
   "outputs": [],
   "source": [
    "predict_adaBoost = adaBoost_grided.predict(x_test)"
   ]
  },
  {
   "cell_type": "code",
   "execution_count": 118,
   "metadata": {},
   "outputs": [
    {
     "data": {
      "text/plain": [
       "0.9757142857142856"
      ]
     },
     "execution_count": 118,
     "metadata": {},
     "output_type": "execute_result"
    }
   ],
   "source": [
    "adaBoost_grided.best_score_"
   ]
  },
  {
   "cell_type": "code",
   "execution_count": 119,
   "metadata": {},
   "outputs": [
    {
     "name": "stdout",
     "output_type": "stream",
     "text": [
      "[[2890   26]\n",
      " [  49  635]]\n"
     ]
    }
   ],
   "source": [
    "print(confusion_matrix(predict_adaBoost, y_test))"
   ]
  },
  {
   "cell_type": "code",
   "execution_count": 120,
   "metadata": {},
   "outputs": [],
   "source": [
    "fpr_adaBoost, tpr_adaBoost, thresholds_adaBoost = roc_curve(predict_adaBoost, y_test)"
   ]
  },
  {
   "cell_type": "code",
   "execution_count": 121,
   "metadata": {},
   "outputs": [
    {
     "data": {
      "text/plain": [
       "0.9597231246841382"
      ]
     },
     "execution_count": 121,
     "metadata": {},
     "output_type": "execute_result"
    }
   ],
   "source": [
    "adaBoost_roc = roc_auc_score(predict_adaBoost, y_test)\n",
    "adaBoost_roc"
   ]
  },
  {
   "cell_type": "code",
   "execution_count": 122,
   "metadata": {},
   "outputs": [
    {
     "data": {
      "image/png": "[encoded data removed]",
      "text/plain": [
       "<Figure size 640x480 with 1 Axes>"
      ]
     },
     "metadata": {},
     "output_type": "display_data"
    }
   ],
   "source": [
    "#Code to plot ROC Curve found on https://www.geeksforgeeks.org/auc-roc-curve/\n",
    "plt.plot(fpr_adaBoost, tpr_adaBoost, '-o',label='ROC')\n",
    "plt.plot([0,1],[0,1],'--',label='Baseline')\n",
    "plt.xlabel('False Postive Rate')\n",
    "plt.ylabel('True Positive Rate')\n",
    "plt.title('ROC Curve Ada Boost w/ Random Forest Classifier')\n",
    "plt.legend()\n",
    "plt.show()"
   ]
  },
  {
   "cell_type": "markdown",
   "metadata": {},
   "source": [
    "### 4.5 AdaBoost Classification (Gradient Boosting Classification Base)"
   ]
  },
  {
   "cell_type": "markdown",
   "metadata": {},
   "source": [
    "Training AdaBoost Classification Model applying the above best Gradient Boosting Classification Model to be improved as well as applying GridSearchCV in order to test different hyperparameters for penalty and perform 5-fold cross validation to provide a more generalizable model."
   ]
  },
  {
   "cell_type": "code",
   "execution_count": 123,
   "metadata": {},
   "outputs": [
    {
     "data": {
      "text/plain": [
       "{'criterion': 'squared_error',\n",
       " 'learning_rate': 2,\n",
       " 'loss': 'log_loss',\n",
       " 'max_depth': 100,\n",
       " 'n_estimators': 10}"
      ]
     },
     "execution_count": 123,
     "metadata": {},
     "output_type": "execute_result"
    }
   ],
   "source": [
    "gradBoost_grided.best_params_"
   ]
  },
  {
   "cell_type": "code",
   "execution_count": 124,
   "metadata": {},
   "outputs": [],
   "source": [
    "adaBoost_grad = AdaBoostClassifier(estimator = GradientBoostingClassifier(criterion='friedman_mse', learning_rate=0.01, loss='log_loss', max_depth = 10, n_estimators = 50))\n",
    "params_adaBoost_grad = {'n_estimators':[10,50,100,200], 'learning_rate':[0.001,0.01,0.1,1,2]}\n",
    "adaBoost_grided_grad = GridSearchCV(estimator=adaBoost_grad, param_grid=params_adaBoost_grad, scoring='accuracy', cv=5)"
   ]
  },
  {
   "cell_type": "code",
   "execution_count": 125,
   "metadata": {},
   "outputs": [],
   "source": [
    "start_adaBoost_grad = time.time()\n",
    "adaBoost_grided_grad.fit(X_train, y_train)\n",
    "end_adaBoost_grad = time.time()\n",
    "total_adaBoost_grad = end_gradBoost - start_gradBoost"
   ]
  },
  {
   "cell_type": "code",
   "execution_count": 126,
   "metadata": {},
   "outputs": [
    {
     "data": {
      "text/plain": [
       "array(['opted_in_to_mailing_list', 'enabled_for_marketing_drip',\n",
       "       'date_diff', 'creation_source_GUEST_INVITE',\n",
       "       'creation_source_PERSONAL_PROJECTS', 'creation_source_SIGNUP',\n",
       "       'creation_source_SIGNUP_GOOGLE_AUTH'], dtype=object)"
      ]
     },
     "execution_count": 126,
     "metadata": {},
     "output_type": "execute_result"
    }
   ],
   "source": [
    "adaBoost_grided_grad.best_estimator_.feature_names_in_"
   ]
  },
  {
   "cell_type": "code",
   "execution_count": 127,
   "metadata": {},
   "outputs": [
    {
     "data": {
      "text/plain": [
       "array([0.00562767, 0.0067658 , 0.96147021, 0.00641262, 0.00633509,\n",
       "       0.00628264, 0.00710597])"
      ]
     },
     "execution_count": 127,
     "metadata": {},
     "output_type": "execute_result"
    }
   ],
   "source": [
    "adaBoost_grided_grad.best_estimator_.feature_importances_"
   ]
  },
  {
   "cell_type": "code",
   "execution_count": 128,
   "metadata": {},
   "outputs": [
    {
     "name": "stdout",
     "output_type": "stream",
     "text": [
      "AdaBoost Classification w/ Random Forest Classification fit time: 1263.55 seconds\n"
     ]
    }
   ],
   "source": [
    "print(f\"AdaBoost Classification w/ Random Forest Classification fit time: {total_adaBoost_grad:.2f} seconds\")"
   ]
  },
  {
   "cell_type": "code",
   "execution_count": 129,
   "metadata": {},
   "outputs": [],
   "source": [
    "predict_adaBoost_grad = adaBoost_grided_grad.predict(x_test)"
   ]
  },
  {
   "cell_type": "code",
   "execution_count": 130,
   "metadata": {},
   "outputs": [
    {
     "data": {
      "text/plain": [
       "{'learning_rate': 1, 'n_estimators': 10}"
      ]
     },
     "execution_count": 130,
     "metadata": {},
     "output_type": "execute_result"
    }
   ],
   "source": [
    "adaBoost_grided_grad.best_params_"
   ]
  },
  {
   "cell_type": "code",
   "execution_count": 131,
   "metadata": {},
   "outputs": [
    {
     "data": {
      "text/plain": [
       "0.9764285714285714"
      ]
     },
     "execution_count": 131,
     "metadata": {},
     "output_type": "execute_result"
    }
   ],
   "source": [
    "adaBoost_grided_grad.best_score_"
   ]
  },
  {
   "cell_type": "code",
   "execution_count": 132,
   "metadata": {},
   "outputs": [
    {
     "name": "stdout",
     "output_type": "stream",
     "text": [
      "[[2889   25]\n",
      " [  50  636]]\n"
     ]
    }
   ],
   "source": [
    "print(confusion_matrix(predict_adaBoost_grad, y_test))"
   ]
  },
  {
   "cell_type": "code",
   "execution_count": 133,
   "metadata": {},
   "outputs": [],
   "source": [
    "fpr_adaBoost_grad, tpr_adaBoost_grad, thresholds_adaBoost_grad = roc_curve(predict_adaBoost_grad, y_test)"
   ]
  },
  {
   "cell_type": "code",
   "execution_count": 134,
   "metadata": {},
   "outputs": [
    {
     "data": {
      "text/plain": [
       "0.9592672150731065"
      ]
     },
     "execution_count": 134,
     "metadata": {},
     "output_type": "execute_result"
    }
   ],
   "source": [
    "adaBoost_grad_roc = roc_auc_score(predict_adaBoost_grad, y_test)\n",
    "adaBoost_grad_roc"
   ]
  },
  {
   "cell_type": "code",
   "execution_count": 135,
   "metadata": {},
   "outputs": [
    {
     "data": {
      "image/png": "[encoded data removed]",
      "text/plain": [
       "<Figure size 640x480 with 1 Axes>"
      ]
     },
     "metadata": {},
     "output_type": "display_data"
    }
   ],
   "source": [
    "#Code to plot ROC Curve found on https://www.geeksforgeeks.org/auc-roc-curve/\n",
    "plt.plot(fpr_adaBoost_grad, tpr_adaBoost_grad, '-o',label='ROC')\n",
    "plt.plot([0,1],[0,1],'--',label='Baseline')\n",
    "plt.xlabel('False Postive Rate')\n",
    "plt.ylabel('True Positive Rate')\n",
    "plt.title('ROC Curve Ada Boost w/ Gradient Boosting Classifier')\n",
    "plt.legend()\n",
    "plt.show()"
   ]
  },
  {
   "cell_type": "markdown",
   "metadata": {},
   "source": [
    "## 5. Conclusions/Further Study"
   ]
  },
  {
   "cell_type": "markdown",
   "metadata": {},
   "source": [
    "### 5.1 Summary Table/Model Results"
   ]
  },
  {
   "cell_type": "code",
   "execution_count": 136,
   "metadata": {},
   "outputs": [],
   "source": [
    "summary = {'Model_Name':['Random Forest Classifier', 'Gradient Boosted Classifier', 'AdaBoost w/ Random Forest', 'AdaBoost w/ Gradient Boosted'], 'Accuracy':[randForest_grided.best_score_, gradBoost_grided.best_score_,adaBoost_grided.best_score_,adaBoost_grided_grad.best_score_], 'ROC_AUC_Score':[randForest_roc, gradBoost_roc, adaBoost_roc, adaBoost_grad_roc], \"Training Time (sec)\":[total_randForest, total_gradBoost, total_adaBoost, total_adaBoost_grad]}"
   ]
  },
  {
   "cell_type": "code",
   "execution_count": 137,
   "metadata": {},
   "outputs": [
    {
     "data": {
      "text/html": [
       "<div>\n",
       "<style scoped>\n",
       "    .dataframe tbody tr th:only-of-type {\n",
       "        vertical-align: middle;\n",
       "    }\n",
       "\n",
       "    .dataframe tbody tr th {\n",
       "        vertical-align: top;\n",
       "    }\n",
       "\n",
       "    .dataframe thead th {\n",
       "        text-align: right;\n",
       "    }\n",
       "</style>\n",
       "<table border=\"1\" class=\"dataframe\">\n",
       "  <thead>\n",
       "    <tr style=\"text-align: right;\">\n",
       "      <th></th>\n",
       "      <th>Model_Name</th>\n",
       "      <th>Accuracy</th>\n",
       "      <th>ROC_AUC_Score</th>\n",
       "      <th>Training Time (sec)</th>\n",
       "    </tr>\n",
       "  </thead>\n",
       "  <tbody>\n",
       "    <tr>\n",
       "      <th>0</th>\n",
       "      <td>Random Forest Classifier</td>\n",
       "      <td>0.976071</td>\n",
       "      <td>0.956347</td>\n",
       "      <td>55.688117</td>\n",
       "    </tr>\n",
       "    <tr>\n",
       "      <th>1</th>\n",
       "      <td>Gradient Boosted Classifier</td>\n",
       "      <td>0.975595</td>\n",
       "      <td>0.949326</td>\n",
       "      <td>1263.554496</td>\n",
       "    </tr>\n",
       "    <tr>\n",
       "      <th>2</th>\n",
       "      <td>AdaBoost w/ Random Forest</td>\n",
       "      <td>0.975714</td>\n",
       "      <td>0.959723</td>\n",
       "      <td>1263.554496</td>\n",
       "    </tr>\n",
       "    <tr>\n",
       "      <th>3</th>\n",
       "      <td>AdaBoost w/ Gradient Boosted</td>\n",
       "      <td>0.976429</td>\n",
       "      <td>0.959267</td>\n",
       "      <td>1263.554496</td>\n",
       "    </tr>\n",
       "  </tbody>\n",
       "</table>\n",
       "</div>"
      ],
      "text/plain": [
       "                     Model_Name  Accuracy  ROC_AUC_Score  Training Time (sec)\n",
       "0      Random Forest Classifier  0.976071       0.956347            55.688117\n",
       "1   Gradient Boosted Classifier  0.975595       0.949326          1263.554496\n",
       "2     AdaBoost w/ Random Forest  0.975714       0.959723          1263.554496\n",
       "3  AdaBoost w/ Gradient Boosted  0.976429       0.959267          1263.554496"
      ]
     },
     "execution_count": 137,
     "metadata": {},
     "output_type": "execute_result"
    }
   ],
   "source": [
    "summary_df = pd.DataFrame(summary)\n",
    "summary_df"
   ]
  },
  {
   "cell_type": "code",
   "execution_count": 138,
   "metadata": {},
   "outputs": [
    {
     "data": {
      "text/plain": [
       "array([0.00243869, 0.00201278, 0.98257617, 0.00134578, 0.00519405,\n",
       "       0.00225187, 0.00418066])"
      ]
     },
     "execution_count": 138,
     "metadata": {},
     "output_type": "execute_result"
    }
   ],
   "source": [
    "randForest_grided.best_estimator_.feature_importances_"
   ]
  },
  {
   "cell_type": "code",
   "execution_count": 139,
   "metadata": {},
   "outputs": [],
   "source": [
    "feature_dict = {}\n",
    "for i in range(len(randForest_grided.best_estimator_.feature_importances_)):\n",
    "    feature_dict[randForest_grided.best_estimator_.feature_names_in_[i]] = randForest_grided.best_estimator_.feature_importances_[i]"
   ]
  },
  {
   "cell_type": "code",
   "execution_count": 140,
   "metadata": {},
   "outputs": [
    {
     "data": {
      "text/html": [
       "<div>\n",
       "<style scoped>\n",
       "    .dataframe tbody tr th:only-of-type {\n",
       "        vertical-align: middle;\n",
       "    }\n",
       "\n",
       "    .dataframe tbody tr th {\n",
       "        vertical-align: top;\n",
       "    }\n",
       "\n",
       "    .dataframe thead th {\n",
       "        text-align: right;\n",
       "    }\n",
       "</style>\n",
       "<table border=\"1\" class=\"dataframe\">\n",
       "  <thead>\n",
       "    <tr style=\"text-align: right;\">\n",
       "      <th></th>\n",
       "      <th>opted_in_to_mailing_list</th>\n",
       "      <th>enabled_for_marketing_drip</th>\n",
       "      <th>date_diff</th>\n",
       "      <th>creation_source_GUEST_INVITE</th>\n",
       "      <th>creation_source_PERSONAL_PROJECTS</th>\n",
       "      <th>creation_source_SIGNUP</th>\n",
       "      <th>creation_source_SIGNUP_GOOGLE_AUTH</th>\n",
       "    </tr>\n",
       "  </thead>\n",
       "  <tbody>\n",
       "    <tr>\n",
       "      <th>0</th>\n",
       "      <td>0.002439</td>\n",
       "      <td>0.002013</td>\n",
       "      <td>0.982576</td>\n",
       "      <td>0.001346</td>\n",
       "      <td>0.005194</td>\n",
       "      <td>0.002252</td>\n",
       "      <td>0.004181</td>\n",
       "    </tr>\n",
       "  </tbody>\n",
       "</table>\n",
       "</div>"
      ],
      "text/plain": [
       "   opted_in_to_mailing_list  enabled_for_marketing_drip  date_diff  \\\n",
       "0                  0.002439                    0.002013   0.982576   \n",
       "\n",
       "   creation_source_GUEST_INVITE  creation_source_PERSONAL_PROJECTS  \\\n",
       "0                      0.001346                           0.005194   \n",
       "\n",
       "   creation_source_SIGNUP  creation_source_SIGNUP_GOOGLE_AUTH  \n",
       "0                0.002252                            0.004181  "
      ]
     },
     "execution_count": 140,
     "metadata": {},
     "output_type": "execute_result"
    }
   ],
   "source": [
    "feature_df = pd.DataFrame([feature_dict])\n",
    "feature_df"
   ]
  },
  {
   "cell_type": "markdown",
   "metadata": {},
   "source": [
    "### 5.2 Discussion/Further Study"
   ]
  },
  {
   "cell_type": "markdown",
   "metadata": {},
   "source": [
    "After an EDA of the merged datasets, it seems there are a few factors that have correlations with the target variable of whether or not a user will be an adopted user. Repeating the above findings: The highest correlation was not only is when the user signed up for the product and their last login dater, but it seems also that if the user was invited as a guest within the system, they seemed to be more likely to be an adopted user down the line. However, if the user was invited or within the system because of personal projects, they seemed less likely to or less correlated to become an adopted user for the product. Also, it seems that the more overrepresented group of ORG_INVITE or if a user was invited by the organization they were actually not as likely to become an adopted user. \n",
    "\n",
    "After constructing and assessing several predictive models to determine feature_importances, it appears the model of choice as per accuracy, ROC AUC values, and Training Time would be the Random Forest Classifier. Then assessing the model's feature importances, few factors seemed to affect the predictability of the model namely the engineered feature 'date_diff', 'creation_soruce_PERSONAL_PROJECTS' and 'creation_source_SIGNUP_GOOGLE_AUTH.' Therefore not only is when the user signed up and their last login time an important feature affect whether or not the user will be an adopted user, but it seemed from feature_importances that if a user was invited to create a login account through working with another user's personal project or if the user signed up for the product via a Google account they were likely to become longer termed members or adopted users. Therefore, incentivizing the current user base to have more outside collaboration on projects (such as discounts for partner projects) as well as streamlining product sign ups (maybe on main company website) to be more via Google authentication instead of for example within the website itself, should potentially lead to more adopted users for the product. However, as mentioned further study will need to undertaken in order to garner a more accurate understanding of the data behavior especially as per null values within the 'last_session_creation_time' field. Also, more hyperparameters could be tested for the different models in order to achieve a better performance such as learning_rate.  \n",
    "\n",
    "This concludes the above study."
   ]
  },
  {
   "cell_type": "code",
   "execution_count": null,
   "metadata": {},
   "outputs": [],
   "source": []
  }
 ],
 "metadata": {
  "kernelspec": {
   "display_name": "Python 3 (ipykernel)",
   "language": "python",
   "name": "python3"
  },
  "language_info": {
   "codemirror_mode": {
    "name": "ipython",
    "version": 3
   },
   "file_extension": ".py",
   "mimetype": "text/x-python",
   "name": "python",
   "nbconvert_exporter": "python",
   "pygments_lexer": "ipython3",
   "version": "3.10.9"
  },
  "toc": {
   "base_numbering": 1,
   "nav_menu": {},
   "number_sections": true,
   "sideBar": true,
   "skip_h1_title": false,
   "title_cell": "Table of Contents",
   "title_sidebar": "Contents",
   "toc_cell": false,
   "toc_position": {},
   "toc_section_display": true,
   "toc_window_display": true
  },
  "varInspector": {
   "cols": {
    "lenName": 16,
    "lenType": 16,
    "lenVar": 40
   },
   "kernels_config": {
    "python": {
     "delete_cmd_postfix": "",
     "delete_cmd_prefix": "del ",
     "library": "var_list.py",
     "varRefreshCmd": "print(var_dic_list())"
    },
    "r": {
     "delete_cmd_postfix": ") ",
     "delete_cmd_prefix": "rm(",
     "library": "var_list.r",
     "varRefreshCmd": "cat(var_dic_list()) "
    }
   },
   "types_to_exclude": [
    "module",
    "function",
    "builtin_function_or_method",
    "instance",
    "_Feature"
   ],
   "window_display": false
  }
 },
 "nbformat": 4,
 "nbformat_minor": 4
}
